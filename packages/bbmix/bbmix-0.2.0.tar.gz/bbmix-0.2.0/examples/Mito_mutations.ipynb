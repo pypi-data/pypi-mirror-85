{
 "cells": [
  {
   "cell_type": "markdown",
   "metadata": {},
   "source": [
    "# Betabinomial mixture model for detecting mitochondria variants"
   ]
  },
  {
   "cell_type": "code",
   "execution_count": 1,
   "metadata": {},
   "outputs": [],
   "source": [
    "import bbmix\n",
    "import numpy as np\n",
    "from scipy import sparse\n",
    "from scipy.io import mmread\n",
    "import matplotlib.pyplot as plt"
   ]
  },
  {
   "cell_type": "code",
   "execution_count": 2,
   "metadata": {},
   "outputs": [
    {
     "data": {
      "text/plain": [
       "((9, 81), (9, 81))"
      ]
     },
     "execution_count": 2,
     "metadata": {},
     "output_type": "execute_result"
    }
   ],
   "source": [
    "AD = mmread(\"../data/mitoDNA/cellSNP.tag.AD.mtx\").tocsc().toarray()\n",
    "DP = mmread(\"../data/mitoDNA/cellSNP.tag.DP.mtx\").tocsc().toarray()\n",
    "AD.shape, DP.shape"
   ]
  },
  {
   "cell_type": "markdown",
   "metadata": {},
   "source": [
    "### Run on all variants"
   ]
  },
  {
   "cell_type": "code",
   "execution_count": 3,
   "metadata": {},
   "outputs": [
    {
     "name": "stdout",
     "output_type": "stream",
     "text": [
      "0 mode1: 3762.45\tmodel2:3760.84\tp: 3.590e-01\n",
      "1 mode1: 158787.75\tmodel2:158755.41\tp: 5.863e-14\n",
      "2 mode1: 6631.89\tmodel2:6620.92\tp: 6.686e-05\n",
      "3 mode1: 18800.42\tmodel2:18800.36\tp: 9.902e-01\n",
      "4 mode1: 85371.67\tmodel2:85333.99\tp: 3.053e-16\n",
      "5 mode1: 18068.62\tmodel2:18022.85\tp: 1.026e-19\n",
      "6 mode1: 10041.48\tmodel2:9984.59\tp: 1.693e-24\n",
      "7 mode1: 4618.31\tmodel2:4617.40\tp: 6.076e-01\n",
      "8 mode1: 4436.28\tmodel2:4435.06\tp: 4.866e-01\n"
     ]
    }
   ],
   "source": [
    "from bbmix.models import MixtureBetaBinomial\n",
    "\n",
    "model1 = MixtureBetaBinomial(n_components = 1, max_m_step_iter=250, tor=1e-10, n_init_searches=10)\n",
    "model2 = MixtureBetaBinomial(n_components = 2, max_m_step_iter=250, tor=1e-10, n_init_searches=20)\n",
    "\n",
    "for i in range(AD.shape[0]):\n",
    "    a = AD[i, :]\n",
    "    d = DP[i, :]\n",
    "    idx = d >= 10\n",
    "    a, d = a[idx], d[idx]\n",
    "    \n",
    "    params1 = model1.fit((a, d), max_iters=500, init_method=\"mixbin\", early_stop=False)\n",
    "    params2 = model2.fit((a, d), max_iters=1000, init_method=\"mixbin\", early_stop=False)\n",
    "    p_val = bbmix.models.LR_test(model1.losses[-1] - model2.losses[-1], df = 3)\n",
    "    print(i, \"mode1: %.2f\\tmodel2:%.2f\\tp: %.3e\" %(model1.losses[-1], model2.losses[-1], p_val))"
   ]
  },
  {
   "cell_type": "markdown",
   "metadata": {},
   "source": [
    "### Test variant 1"
   ]
  },
  {
   "cell_type": "code",
   "execution_count": 4,
   "metadata": {},
   "outputs": [],
   "source": [
    "from bbmix.models import MixtureBetaBinomial\n",
    "\n",
    "model1 = MixtureBetaBinomial(n_components = 1, max_m_step_iter=500, tor=1e-10, n_init_searches=10)\n",
    "model2 = MixtureBetaBinomial(n_components = 2, max_m_step_iter=500, tor=1e-10, n_init_searches=20)"
   ]
  },
  {
   "cell_type": "code",
   "execution_count": 5,
   "metadata": {},
   "outputs": [
    {
     "data": {
      "text/plain": [
       "(array([ 757, 1389, 1848, 2786,  840,    0, 3235,  556,    0,    0, 1481,\n",
       "           0,    0,    0, 2309,  975, 2906, 1373,    0, 2350, 1079,  702,\n",
       "           0, 1170,    2,    0, 1326,  747,   79,   84,   73,  106,   85,\n",
       "          70,   52,  121,  121,   84,   96,   96,   84,   53,   68,   75,\n",
       "         102,   52,   54,  101,   84,   98,   70,   47,  117,   85,   57,\n",
       "         103,  122,   89,   30,   57,   88,   91,  129,   62,   47,   54,\n",
       "          62,  105,   66,   77,   92,   46,   71,   70,   76,   90,   89,\n",
       "         111,   97,   84,   73], dtype=int64),\n",
       " array([56285, 57048, 85197, 75299, 70820,     1, 70177, 59266,     2,\n",
       "            1, 52240,     0,     0,     2, 69510, 61508, 65161, 49149,\n",
       "            4, 54536, 48494, 42745,     1, 57212,   259,     2, 39498,\n",
       "        52364, 74127, 57890, 63668, 64624, 71265, 52303, 55123, 74667,\n",
       "        54405, 56676, 55460, 54653, 55798, 55346, 56837, 70769, 61141,\n",
       "        50395, 39744, 56247, 55498, 59498, 51857, 48345, 66227, 70626,\n",
       "        64131, 67302, 83652, 68812, 14171, 66700, 63063, 47321, 69648,\n",
       "        60965, 33613, 42144, 69314, 62098, 53932, 54341, 72030, 52886,\n",
       "        49829, 41071, 64270, 51953, 60375, 58282, 54488, 68061, 67319],\n",
       "       dtype=int64))"
      ]
     },
     "execution_count": 5,
     "metadata": {},
     "output_type": "execute_result"
    }
   ],
   "source": [
    "i = 1\n",
    "idx = DP[i, :] >= 0\n",
    "a = AD[i, idx]\n",
    "d = DP[i, idx]\n",
    "a, d"
   ]
  },
  {
   "cell_type": "code",
   "execution_count": 6,
   "metadata": {},
   "outputs": [
    {
     "name": "stdout",
     "output_type": "stream",
     "text": [
      "1 mode1: 158787.77\tmodel2:158764.79\tp: 5.795e-10\n",
      "1 mode1: 158787.92\tmodel2:158762.15\tp: 3.775e-11\n",
      "1 mode1: 158787.75\tmodel2:158751.25\tp: 9.699e-16\n",
      "1 mode1: 158787.69\tmodel2:158771.14\tp: 3.064e-07\n",
      "1 mode1: 158787.71\tmodel2:158767.59\tp: 9.424e-09\n",
      "1 mode1: 158787.69\tmodel2:158763.23\tp: 1.354e-10\n",
      "1 mode1: 158787.87\tmodel2:158761.93\tp: 3.155e-11\n",
      "1 mode1: 158787.82\tmodel2:158763.39\tp: 1.398e-10\n",
      "1 mode1: 158788.64\tmodel2:158754.37\tp: 8.819e-15\n",
      "1 mode1: 158788.57\tmodel2:158764.95\tp: 3.101e-10\n",
      "1 mode1: 158787.69\tmodel2:158767.37\tp: 7.747e-09\n",
      "1 mode1: 158788.85\tmodel2:158767.48\tp: 2.797e-09\n",
      "1 mode1: 158787.71\tmodel2:158752.80\tp: 4.671e-15\n",
      "1 mode1: 158787.69\tmodel2:158764.91\tp: 7.015e-10\n",
      "1 mode1: 158788.51\tmodel2:158753.06\tp: 2.731e-15\n",
      "1 mode1: 158787.84\tmodel2:158759.74\tp: 3.816e-12\n",
      "1 mode1: 158787.90\tmodel2:158761.80\tp: 2.724e-11\n",
      "1 mode1: 158787.70\tmodel2:158764.93\tp: 7.126e-10\n",
      "1 mode1: 158788.32\tmodel2:158768.70\tp: 1.552e-08\n",
      "1 mode1: 158788.11\tmodel2:158766.92\tp: 3.345e-09\n"
     ]
    }
   ],
   "source": [
    "# Multiple initializations\n",
    "\n",
    "for ite in range(20):\n",
    "    params1 = model1.fit((a, d), max_iters=500, init_method=\"mixbin\", early_stop=False)\n",
    "    params2 = model2.fit((a, d), max_iters=1000, init_method=\"mixbin\", early_stop=False)\n",
    "\n",
    "    p_val = bbmix.models.LR_test(model1.losses[-1] - model2.losses[-1], df = 3)\n",
    "    print(i, \"mode1: %.2f\\tmodel2:%.2f\\tp: %.3e\" %(model1.losses[-1], model2.losses[-1], p_val))"
   ]
  },
  {
   "cell_type": "markdown",
   "metadata": {},
   "source": [
    "### Calibration of p value - mixture of betabinomial"
   ]
  },
  {
   "cell_type": "code",
   "execution_count": 7,
   "metadata": {},
   "outputs": [],
   "source": [
    "from bbmix.models import MixtureBetaBinomial\n",
    "\n",
    "model1 = MixtureBetaBinomial(n_components = 1, max_m_step_iter=250, tor=1e-10, n_init_searches=10)\n",
    "model2 = MixtureBetaBinomial(n_components = 2, max_m_step_iter=250, tor=1e-10, n_init_searches=20)\n",
    "\n",
    "model0 = MixtureBetaBinomial(n_components = 1, max_m_step_iter=250, tor=1e-10, n_init_searches=10)\n",
    "params0 = model0.fit((a, d), max_iters=500, init_method=\"mixbin\", early_stop=True)"
   ]
  },
  {
   "cell_type": "code",
   "execution_count": 8,
   "metadata": {},
   "outputs": [],
   "source": [
    "n_iter = 100\n",
    "p_vals = np.ones(n_iter)\n",
    "\n",
    "for ite in range(n_iter):\n",
    "    a_sim = model0.sample(d)\n",
    "    params1 = model1.fit((a_sim, d), max_iters=500, init_method=\"mixbin\", early_stop=False)\n",
    "    params2 = model2.fit((a_sim, d), max_iters=500, init_method=\"mixbin\", early_stop=False)\n",
    "    p_vals[ite] = bbmix.models.LR_test(model1.losses[-1] - model2.losses[-1], df = 3)"
   ]
  },
  {
   "cell_type": "code",
   "execution_count": 9,
   "metadata": {},
   "outputs": [
    {
     "data": {
      "text/plain": [
       "Text(0.5, 1.0, 'QQ plot from Null model')"
      ]
     },
     "execution_count": 9,
     "metadata": {},
     "output_type": "execute_result"
    },
    {
     "data": {
      "image/png": "[encoded data removed]",
      "text/plain": [
       "<Figure size 432x288 with 1 Axes>"
      ]
     },
     "metadata": {
      "needs_background": "light"
     },
     "output_type": "display_data"
    }
   ],
   "source": [
    "plt.plot(-np.log10(np.linspace(0, 1, len(p_vals)+1)[1:]), \n",
    "         -np.sort(np.log10(p_vals)), 'o')\n",
    "plt.plot([0, np.log10(len(p_vals))], \n",
    "         [0, np.log10(len(p_vals))], '--', color='grey')\n",
    "plt.xlabel(\"-log10(p value), expected\")\n",
    "plt.ylabel(\"-log10(p value), observed\")\n",
    "plt.title(\"QQ plot from Null model\")"
   ]
  },
  {
   "cell_type": "code",
   "execution_count": 10,
   "metadata": {},
   "outputs": [
    {
     "data": {
      "text/plain": [
       "array([0., 0., 0., 0., 0., 0., 0., 0., 0.])"
      ]
     },
     "execution_count": 10,
     "metadata": {},
     "output_type": "execute_result"
    }
   ],
   "source": [
    "c = np.zeros((3,3))\n",
    "c[c == 0]"
   ]
  },
  {
   "cell_type": "markdown",
   "metadata": {},
   "source": [
    "### Calibration of p value - mixture of binomial"
   ]
  },
  {
   "cell_type": "code",
   "execution_count": 12,
   "metadata": {},
   "outputs": [],
   "source": [
    "from bbmix.models import MixtureBinomial\n",
    "\n",
    "model1 = MixtureBinomial(n_components = 1, tor=1e-20)\n",
    "model2 = MixtureBinomial(n_components = 2, tor=1e-20)\n",
    "\n",
    "model0 = MixtureBinomial(n_components = 1, tor=1e-20)\n",
    "params0 = model0.fit((a, d), max_iters=500, early_stop=True)"
   ]
  },
  {
   "cell_type": "code",
   "execution_count": 14,
   "metadata": {},
   "outputs": [],
   "source": [
    "n_iter = 100\n",
    "p_vals = np.ones(n_iter)\n",
    "\n",
    "for ite in range(n_iter):\n",
    "    a_sim = model0.sample(d)\n",
    "    params1 = model1.fit((a_sim, d), max_iters=500, early_stop=True)\n",
    "    params2 = model2.fit((a_sim, d), max_iters=500, early_stop=True)\n",
    "    p_vals[ite] = bbmix.models.LR_test(model1.losses[-1] - model2.losses[-1], df = 3)"
   ]
  },
  {
   "cell_type": "code",
   "execution_count": 15,
   "metadata": {},
   "outputs": [
    {
     "data": {
      "text/plain": [
       "(317.37372996109184, 317.37372996109184)"
      ]
     },
     "execution_count": 15,
     "metadata": {},
     "output_type": "execute_result"
    }
   ],
   "source": [
    "model1.losses[-1], model2.losses[-1]"
   ]
  },
  {
   "cell_type": "code",
   "execution_count": 16,
   "metadata": {},
   "outputs": [
    {
     "data": {
      "text/plain": [
       "Text(0.5, 1.0, 'QQ plot from Null model')"
      ]
     },
     "execution_count": 16,
     "metadata": {},
     "output_type": "execute_result"
    },
    {
     "data": {
      "image/png": "[encoded data removed]",
      "text/plain": [
       "<Figure size 432x288 with 1 Axes>"
      ]
     },
     "metadata": {
      "needs_background": "light"
     },
     "output_type": "display_data"
    }
   ],
   "source": [
    "plt.plot(-np.log10(np.linspace(0, 1, len(p_vals)+1)[1:]), \n",
    "         -np.sort(np.log10(p_vals)), 'o')\n",
    "plt.plot([0, np.log10(len(p_vals))], \n",
    "         [0, np.log10(len(p_vals))], '--', color='grey')\n",
    "plt.xlabel(\"-log10(p value), expected\")\n",
    "plt.ylabel(\"-log10(p value), observed\")\n",
    "plt.title(\"QQ plot from Null model\")"
   ]
  }
 ],
 "metadata": {
  "kernelspec": {
   "display_name": "Python 3",
   "language": "python",
   "name": "python3"
  },
  "language_info": {
   "codemirror_mode": {
    "name": "ipython",
    "version": 3
   },
   "file_extension": ".py",
   "mimetype": "text/x-python",
   "name": "python",
   "nbconvert_exporter": "python",
   "pygments_lexer": "ipython3",
   "version": "3.7.7"
  }
 },
 "nbformat": 4,
 "nbformat_minor": 4
}
