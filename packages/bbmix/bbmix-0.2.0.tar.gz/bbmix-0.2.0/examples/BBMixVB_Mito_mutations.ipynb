{
 "cells": [
  {
   "cell_type": "markdown",
   "metadata": {},
   "source": [
    "# Variational Bayes on Betabinomial mixture model for detecting mitochondria variants"
   ]
  },
  {
   "cell_type": "code",
   "execution_count": 1,
   "metadata": {},
   "outputs": [],
   "source": [
    "import bbmix\n",
    "import numpy as np\n",
    "from scipy import sparse\n",
    "from scipy.io import mmread\n",
    "import matplotlib.pyplot as plt"
   ]
  },
  {
   "cell_type": "code",
   "execution_count": 2,
   "metadata": {},
   "outputs": [
    {
     "data": {
      "text/plain": [
       "((500, 81), (500, 81))"
      ]
     },
     "execution_count": 2,
     "metadata": {},
     "output_type": "execute_result"
    }
   ],
   "source": [
    "AD = mmread(\"../../../Downloads/params_top500variants_frombb/top500ad.mtx\").tocsc()\n",
    "DP = mmread(\"../../../Downloads/params_top500variants_frombb/top500dp.mtx\").tocsc()\n",
    "AD.shape, DP.shape"
   ]
  },
  {
   "cell_type": "markdown",
   "metadata": {},
   "source": [
    "### Using binomial mixture for pre-filtering\n",
    "Binomial mixture model has analytical solution, so it is much more statble. For variants without clear multiple components, Binomial mixture is sufficient to rule it out."
   ]
  },
  {
   "cell_type": "code",
   "execution_count": 3,
   "metadata": {},
   "outputs": [],
   "source": [
    "from bbmix.models import BinomialMixVB, BetaBinMixVB\n",
    "\n",
    "ELBO_gain = np.zeros(AD.shape[0])\n",
    "theta_all = np.zeros((AD.shape[0], 3))\n",
    "\n",
    "for i in range(AD.shape[0]):\n",
    "    _model1 = BinomialMixVB(n_obs=AD.shape[1], n_var=1, n_components=1)\n",
    "    _model1.fit(AD[i, :], DP[i, :], min_iter=20)\n",
    "    \n",
    "    models_all = [] # multiple initials\n",
    "    for it in range(15):\n",
    "        _model2 = BinomialMixVB(n_obs=AD.shape[1], n_var=1, n_components=2)\n",
    "        _model2.fit(AD[i, :], DP[i, :], min_iter=20)\n",
    "        models_all.append(_model2)\n",
    "    _model2 = models_all[np.argmax([x.ELBO_[-1] for x in models_all])]\n",
    "    \n",
    "    ELBO_gain[i] = _model2.ELBO_[-1] - _model1.ELBO_[-1]\n",
    "    theta_all[i, :1] = _model1.theta_mu\n",
    "    theta_all[i, 1:] = _model2.theta_mu"
   ]
  },
  {
   "cell_type": "code",
   "execution_count": null,
   "metadata": {},
   "outputs": [],
   "source": []
  },
  {
   "cell_type": "code",
   "execution_count": 4,
   "metadata": {},
   "outputs": [
    {
     "name": "stdout",
     "output_type": "stream",
     "text": [
      "176 variants with >10 ELBO gain\n",
      "13 variants with >100 ELBO gain\n"
     ]
    },
    {
     "name": "stderr",
     "output_type": "stream",
     "text": [
      "/Users/yuanhua/anaconda3/lib/python3.7/site-packages/ipykernel_launcher.py:4: RuntimeWarning: invalid value encountered in log10\n",
      "  after removing the cwd from sys.path.\n",
      "/Users/yuanhua/anaconda3/lib/python3.7/site-packages/numpy/lib/histograms.py:839: RuntimeWarning: invalid value encountered in greater_equal\n",
      "  keep = (tmp_a >= first_edge)\n",
      "/Users/yuanhua/anaconda3/lib/python3.7/site-packages/numpy/lib/histograms.py:840: RuntimeWarning: invalid value encountered in less_equal\n",
      "  keep &= (tmp_a <= last_edge)\n"
     ]
    },
    {
     "data": {
      "image/png": "[encoded data removed]",
      "text/plain": [
       "<Figure size 432x288 with 1 Axes>"
      ]
     },
     "metadata": {
      "needs_background": "light"
     },
     "output_type": "display_data"
    }
   ],
   "source": [
    "print(\"%d variants with >10 ELBO gain\" %(np.sum(ELBO_gain > 10)))\n",
    "print(\"%d variants with >100 ELBO gain\" %(np.sum(ELBO_gain > 100)))\n",
    "\n",
    "plt.hist(np.log10(ELBO_gain), bins=30)\n",
    "plt.xlabel(\"log10(ELBO gain)\")\n",
    "plt.ylabel(\"n_variants\")\n",
    "plt.show()"
   ]
  },
  {
   "cell_type": "code",
   "execution_count": 7,
   "metadata": {},
   "outputs": [
    {
     "data": {
      "text/plain": [
       "(array([ 1,  2,  3,  4,  5, 68]),)"
      ]
     },
     "execution_count": 7,
     "metadata": {},
     "output_type": "execute_result"
    }
   ],
   "source": [
    "np.where(ELBO_gain>250)"
   ]
  },
  {
   "cell_type": "code",
   "execution_count": 6,
   "metadata": {},
   "outputs": [
    {
     "data": {
      "text/plain": [
       "array([100117.3817623 ,   2933.9608946 ,   5236.60442436,  12057.56773429,\n",
       "        30755.93610339,    211.1997297 ,   1754.6282598 ,    211.49882368,\n",
       "          181.11002764,    175.0474988 ,    182.9768178 ,    177.01540268,\n",
       "          186.60447575])"
      ]
     },
     "execution_count": 6,
     "metadata": {},
     "output_type": "execute_result"
    }
   ],
   "source": [
    "ELBO_gain[np.where(ELBO_gain>100)]"
   ]
  },
  {
   "cell_type": "code",
   "execution_count": null,
   "metadata": {},
   "outputs": [],
   "source": []
  },
  {
   "cell_type": "markdown",
   "metadata": {},
   "source": [
    "### Further fitting with beta-binomial VB"
   ]
  },
  {
   "cell_type": "code",
   "execution_count": null,
   "metadata": {},
   "outputs": [],
   "source": [
    "from bbmix.models import BinomialMixVB, BetaBinMixVB\n",
    "\n",
    "ELBO_gain_BB = np.zeros(AD.shape[0])\n",
    "theta_all_BB = np.zeros((AD.shape[0], 3))\n",
    "\n",
    "eff_idx = np.where(ELBO_gain > 10)[0]\n",
    "for i in eff_idx[:20]:\n",
    "    _model_BB1 = BetaBinMixVB(n_obs=AD.shape[1], n_var=1, n_components=1)\n",
    "    _model_BB1.fit(AD[i, :], DP[i, :], min_iter=20)\n",
    "    \n",
    "    _model_BB2 = BetaBinMixVB(n_obs=AD.shape[1], n_var=1, n_components=2)\n",
    "    _model_BB2.fit(AD[i, :], DP[i, :], min_iter=20)\n",
    "    \n",
    "    ELBO_gain_BB[i] = _model_BB2.ELBO_[-1] - _model_BB1.ELBO_[-1]\n",
    "    theta_all_BB[i, :1] = _model_BB1.theta_mu_hyper\n",
    "    theta_all_BB[i, 1:] = _model_BB2.theta_mu_hyper"
   ]
  },
  {
   "cell_type": "code",
   "execution_count": 46,
   "metadata": {},
   "outputs": [
    {
     "data": {
      "image/png": "[encoded data removed]",
      "text/plain": [
       "<Figure size 432x288 with 1 Axes>"
      ]
     },
     "metadata": {
      "needs_background": "light"
     },
     "output_type": "display_data"
    },
    {
     "name": "stdout",
     "output_type": "stream",
     "text": [
      "10 variants with >10 ELBO gain\n"
     ]
    }
   ],
   "source": [
    "plt.hist(ELBO_gain_BB[eff_idx])\n",
    "plt.xlabel(\"ELBO gain\")\n",
    "plt.ylabel(\"n_variants\")\n",
    "plt.show()\n",
    "\n",
    "print(\"%d variants with >10 ELBO gain\" %(np.sum(ELBO_gain_BB > 10)))"
   ]
  },
  {
   "cell_type": "code",
   "execution_count": 18,
   "metadata": {},
   "outputs": [
    {
     "data": {
      "image/png": "[encoded data removed]",
      "text/plain": [
       "<Figure size 432x288 with 1 Axes>"
      ]
     },
     "metadata": {
      "needs_background": "light"
     },
     "output_type": "display_data"
    }
   ],
   "source": [
    "plt.plot(ELBO_gain_BB[eff_idx], ELBO_gain[eff_idx], 'o')\n",
    "plt.xlabel(\"ELBO gain in Binomial mixuture model\")\n",
    "plt.ylabel(\"ELBO gain in Beta-Binomial mixuture model\")\n",
    "plt.show()"
   ]
  },
  {
   "cell_type": "markdown",
   "metadata": {},
   "source": [
    "### Multivariant model"
   ]
  },
  {
   "cell_type": "code",
   "execution_count": 40,
   "metadata": {},
   "outputs": [
    {
     "name": "stdout",
     "output_type": "stream",
     "text": [
      "-6698.043808065797\n"
     ]
    }
   ],
   "source": [
    "var_idx = np.where(ELBO_gain > 100)[0]\n",
    "_model_BB = BetaBinMixVB(n_obs=AD.shape[1], n_var=len(var_idx), n_components=3)\n",
    "\n",
    "_model_BB.fit(AD[var_idx, :], DP[var_idx, :], min_iter=20)\n",
    "print(_model_BB.ELBO_[-1])"
   ]
  },
  {
   "cell_type": "code",
   "execution_count": 41,
   "metadata": {},
   "outputs": [
    {
     "data": {
      "text/plain": [
       "[<matplotlib.lines.Line2D at 0x7fe181ae25d0>]"
      ]
     },
     "execution_count": 41,
     "metadata": {},
     "output_type": "execute_result"
    },
    {
     "data": {
      "image/png": "[encoded data removed]",
      "text/plain": [
       "<Figure size 432x288 with 1 Axes>"
      ]
     },
     "metadata": {
      "needs_background": "light"
     },
     "output_type": "display_data"
    }
   ],
   "source": [
    "plt.plot(_model_BB.ELBO_)"
   ]
  },
  {
   "cell_type": "code",
   "execution_count": 42,
   "metadata": {},
   "outputs": [
    {
     "data": {
      "text/plain": [
       "(array([[9.67511571e-04, 4.22891078e-01, 9.87299681e-04],\n",
       "        [1.44077399e-01, 2.63666754e-03, 2.47445938e-03],\n",
       "        [3.42353818e-03, 4.97712842e-03, 1.86432524e-01],\n",
       "        [1.82689627e-03, 2.03083418e-01, 4.95970103e-03],\n",
       "        [6.39328754e-04, 4.11141070e-01, 2.07153610e-02],\n",
       "        [2.42767547e-03, 2.80334758e-03, 1.95098313e-02],\n",
       "        [1.21542160e-03, 4.58969709e-02, 1.02047944e-03],\n",
       "        [7.84699925e-01, 7.53055960e-01, 7.79013084e-01],\n",
       "        [2.34439354e-01, 2.32914629e-01, 2.25947208e-01],\n",
       "        [2.35944719e-01, 2.34039688e-01, 2.26951126e-01],\n",
       "        [2.69854405e-01, 2.69071353e-01, 2.61515830e-01]]),\n",
       " array([[1618.8108017 ,   65.63478082, 1681.61302093],\n",
       "        [  89.28239092,  644.31419192,  899.92657953],\n",
       "        [ 435.66968268,  482.04572707,    5.27412272],\n",
       "        [1127.19113214,   46.53506009,  124.56749745],\n",
       "        [1148.55767831,   52.5085963 ,    5.08112576],\n",
       "        [ 457.7852326 ,  691.82072379,   12.26955902],\n",
       "        [ 694.94962243,   41.71102172,  745.90532469],\n",
       "        [  50.20100729,  276.60972397,   80.73190484],\n",
       "        [ 208.61586429,  845.26345827,  222.96520208],\n",
       "        [ 213.45313073,  889.21736601,  236.49872688],\n",
       "        [ 189.58289162,  789.44655935,  213.81300806]]))"
      ]
     },
     "execution_count": 42,
     "metadata": {},
     "output_type": "execute_result"
    }
   ],
   "source": [
    "_model_BB.theta_mu_hyper, _model_BB.theta_sum_hyper"
   ]
  },
  {
   "cell_type": "code",
   "execution_count": 43,
   "metadata": {},
   "outputs": [
    {
     "data": {
      "image/png": "[encoded data removed]",
      "text/plain": [
       "<Figure size 864x252 with 6 Axes>"
      ]
     },
     "metadata": {
      "needs_background": "light"
     },
     "output_type": "display_data"
    }
   ],
   "source": [
    "import vireoSNP\n",
    "\n",
    "fig = plt.figure(figsize=(12, 3.5))\n",
    "plt.subplot(1, 3, 1)\n",
    "im = vireoSNP.plot.heat_matrix(_model_BB.theta_mu, display_value=False)\n",
    "plt.colorbar(im)\n",
    "\n",
    "plt.subplot(1, 3, 2)\n",
    "im = vireoSNP.plot.heat_matrix(_model_BB.Z, display_value=False)\n",
    "plt.colorbar(im)\n",
    "\n",
    "plt.subplot(1, 3, 3)\n",
    "im = vireoSNP.plot.heat_matrix(_model_BB.theta_mu_hyper, display_value=False)\n",
    "plt.colorbar(im)\n",
    "\n",
    "plt.tight_layout()\n",
    "plt.show()"
   ]
  },
  {
   "cell_type": "code",
   "execution_count": null,
   "metadata": {},
   "outputs": [],
   "source": []
  }
 ],
 "metadata": {
  "kernelspec": {
   "display_name": "Python 3",
   "language": "python",
   "name": "python3"
  },
  "language_info": {
   "codemirror_mode": {
    "name": "ipython",
    "version": 3
   },
   "file_extension": ".py",
   "mimetype": "text/x-python",
   "name": "python",
   "nbconvert_exporter": "python",
   "pygments_lexer": "ipython3",
   "version": "3.7.4"
  }
 },
 "nbformat": 4,
 "nbformat_minor": 4
}
