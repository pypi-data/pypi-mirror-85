{
 "cells": [
  {
   "cell_type": "code",
   "execution_count": null,
   "metadata": {},
   "outputs": [],
   "source": [
    "\"\"\"\n",
    "This file should test the documentation is working as expected.\n",
    "\n",
    "Instructions:\n",
    "1. Click the documentation button in the toolbar. \n",
    "2. Scroll through the documentation and select 2 random functions, and make sure they have the correct information.\n",
    "    - Read the documentation in full, see if you notice any errors!\n",
    "    - Mark down what functions you look at.\n",
    "3. Close the documentation.\n",
    "4. Create three new columns, named Column1, Column2, and AVG. Set Column1 =1\n",
    "5. In AVG, write =Column and see both columns appear in the suggestion box. Take Column1, and then press enter (and the formula should submit).\n",
    "6. In Column2, write =AVG, and see both the average function and the average column. Try taking both respectively, and make sure they autofill the column correctly. \n",
    "\"\"\"\n",
    "import mitosheet\n",
    "import pandas as pd\n",
    "\n",
    "df = pd.DataFrame(data={'Names': [\"Jake Diamond-Revich\", \"Aaron Diamond-Reivich\", \"Nate Rush\"]})\n",
    "mitosheet.sheet(df)"
   ]
  }
 ],
 "metadata": {
  "kernelspec": {
   "display_name": "Python 3",
   "language": "python",
   "name": "python3"
  },
  "language_info": {
   "codemirror_mode": {
    "name": "ipython",
    "version": 3
   },
   "file_extension": ".py",
   "mimetype": "text/x-python",
   "name": "python",
   "nbconvert_exporter": "python",
   "pygments_lexer": "ipython3",
   "version": "3.8.5"
  },
  "widgets": {
   "application/vnd.jupyter.widget-state+json": {
    "state": {
     "0085e80e48e44985b45a7e49eae0885d": {
      "model_module": "mitosheet",
      "model_module_version": "^0.1.41",
      "model_name": "ExampleModel",
      "state": {
       "_model_module_version": "^0.1.41",
       "_view_module_version": "^0.1.41",
       "analysis_name": "UUID-0e7ca177-e34f-460d-9b63-32e458080720",
       "code_json": "{\"imports\": \"from mitosheet import *\", \"code\": [\"# Step 1\", \"# Make sure the columns are defined in the correct order\", \"df['B'] = 0; df['C'] = 0\", \"# Step 2\", \"df.rename(columns={\\\"B\\\": \\\"testing\\\"}, inplace=True)\", \"# Step 3\", \"df['B'] = 0\", \"df['C'] = 0\"]}",
       "column_filters_json": "[{\"SUM\": {\"condition\": \"none\", \"value\": \"\", \"type\": \"string\"}, \"C\": {\"condition\": \"none\", \"value\": \"\", \"type\": \"number\"}, \"testing\": {\"condition\": \"none\", \"value\": \"\", \"type\": \"number\"}, \"B\": {\"condition\": \"none\", \"value\": \"\", \"type\": \"number\"}}]",
       "column_spreadsheet_code_json": "[{\"SUM\": \"\", \"C\": \"=0\", \"testing\": \"=0\", \"B\": \"=0\"}]",
       "df_names_json": "{\"df_names\": [\"df\"]}",
       "layout": "IPY_MODEL_07aac3d80a10424f930145829a7b1020",
       "saved_analysis_names_json": "[\"test_save0.2763706541540273\"]",
       "sheet_json": "[{\"columns\": [\"SUM\", \"testing\", \"C\", \"B\"], \"index\": [0, 1, 2], \"data\": [[\"Jake Diamond-Revich\", 0, 0, 0], [\"Aaron Diamond-Reivich\", 0, 0, 0], [\"Nate Rush\", 0, 0, 0]]}]",
       "user_id": "nate",
       "value": "Hello World"
      }
     },
     "07aac3d80a10424f930145829a7b1020": {
      "model_module": "@jupyter-widgets/base",
      "model_module_version": "1.2.0",
      "model_name": "LayoutModel",
      "state": {}
     },
     "0d2384e9a740412a94c174190e973af4": {
      "model_module": "@jupyter-widgets/base",
      "model_module_version": "1.2.0",
      "model_name": "LayoutModel",
      "state": {}
     },
     "11547a9a758a40c2a67d7f0cf5c67219": {
      "model_module": "mitosheet",
      "model_module_version": "^0.1.41",
      "model_name": "ExampleModel",
      "state": {
       "_model_module_version": "^0.1.41",
       "_view_module_version": "^0.1.41",
       "analysis_name": "UUID-3a96b192-2c9f-4020-bfb0-f8e01880780b",
       "code_json": "{\"imports\": \"from mitosheet import *\", \"code\": [\"# Step 1\", \"df['B'] = 0\"]}",
       "column_filters_json": "[{\"test\": {\"condition\": \"none\", \"value\": \"\", \"type\": \"string\"}, \"B\": {\"condition\": \"none\", \"value\": \"\", \"type\": \"number\"}}]",
       "column_spreadsheet_code_json": "[{\"test\": \"\", \"B\": \"=0\"}]",
       "df_names_json": "{\"df_names\": [\"df\"]}",
       "layout": "IPY_MODEL_aff93b7ab9ef46cdbddcf8f02c28e7dd",
       "saved_analysis_names_json": "[\"test_save0.2763706541540273\"]",
       "sheet_json": "[{\"columns\": [\"test\", \"B\"], \"index\": [0, 1, 2], \"data\": [[\"Jake Diamond-Revich\", 0], [\"Aaron Diamond-Reivich\", 0], [\"Nate Rush\", 0]]}]",
       "user_id": "nate",
       "value": "Hello World"
      }
     },
     "21bfbe41d76f43be9bbb7075bdc2adfe": {
      "model_module": "@jupyter-widgets/base",
      "model_module_version": "1.2.0",
      "model_name": "LayoutModel",
      "state": {}
     },
     "24863ad183f641a98fbeca834615db22": {
      "model_module": "mitosheet",
      "model_module_version": "^0.1.41",
      "model_name": "ExampleModel",
      "state": {
       "_model_module_version": "^0.1.41",
       "_view_module_version": "^0.1.41",
       "analysis_name": "UUID-69597ee0-3216-4bd2-b590-2bbff7c2ab92",
       "code_json": "{\"imports\": \"from mitosheet import *\", \"code\": [\"# Step 1\", \"df['B'] = 0\", \"# Step 2\", \"df.rename(columns={\\\"test\\\": \\\"sum\\\"}, inplace=True)\", \"# Step 3\", \"df['B'] = 0\"]}",
       "column_filters_json": "[{\"B\": {\"condition\": \"none\", \"value\": \"\", \"type\": \"number\"}, \"sum\": {\"condition\": \"none\", \"value\": \"\", \"type\": \"string\"}}]",
       "column_spreadsheet_code_json": "[{\"B\": \"=0\", \"sum\": \"\"}]",
       "df_names_json": "{\"df_names\": [\"df\"]}",
       "layout": "IPY_MODEL_21bfbe41d76f43be9bbb7075bdc2adfe",
       "saved_analysis_names_json": "[\"test_save0.2763706541540273\"]",
       "sheet_json": "[{\"columns\": [\"sum\", \"B\"], \"index\": [0, 1, 2], \"data\": [[\"Jake Diamond-Revich\", 0], [\"Aaron Diamond-Reivich\", 0], [\"Nate Rush\", 0]]}]",
       "user_id": "nate",
       "value": "Hello World"
      }
     },
     "358420f62c3f45d8aaeb47baf507beeb": {
      "model_module": "mitosheet",
      "model_module_version": "^0.1.41",
      "model_name": "ExampleModel",
      "state": {
       "_model_module_version": "^0.1.41",
       "_view_module_version": "^0.1.41",
       "analysis_name": "UUID-60b5cacc-77db-4369-94a2-2a0279bf7c41",
       "code_json": "{\"imports\": \"from mitosheet import *\", \"code\": [\"# Step 1\", \"# Make sure the columns are defined in the correct order\", \"df['SUM'] = 0; df['B'] = 0\"]}",
       "column_filters_json": "[{\"test\": {\"condition\": \"none\", \"value\": \"\", \"type\": \"string\"}, \"SUM\": {\"condition\": \"none\", \"value\": \"\", \"type\": \"number\"}, \"B\": {\"condition\": \"none\", \"value\": \"\", \"type\": \"number\"}}]",
       "column_spreadsheet_code_json": "[{\"test\": \"\", \"SUM\": \"=0\", \"B\": \"=0\"}]",
       "df_names_json": "{\"df_names\": [\"df\"]}",
       "layout": "IPY_MODEL_366dc68c524a46258e3a6f96ab00b042",
       "saved_analysis_names_json": "[\"test_save0.2763706541540273\"]",
       "sheet_json": "[{\"columns\": [\"test\", \"SUM\", \"B\"], \"index\": [0, 1, 2], \"data\": [[\"Jake Diamond-Revich\", 0, 0], [\"Aaron Diamond-Reivich\", 0, 0], [\"Nate Rush\", 0, 0]]}]",
       "user_id": "nate",
       "value": "Hello World"
      }
     },
     "366dc68c524a46258e3a6f96ab00b042": {
      "model_module": "@jupyter-widgets/base",
      "model_module_version": "1.2.0",
      "model_name": "LayoutModel",
      "state": {}
     },
     "45c2374e959646e586866fd4edad7f08": {
      "model_module": "@jupyter-widgets/base",
      "model_module_version": "1.2.0",
      "model_name": "LayoutModel",
      "state": {}
     },
     "46012aa862aa44c8bcda45b3d4f47dc9": {
      "model_module": "mitosheet",
      "model_module_version": "^0.1.41",
      "model_name": "ExampleModel",
      "state": {
       "_model_module_version": "^0.1.41",
       "_view_module_version": "^0.1.41",
       "analysis_name": "UUID-eb223439-8b3f-4ad0-ada7-9ab17dff0e5f",
       "code_json": "{\"imports\": \"from mitosheet import *\", \"code\": [\"# Step 1\", \"df['B'] = 100\", \"# Step 2\", \"df.rename(columns={\\\"test\\\": \\\"SUM\\\"}, inplace=True)\", \"# Step 3\", \"df['B'] = df['SUM'] + \\\"a\\\"\"]}",
       "column_filters_json": "[{\"B\": {\"condition\": \"none\", \"value\": \"\", \"type\": \"string\"}, \"SUM\": {\"condition\": \"none\", \"value\": \"\", \"type\": \"string\"}}]",
       "column_spreadsheet_code_json": "[{\"B\": \"=SUM + \\\"a\\\"\", \"SUM\": \"\"}]",
       "df_names_json": "{\"df_names\": [\"df\"]}",
       "layout": "IPY_MODEL_0d2384e9a740412a94c174190e973af4",
       "saved_analysis_names_json": "[\"test_save0.2763706541540273\"]",
       "sheet_json": "[{\"columns\": [\"SUM\", \"B\"], \"index\": [0, 1, 2], \"data\": [[\"Jake Diamond-Revich\", \"Jake Diamond-Revicha\"], [\"Aaron Diamond-Reivich\", \"Aaron Diamond-Reivicha\"], [\"Nate Rush\", \"Nate Rusha\"]]}]",
       "user_id": "nate",
       "value": "Hello World"
      }
     },
     "53def8ed7ed04dad8cdaa89d94ddd84f": {
      "model_module": "mitosheet",
      "model_module_version": "^0.1.41",
      "model_name": "ExampleModel",
      "state": {
       "_model_module_version": "^0.1.41",
       "_view_module_version": "^0.1.41",
       "analysis_name": "UUID-8d33d1f0-db68-45a7-a6ef-d8959b2b8ce4",
       "code_json": "{\"imports\": \"from mitosheet import *\", \"code\": [\"# Step 1\", \"df['B'] = 0\"]}",
       "column_filters_json": "[{\"test\": {\"condition\": \"none\", \"value\": \"\", \"type\": \"string\"}, \"B\": {\"condition\": \"none\", \"value\": \"\", \"type\": \"number\"}}]",
       "column_spreadsheet_code_json": "[{\"test\": \"\", \"B\": \"=0\"}]",
       "df_names_json": "{\"df_names\": [\"df\"]}",
       "layout": "IPY_MODEL_e4b687dd24f540ef86b4b0f4642fe1fd",
       "saved_analysis_names_json": "[\"test_save0.2763706541540273\"]",
       "sheet_json": "[{\"columns\": [\"test\", \"B\"], \"index\": [0, 1, 2], \"data\": [[\"Jake Diamond-Revich\", 0], [\"Aaron Diamond-Reivich\", 0], [\"Nate Rush\", 0]]}]",
       "user_id": "nate",
       "value": "Hello World"
      }
     },
     "60e714dca67844cf80d5b90bf77585c5": {
      "model_module": "@jupyter-widgets/base",
      "model_module_version": "1.2.0",
      "model_name": "LayoutModel",
      "state": {}
     },
     "7384464bed07484c87f7af7cbc0e396e": {
      "model_module": "mitosheet",
      "model_module_version": "^0.1.41",
      "model_name": "ExampleModel",
      "state": {
       "_model_module_version": "^0.1.41",
       "_view_module_version": "^0.1.41",
       "analysis_name": "UUID-985c6869-447c-4b18-84f0-5c41c04c0e2f",
       "code_json": "{\"imports\": \"from mitosheet import *\", \"code\": [\"# Step 1\", \"# Make sure the columns are defined in the correct order\", \"df['B'] = 0; df['C'] = 0; df['D'] = 0\", \"# Step 2\", \"df.rename(columns={\\\"B\\\": \\\"Column1\\\"}, inplace=True)\", \"# Step 3\", \"df['D'] = 0\", \"df['C'] = 0\", \"# Step 4\", \"df.rename(columns={\\\"C\\\": \\\"Column2\\\"}, inplace=True)\", \"# Step 5\", \"df['D'] = 0\", \"# Step 6\", \"df.rename(columns={\\\"D\\\": \\\"AVG\\\"}, inplace=True)\", \"# Step 7\", \"df['Column1'] = 1\", \"df['AVG'] = df['Column1'] + 1\"]}",
       "column_filters_json": "[{\"Names\": {\"condition\": \"none\", \"value\": \"\", \"type\": \"string\"}, \"Column1\": {\"condition\": \"none\", \"value\": \"\", \"type\": \"number\"}, \"Column2\": {\"condition\": \"none\", \"value\": \"\", \"type\": \"number\"}, \"AVG\": {\"condition\": \"none\", \"value\": \"\", \"type\": \"number\"}}]",
       "column_spreadsheet_code_json": "[{\"Names\": \"\", \"Column1\": \"=1\", \"Column2\": \"=0\", \"AVG\": \"=Column1 + 1\"}]",
       "df_names_json": "{\"df_names\": [\"df\"]}",
       "layout": "IPY_MODEL_c940d642b9f94823b2efc7f9909689b3",
       "saved_analysis_names_json": "[\"test_save0.2763706541540273\"]",
       "sheet_json": "[{\"columns\": [\"Names\", \"Column1\", \"Column2\", \"AVG\"], \"index\": [0, 1, 2], \"data\": [[\"Jake Diamond-Revich\", 1, 0, 2], [\"Aaron Diamond-Reivich\", 1, 0, 2], [\"Nate Rush\", 1, 0, 2]]}]",
       "user_id": "nate",
       "value": "Hello World"
      }
     },
     "77e0da9efbac46b6afa50c867932deb9": {
      "model_module": "mitosheet",
      "model_module_version": "^0.1.41",
      "model_name": "ExampleModel",
      "state": {
       "_model_module_version": "^0.1.41",
       "_view_module_version": "^0.1.41",
       "analysis_name": "UUID-250f062e-9846-43f9-97f7-dbf3ba12bc2c",
       "code_json": "{\"imports\": \"from mitosheet import *\", \"code\": [\"# Step 1\", \"df['B'] = 0\"]}",
       "column_filters_json": "[{\"SUM\": {\"condition\": \"none\", \"value\": \"\", \"type\": \"string\"}, \"B\": {\"condition\": \"none\", \"value\": \"\", \"type\": \"number\"}}]",
       "column_spreadsheet_code_json": "[{\"SUM\": \"\", \"B\": \"=0\"}]",
       "df_names_json": "{\"df_names\": [\"df\"]}",
       "layout": "IPY_MODEL_7a19ad37b992434c8b8ec41cf3a7f637",
       "saved_analysis_names_json": "[\"test_save0.2763706541540273\"]",
       "sheet_json": "[{\"columns\": [\"SUM\", \"B\"], \"index\": [0, 1, 2], \"data\": [[\"Jake Diamond-Revich\", 0], [\"Aaron Diamond-Reivich\", 0], [\"Nate Rush\", 0]]}]",
       "user_id": "nate",
       "value": "Hello World"
      }
     },
     "7a0662a9447a41b897796b9783718065": {
      "model_module": "mitosheet",
      "model_module_version": "^0.1.41",
      "model_name": "ExampleModel",
      "state": {
       "_model_module_version": "^0.1.41",
       "_view_module_version": "^0.1.41",
       "analysis_name": "UUID-b1b75869-3c8b-4156-a578-5b6666441d61",
       "code_json": "{\"imports\": \"from mitosheet import *\", \"code\": [\"# Step 1\", \"df1['B'] = \\\"a\\\" + df1['test']\", \"# Step 2\", \"df.rename(columns={\\\"test\\\": \\\"SUM\\\"}, inplace=True)\", \"# Step 3\", \"df1['B'] = \\\"A\\\" + df1['SUM']\"]}",
       "column_filters_json": "[{\"B\": {\"condition\": \"none\", \"value\": \"\", \"type\": \"string\"}, \"SUM\": {\"condition\": \"none\", \"value\": \"\", \"type\": \"string\"}}]",
       "column_spreadsheet_code_json": "[{\"B\": \"=\\\"A\\\" + SUM\", \"SUM\": \"\"}]",
       "df_names_json": "{\"df_names\": [\"df1\"]}",
       "layout": "IPY_MODEL_aabd6910f6e942fe98e68bef0f2f0ef4",
       "saved_analysis_names_json": "[\"test_save0.2763706541540273\"]",
       "sheet_json": "[{\"columns\": [\"SUM\", \"B\"], \"index\": [0, 1, 2], \"data\": [[\"Jake Diamond-Revich\", \"AJake Diamond-Revich\"], [\"Aaron Diamond-Reivich\", \"AAaron Diamond-Reivich\"], [\"Nate Rush\", \"ANate Rush\"]]}]",
       "user_id": "nate",
       "value": "Hello World"
      }
     },
     "7a19ad37b992434c8b8ec41cf3a7f637": {
      "model_module": "@jupyter-widgets/base",
      "model_module_version": "1.2.0",
      "model_name": "LayoutModel",
      "state": {}
     },
     "8b9d4fdaeb264181bea768e2911cd474": {
      "model_module": "@jupyter-widgets/base",
      "model_module_version": "1.2.0",
      "model_name": "LayoutModel",
      "state": {}
     },
     "aabd6910f6e942fe98e68bef0f2f0ef4": {
      "model_module": "@jupyter-widgets/base",
      "model_module_version": "1.2.0",
      "model_name": "LayoutModel",
      "state": {}
     },
     "aca5eb02a5264d718ef91cbb12288788": {
      "model_module": "mitosheet",
      "model_module_version": "^0.1.41",
      "model_name": "ExampleModel",
      "state": {
       "_model_module_version": "^0.1.41",
       "_view_module_version": "^0.1.41",
       "analysis_name": "UUID-ea3dfb5c-6d1f-4fba-b24e-b595821e8b98",
       "code_json": "{\"imports\": \"from mitosheet import *\", \"code\": []}",
       "column_filters_json": "[{\"SUM\": {\"condition\": \"none\", \"value\": \"\", \"type\": \"string\"}}]",
       "column_spreadsheet_code_json": "[{\"SUM\": \"\"}]",
       "df_names_json": "{\"df_names\": [\"df\"]}",
       "layout": "IPY_MODEL_8b9d4fdaeb264181bea768e2911cd474",
       "saved_analysis_names_json": "[\"test_save0.2763706541540273\"]",
       "sheet_json": "[{\"columns\": [\"SUM\"], \"index\": [0, 1, 2], \"data\": [[\"Jake Diamond-Revich\"], [\"Aaron Diamond-Reivich\"], [\"Nate Rush\"]]}]",
       "user_id": "nate",
       "value": "Hello World"
      }
     },
     "aec2cd7a2b4c4dccace17ac643397a20": {
      "model_module": "mitosheet",
      "model_module_version": "^0.1.41",
      "model_name": "ExampleModel",
      "state": {
       "_model_module_version": "^0.1.41",
       "_view_module_version": "^0.1.41",
       "analysis_name": "UUID-fa56bf4c-4bf1-437d-b128-b452e8807175",
       "code_json": "{\"imports\": \"from mitosheet import *\", \"code\": [\"# Step 1\", \"df['B'] = 0\"]}",
       "column_filters_json": "[{\"test\": {\"condition\": \"none\", \"value\": \"\", \"type\": \"string\"}, \"B\": {\"condition\": \"none\", \"value\": \"\", \"type\": \"number\"}}]",
       "column_spreadsheet_code_json": "[{\"test\": \"\", \"B\": \"=0\"}]",
       "df_names_json": "{\"df_names\": [\"df\"]}",
       "layout": "IPY_MODEL_60e714dca67844cf80d5b90bf77585c5",
       "saved_analysis_names_json": "[\"test_save0.2763706541540273\"]",
       "sheet_json": "[{\"columns\": [\"test\", \"B\"], \"index\": [0, 1, 2], \"data\": [[\"Jake Diamond-Revich\", 0], [\"Aaron Diamond-Reivich\", 0], [\"Nate Rush\", 0]]}]",
       "user_id": "nate",
       "value": "Hello World"
      }
     },
     "aff93b7ab9ef46cdbddcf8f02c28e7dd": {
      "model_module": "@jupyter-widgets/base",
      "model_module_version": "1.2.0",
      "model_name": "LayoutModel",
      "state": {}
     },
     "c940d642b9f94823b2efc7f9909689b3": {
      "model_module": "@jupyter-widgets/base",
      "model_module_version": "1.2.0",
      "model_name": "LayoutModel",
      "state": {}
     },
     "d0e1b43831a946c2835178125016a541": {
      "model_module": "mitosheet",
      "model_module_version": "^0.1.41",
      "model_name": "ExampleModel",
      "state": {
       "_model_module_version": "^0.1.41",
       "_view_module_version": "^0.1.41",
       "analysis_name": "UUID-59928b8d-4d7c-4122-9ede-66c8bad98cc7",
       "code_json": "{\"imports\": \"from mitosheet import *\", \"code\": [\"# Step 1\", \"df['B'] = \\\"a\\\" + df['test']\", \"# Step 2\", \"df.rename(columns={\\\"test\\\": \\\"SUM\\\"}, inplace=True)\", \"# Step 3\", \"df['B'] = \\\"A\\\" + df['SUM']\"]}",
       "column_filters_json": "[{\"B\": {\"condition\": \"none\", \"value\": \"\", \"type\": \"string\"}, \"SUM\": {\"condition\": \"none\", \"value\": \"\", \"type\": \"string\"}}]",
       "column_spreadsheet_code_json": "[{\"B\": \"=\\\"A\\\" + SUM\", \"SUM\": \"\"}]",
       "df_names_json": "{\"df_names\": [\"df\"]}",
       "layout": "IPY_MODEL_45c2374e959646e586866fd4edad7f08",
       "saved_analysis_names_json": "[\"test_save0.2763706541540273\"]",
       "sheet_json": "[{\"columns\": [\"SUM\", \"B\"], \"index\": [0, 1, 2], \"data\": [[\"Jake Diamond-Revich\", \"AJake Diamond-Revich\"], [\"Aaron Diamond-Reivich\", \"AAaron Diamond-Reivich\"], [\"Nate Rush\", \"ANate Rush\"]]}]",
       "user_id": "nate",
       "value": "Hello World"
      }
     },
     "d248eecf04b14796a4202e12ed24d77c": {
      "model_module": "@jupyter-widgets/base",
      "model_module_version": "1.2.0",
      "model_name": "LayoutModel",
      "state": {}
     },
     "d6a52bb864a5428f9b912e56d73f6bfd": {
      "model_module": "mitosheet",
      "model_module_version": "^0.1.41",
      "model_name": "ExampleModel",
      "state": {
       "_model_module_version": "^0.1.41",
       "_view_module_version": "^0.1.41",
       "analysis_name": "UUID-e590b446-9020-4923-a951-d82bdc86282b",
       "code_json": "{\"imports\": \"from mitosheet import *\", \"code\": [\"# Step 1\", \"# Make sure the columns are defined in the correct order\", \"df['B'] = 0; df['C'] = 0; df['D'] = 0\"]}",
       "column_filters_json": "[{\"test\": {\"condition\": \"none\", \"value\": \"\", \"type\": \"string\"}, \"B\": {\"condition\": \"none\", \"value\": \"\", \"type\": \"number\"}, \"C\": {\"condition\": \"none\", \"value\": \"\", \"type\": \"number\"}, \"D\": {\"condition\": \"none\", \"value\": \"\", \"type\": \"number\"}}]",
       "column_spreadsheet_code_json": "[{\"test\": \"\", \"B\": \"=0\", \"C\": \"=0\", \"D\": \"=0\"}]",
       "df_names_json": "{\"df_names\": [\"df\"]}",
       "layout": "IPY_MODEL_d248eecf04b14796a4202e12ed24d77c",
       "saved_analysis_names_json": "[\"test_save0.2763706541540273\"]",
       "sheet_json": "[{\"columns\": [\"test\", \"B\", \"C\", \"D\"], \"index\": [0, 1, 2], \"data\": [[\"Jake Diamond-Revich\", 0, 0, 0], [\"Aaron Diamond-Reivich\", 0, 0, 0], [\"Nate Rush\", 0, 0, 0]]}]",
       "user_id": "nate",
       "value": "Hello World"
      }
     },
     "e4b687dd24f540ef86b4b0f4642fe1fd": {
      "model_module": "@jupyter-widgets/base",
      "model_module_version": "1.2.0",
      "model_name": "LayoutModel",
      "state": {}
     }
    },
    "version_major": 2,
    "version_minor": 0
   }
  }
 },
 "nbformat": 4,
 "nbformat_minor": 4
}
