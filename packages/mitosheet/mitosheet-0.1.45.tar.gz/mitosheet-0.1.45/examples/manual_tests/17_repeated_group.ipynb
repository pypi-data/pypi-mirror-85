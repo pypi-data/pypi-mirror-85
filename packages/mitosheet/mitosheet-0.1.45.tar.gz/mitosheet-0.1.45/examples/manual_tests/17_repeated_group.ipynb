{
 "cells": [
  {
   "cell_type": "code",
   "execution_count": null,
   "metadata": {},
   "outputs": [],
   "source": [
    "\"\"\"\n",
    "Tests grouping in a variety of different ways with all the aggregation options.\n",
    "\n",
    "Steps:\n",
    "- Run this cell.\n",
    "- Click the group button:\n",
    "    - Select df1 as the sheet\n",
    "    - Select Name as the group by key\n",
    "    - Add a value, which shuold default to (Height, sum). \n",
    "    - Click group, and check the new sheet and generated code.\n",
    "- Rerun this cell, and check that the dataframes are still defined properly.\n",
    "- Rerun this cell, and make sure all the dataframes redefine properly.\n",
    "\"\"\"\n",
    "import mitosheet\n",
    "import pandas as pd\n",
    "df1 = pd.DataFrame(data={'Name': ['Nate', 'Nate', 'Aaron', 'Aaron'], 'Height': [4, 5, 6, 7]})\n",
    "mitosheet.sheet(df1)"
   ]
  },
  {
   "cell_type": "code",
   "execution_count": null,
   "metadata": {},
   "outputs": [],
   "source": []
  },
  {
   "cell_type": "code",
   "execution_count": null,
   "metadata": {},
   "outputs": [],
   "source": []
  }
 ],
 "metadata": {
  "kernelspec": {
   "display_name": "Python 3",
   "language": "python",
   "name": "python3"
  },
  "language_info": {
   "codemirror_mode": {
    "name": "ipython",
    "version": 3
   },
   "file_extension": ".py",
   "mimetype": "text/x-python",
   "name": "python",
   "nbconvert_exporter": "python",
   "pygments_lexer": "ipython3",
   "version": "3.8.5"
  },
  "widgets": {
   "application/vnd.jupyter.widget-state+json": {
    "state": {},
    "version_major": 2,
    "version_minor": 0
   }
  }
 },
 "nbformat": 4,
 "nbformat_minor": 4
}
