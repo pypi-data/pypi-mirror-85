{
 "cells": [
  {
   "cell_type": "code",
   "execution_count": null,
   "metadata": {},
   "outputs": [],
   "source": [
    "\"\"\"\n",
    "This file should tests dates are displayed correctly in the sheet.\n",
    "\n",
    "Instructions:\n",
    "- Run this cell. \n",
    "- Check the dates in the sheet, and make sure they are displayed correctly (YYYY-MM-DD).\n",
    "- Add three new columns, and use the YEAR, MONTH, and DAY functions respectively to \n",
    "- Create a new column, and use the CONCAT function to get the new columns back to YYYY-MM-DD format as a string.\n",
    "- Create a final new column, and use the DATETIME function to return to a date (which doesn't change anything).\n",
    "- Add a new filter to the final column, getting all dates between December 1, 2001, and January 1, 2003.\n",
    "\"\"\"\n",
    "import mitosheet\n",
    "import pandas as pd\n",
    "df = pd.DataFrame({\n",
    "    'name': ['alice','bob','charlie'],\n",
    "    'dob': ['2005-10-25','2002-10-2','2001-11-14']\n",
    "})\n",
    "df['dob'] = pd.to_datetime(df['dob'])\n",
    "mitosheet.sheet(df)"
   ]
  }
 ],
 "metadata": {
  "kernelspec": {
   "display_name": "Python 3",
   "language": "python",
   "name": "python3"
  },
  "language_info": {
   "codemirror_mode": {
    "name": "ipython",
    "version": 3
   },
   "file_extension": ".py",
   "mimetype": "text/x-python",
   "name": "python",
   "nbconvert_exporter": "python",
   "pygments_lexer": "ipython3",
   "version": "3.8.5"
  },
  "widgets": {
   "application/vnd.jupyter.widget-state+json": {
    "state": {
     "0681e9c3a2b540d5a73ed88e6f3be3de": {
      "model_module": "@jupyter-widgets/base",
      "model_module_version": "1.2.0",
      "model_name": "LayoutModel",
      "state": {}
     },
     "26e7ba5452de4a9d80e506de93e30e3b": {
      "model_module": "mitosheet",
      "model_module_version": "^0.1.43",
      "model_name": "ExampleModel",
      "state": {
       "_model_module_version": "^0.1.43",
       "_view_module_version": "^0.1.43",
       "analysis_name": "UUID-0394049a-7619-4fbc-b2ab-9e12c44bb2bb",
       "code_json": "{\"imports\": \"from mitosheet import *\", \"code\": [\"# Step 1\", \"df['C'] = WEEKDAY(df['dob'])\", \"# Step 2\", \"df.drop('C', axis=1, inplace=True)\"]}",
       "column_filters_json": "[{\"name\": {\"operator\": \"And\", \"filters\": []}, \"dob\": {\"operator\": \"And\", \"filters\": []}, \"C\": {\"operator\": \"And\", \"filters\": []}}]",
       "column_spreadsheet_code_json": "[{\"name\": \"\", \"dob\": \"\"}]",
       "column_type_json": "[{\"name\": \"string\", \"dob\": \"datetime\"}]",
       "df_names_json": "{\"df_names\": [\"df\"]}",
       "layout": "IPY_MODEL_88033519a30743879843b2ec97d7588a",
       "saved_analysis_names_json": "[]",
       "sheet_json": "[{\"columns\": [\"name\", \"dob\"], \"index\": [0, 1, 2], \"data\": [[\"alice\", \"2005-10-25\"], [\"bob\", \"2002-10-02\"], [\"charlie\", \"2001-11-14\"]]}]",
       "user_id": "nate",
       "value": "Hello World"
      }
     },
     "88033519a30743879843b2ec97d7588a": {
      "model_module": "@jupyter-widgets/base",
      "model_module_version": "1.2.0",
      "model_name": "LayoutModel",
      "state": {}
     },
     "9a1f53acb7fa48cea61d5ec6cda2c40f": {
      "model_module": "mitosheet",
      "model_module_version": "^0.1.43",
      "model_name": "ExampleModel",
      "state": {
       "_model_module_version": "^0.1.43",
       "_view_module_version": "^0.1.43",
       "analysis_name": "UUID-8fa56be4-f75e-426b-9e32-a39d94dd0b51",
       "code_json": "{\"imports\": \"from mitosheet import *\", \"code\": [\"# Step 1\", \"df['C'] = WEEKDAY(df['dob'])\", \"# Step 2\", \"df.drop('C', axis=1, inplace=True)\"]}",
       "column_filters_json": "[{\"name\": {\"operator\": \"And\", \"filters\": []}, \"dob\": {\"operator\": \"And\", \"filters\": []}, \"C\": {\"operator\": \"And\", \"filters\": []}}]",
       "column_spreadsheet_code_json": "[{\"name\": \"\", \"dob\": \"\"}]",
       "column_type_json": "[{\"name\": \"string\", \"dob\": \"datetime\"}]",
       "df_names_json": "{\"df_names\": [\"df\"]}",
       "layout": "IPY_MODEL_0681e9c3a2b540d5a73ed88e6f3be3de",
       "saved_analysis_names_json": "[]",
       "sheet_json": "[{\"columns\": [\"name\", \"dob\"], \"index\": [0, 1, 2], \"data\": [[\"alice\", \"2005-10-25\"], [\"bob\", \"2002-10-02\"], [\"charlie\", \"2001-11-14\"]]}]",
       "user_id": "nate",
       "value": "Hello World"
      }
     }
    },
    "version_major": 2,
    "version_minor": 0
   }
  }
 },
 "nbformat": 4,
 "nbformat_minor": 4
}
