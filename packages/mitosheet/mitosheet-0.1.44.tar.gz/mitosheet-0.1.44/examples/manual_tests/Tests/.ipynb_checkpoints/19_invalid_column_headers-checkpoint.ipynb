{
 "cells": [
  {
   "cell_type": "code",
   "execution_count": null,
   "metadata": {},
   "outputs": [],
   "source": [
    "\"\"\"\n",
    "Tests some invalid header names can still be imported by mito, and operated on.\n",
    "\n",
    "Steps:\n",
    "- Run this cell.\n",
    "- Rename the columns to name, height, and weight respectively. \n",
    "- Create a new column, and set it equal to height / weight. \n",
    "\"\"\"\n",
    "import mitosheet\n",
    "import pandas as pd\n",
    "df1 = pd.DataFrame(data={'What is your first name?': ['Nate', 'Nate', 'Aaron', 'Aaron'], 'What is your height?!': [4, 5, 6, 7], 'Weight-Of-You': [100, 200, 300, 400]})\n",
    "mitosheet.sheet(df1)"
   ]
  }
 ],
 "metadata": {
  "kernelspec": {
   "display_name": "Python 3",
   "language": "python",
   "name": "python3"
  },
  "language_info": {
   "codemirror_mode": {
    "name": "ipython",
    "version": 3
   },
   "file_extension": ".py",
   "mimetype": "text/x-python",
   "name": "python",
   "nbconvert_exporter": "python",
   "pygments_lexer": "ipython3",
   "version": "3.8.5"
  },
  "widgets": {
   "application/vnd.jupyter.widget-state+json": {
    "state": {
     "a43f9c1684a140ce8ad7b59131ecfb17": {
      "model_module": "@jupyter-widgets/base",
      "model_module_version": "1.2.0",
      "model_name": "LayoutModel",
      "state": {}
     },
     "ffad869129794316b98b696728ac053b": {
      "model_module": "mitosheet",
      "model_module_version": "^0.1.40",
      "model_name": "ExampleModel",
      "state": {
       "_model_module_version": "^0.1.40",
       "_view_module_version": "^0.1.40",
       "analysis_name": "UUID-6bd10677-82c5-430c-8726-02f34f0e29db",
       "code_json": "{\"imports\": \"from mitosheet import *\", \"code\": [\"# Step 1 (rename headers to make them work with Mito)\", \"df1.rename(columns={\\\"What is your first name?\\\": \\\"What_is_your_first_name_\\\", \\\"What is your height?!\\\": \\\"What_is_your_height__\\\", \\\"Weight-Of-You\\\": \\\"Weight_Of_You\\\"}, inplace=True)\", \"# Step 2\", \"df1['D'] = 0\"]}",
       "column_filters_json": "[{\"What_is_your_first_name_\": {\"condition\": \"none\", \"value\": \"\", \"type\": \"string\"}, \"What_is_your_height__\": {\"condition\": \"none\", \"value\": \"\", \"type\": \"number\"}, \"Weight_Of_You\": {\"condition\": \"none\", \"value\": \"\", \"type\": \"number\"}, \"D\": {\"condition\": \"none\", \"value\": \"\", \"type\": \"number\"}}]",
       "column_spreadsheet_code_json": "[{\"What_is_your_first_name_\": \"\", \"What_is_your_height__\": \"\", \"Weight_Of_You\": \"\", \"D\": \"=0\"}]",
       "df_names_json": "{\"df_names\": [\"df1\"]}",
       "layout": "IPY_MODEL_a43f9c1684a140ce8ad7b59131ecfb17",
       "saved_analysis_names_json": "[]",
       "sheet_json": "[{\"columns\": [\"What_is_your_first_name_\", \"What_is_your_height__\", \"Weight_Of_You\", \"D\"], \"index\": [0, 1, 2, 3], \"data\": [[\"Nate\", 4, 100, 0], [\"Nate\", 5, 200, 0], [\"Aaron\", 6, 300, 0], [\"Aaron\", 7, 400, 0]]}]",
       "user_id": "nate",
       "value": "Hello World"
      }
     }
    },
    "version_major": 2,
    "version_minor": 0
   }
  }
 },
 "nbformat": 4,
 "nbformat_minor": 4
}
