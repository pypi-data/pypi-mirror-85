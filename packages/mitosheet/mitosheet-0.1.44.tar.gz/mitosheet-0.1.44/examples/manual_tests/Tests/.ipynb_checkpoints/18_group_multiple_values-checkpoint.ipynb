{
 "cells": [
  {
   "cell_type": "code",
   "execution_count": null,
   "metadata": {},
   "outputs": [],
   "source": [
    "\"\"\"\n",
    "Tests grouping with mulitple value outputs, that then get used in a calculation\n",
    "\n",
    "Steps:\n",
    "- Run this cell.\n",
    "- Click the group button:\n",
    "    - Select df1 as the sheet\n",
    "    - Select Name as the group by key\n",
    "    - Add two values, one for (Height, mean) and the other for (Weight, sum)\n",
    "    - Click group\n",
    "- Open the new sheet, and create a new column. Rename it to Height_Weight, and calculate the Height / Weight.\n",
    "- Run the generated code, and make sure it defines df2 correctly.\n",
    "- Rerun this cell, and make sure the defined column in df2 is still editable.\n",
    "\"\"\"\n",
    "import mitosheet\n",
    "import pandas as pd\n",
    "df1 = pd.DataFrame(data={'Name': ['Nate', 'Nate', 'Aaron', 'Aaron'], 'Height': [4, 5, 6, 7], 'Weight': [100, 200, 300, 400]})\n",
    "mitosheet.sheet(df1)"
   ]
  }
 ],
 "metadata": {
  "kernelspec": {
   "display_name": "Python 3",
   "language": "python",
   "name": "python3"
  },
  "language_info": {
   "codemirror_mode": {
    "name": "ipython",
    "version": 3
   },
   "file_extension": ".py",
   "mimetype": "text/x-python",
   "name": "python",
   "nbconvert_exporter": "python",
   "pygments_lexer": "ipython3",
   "version": "3.8.5"
  },
  "widgets": {
   "application/vnd.jupyter.widget-state+json": {
    "state": {
     "2993d5e14e8b48a49d4a7c891cbdbc47": {
      "model_module": "mitosheet",
      "model_module_version": "^0.1.41",
      "model_name": "ExampleModel",
      "state": {
       "_model_module_version": "^0.1.41",
       "_view_module_version": "^0.1.41",
       "analysis_name": "UUID-6f68e096-6d12-430d-8f01-176f1794793c",
       "code_json": "{\"imports\": \"from mitosheet import *\", \"code\": [\"# Step 1\", \"df1 = df1[df1.Weight.isna()]\"]}",
       "column_filters_json": "[{\"Name\": [], \"Height\": [], \"Weight\": [{\"type\": \"number\", \"condition\": \"empty\", \"value\": 0}]}]",
       "column_spreadsheet_code_json": "[{\"Name\": \"\", \"Height\": \"\", \"Weight\": \"\"}]",
       "column_type_json": "[{\"Name\": \"string\", \"Height\": \"string\", \"Weight\": \"number\"}]",
       "df_names_json": "{\"df_names\": [\"df1\"]}",
       "layout": "IPY_MODEL_c10f2755ab0441a69f75aa5a6f27d7e5",
       "saved_analysis_names_json": "[\"test_save0.2763706541540273\"]",
       "sheet_json": "[{\"columns\": [\"Name\", \"Height\", \"Weight\"], \"index\": [], \"data\": []}]",
       "user_id": "nate",
       "value": "Hello World"
      }
     },
     "5a98d69b75904303a221b9fbe1a07da7": {
      "model_module": "mitosheet",
      "model_module_version": "^0.1.41",
      "model_name": "ExampleModel",
      "state": {
       "_model_module_version": "^0.1.41",
       "_view_module_version": "^0.1.41",
       "analysis_name": "UUID-04bc65ed-78b1-445b-8fb4-e2ec30d17f77",
       "code_json": "{\"imports\": \"from mitosheet import *\", \"code\": []}",
       "column_filters_json": "[{\"Name\": [], \"Height\": [], \"Weight\": []}]",
       "column_spreadsheet_code_json": "[{\"Name\": \"\", \"Height\": \"\", \"Weight\": \"\"}]",
       "column_type_json": "[{\"Name\": \"string\", \"Height\": \"number\", \"Weight\": \"number\"}]",
       "df_names_json": "{\"df_names\": [\"df1\"]}",
       "layout": "IPY_MODEL_bfb5b227aae743b88ad860b78ae26947",
       "saved_analysis_names_json": "[\"test_save0.2763706541540273\"]",
       "sheet_json": "[{\"columns\": [\"Name\", \"Height\", \"Weight\"], \"index\": [0, 1, 2, 3], \"data\": [[\"Nate\", 4, 100], [\"Nate\", 5, 200], [\"Aaron\", 6, 300], [\"Aaron\", 7, 400]]}]",
       "user_id": "nate",
       "value": "Hello World"
      }
     },
     "bfb5b227aae743b88ad860b78ae26947": {
      "model_module": "@jupyter-widgets/base",
      "model_module_version": "1.2.0",
      "model_name": "LayoutModel",
      "state": {}
     },
     "c10f2755ab0441a69f75aa5a6f27d7e5": {
      "model_module": "@jupyter-widgets/base",
      "model_module_version": "1.2.0",
      "model_name": "LayoutModel",
      "state": {}
     }
    },
    "version_major": 2,
    "version_minor": 0
   }
  }
 },
 "nbformat": 4,
 "nbformat_minor": 4
}
