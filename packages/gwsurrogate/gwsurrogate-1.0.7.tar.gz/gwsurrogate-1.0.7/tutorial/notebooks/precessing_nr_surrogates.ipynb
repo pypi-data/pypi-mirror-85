{
 "cells": [
  {
   "cell_type": "markdown",
   "metadata": {},
   "source": [
    "** This notebook assumes ... **\n",
    "\n",
    "1) Basic familiarity with gwsurrogate as covered in basics.ipynb \n",
    "\n",
    "2)  Basic familiarity with multi-modal and fast-spline (linear) surrogates as covered in numerical_relativity.ipynb"
   ]
  },
  {
   "cell_type": "code",
   "execution_count": null,
   "metadata": {},
   "outputs": [],
   "source": [
    "### setup paths used throughout this notebook ###\n",
    "import sys\n",
    "path_to_gws = '/home/balzani57/Repo/GitRepos/Codes/gwsurrogate/'\n",
    "sys.path.append(path_to_gws)\n",
    "\n",
    "##%matplotlib inline\n",
    "import numpy as np, matplotlib.pyplot as plt\n",
    "import gwsurrogate as gws\n",
    "import gwtools"
   ]
  },
  {
   "cell_type": "markdown",
   "metadata": {},
   "source": [
    "# Setup\n",
    "\n",
    "First we need to download the time-domain 4d2s precessing model. Its about 9GB, so start the download and go grab a coffee. "
   ]
  },
  {
   "cell_type": "code",
   "execution_count": null,
   "metadata": {},
   "outputs": [],
   "source": [
    "gws.catalog.pull(\"NRSur4d2s_TDROM_grid12\")"
   ]
  },
  {
   "cell_type": "code",
   "execution_count": null,
   "metadata": {},
   "outputs": [],
   "source": [
    "# create a surrogate from the newly downloaded h5 file\n",
    "path_to_surrogate = path_to_gws+'surrogate_downloads/NRSur4d2s_TDROM_grid12.h5'\n",
    "sur_grid12 = gws.EvaluateSurrogate(path_to_surrogate,use_orbital_plane_symmetry=False)"
   ]
  },
  {
   "cell_type": "markdown",
   "metadata": {},
   "source": [
    "# Simple evaluations\n",
    "\n",
    "The 4d2s surrogate model is described [here](https://arxiv.org/pdf/1701.00550.pdf), and on page 12 the parameterization is given by (Note: $\\phi_{\\chi_1}$ had its interval shifted by $\\pi$)\n",
    "\n",
    "\n",
    "$$q \\in [1,2] \\quad \\left| \\vec{\\chi}_1 \\right| \\in [0,.8] \\quad \\Theta_{\\chi_1} \\in [0,\\pi] \\quad \\phi_{\\chi_1} \\in [0, 2 \\pi] \\quad \\chi_2^z \\in [-.8, .8]$$\n",
    "\n",
    "In what follows, we pass a numpy array into the surrogate evaluation with 5 numbers, whose ordering matches the parameters above. "
   ]
  },
  {
   "cell_type": "code",
   "execution_count": null,
   "metadata": {},
   "outputs": [],
   "source": [
    "# Evaluate all modes, and plot a few \n",
    "\n",
    "x = np.array([1.50, 0.40, 2.0, 2.0, 0.5]) # precessing\n",
    "x = np.array([1.50, 0.40, 0.0, 0.0, 0.5])  # spin aligned \n",
    "\n",
    "lm_modes, times, hre, him = sur_grid12(x, mode_sum=False, fake_neg_modes=False)\n",
    "print('You have evaluated the modes',lm_modes)\n",
    "\n",
    "h = hre + 1.0j * him\n",
    "\n",
    "gwtools.plot_pretty(times, [h[:,4].real, h[:,4].imag],fignum=1)\n",
    "plt.plot(times,gwtools.amp(h[:,4]),'b')\n",
    "plt.title('The (%i,%i) mode'%(lm_modes[4][0],lm_modes[4][1]))\n",
    "plt.xlabel('t/M ')\n",
    "\n",
    "gwtools.plot_pretty(times, [h[:,3].real, h[:,3].imag],fignum=2)\n",
    "plt.plot(times,gwtools.amp(h[:,3]),'b')\n",
    "plt.title('The (%i,%i) mode'%(lm_modes[3][0],lm_modes[3][1]))\n",
    "plt.xlabel('t/M ')\n",
    "\n",
    "plt.show()"
   ]
  },
  {
   "cell_type": "code",
   "execution_count": null,
   "metadata": {
    "collapsed": true
   },
   "outputs": [],
   "source": []
  }
 ],
 "metadata": {
  "kernelspec": {
   "display_name": "Python 2",
   "language": "python",
   "name": "python2"
  },
  "language_info": {
   "codemirror_mode": {
    "name": "ipython",
    "version": 2
   },
   "file_extension": ".py",
   "mimetype": "text/x-python",
   "name": "python",
   "nbconvert_exporter": "python",
   "pygments_lexer": "ipython2",
   "version": "2.7.15"
  }
 },
 "nbformat": 4,
 "nbformat_minor": 2
}
