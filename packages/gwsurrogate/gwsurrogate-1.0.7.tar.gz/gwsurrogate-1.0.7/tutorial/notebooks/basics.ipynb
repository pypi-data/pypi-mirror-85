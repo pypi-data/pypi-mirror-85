{
 "cells": [
  {
   "cell_type": "markdown",
   "metadata": {},
   "source": [
    "# Lesson 1: Evaluate and plot surrogates"
   ]
  },
  {
   "cell_type": "code",
   "execution_count": null,
   "metadata": {},
   "outputs": [],
   "source": [
    "### setup system path ###\n",
    "# NOTE: This step is NOT needed if gwsurrogate was installed from pip, with \"python setup.py install\" \n",
    "# or if PYTHONPATH has been set (see README)\n",
    "import sys, os\n",
    "path_to_gws = '/home/balzani57/Repo/GitRepos/Codes/gwsurrogate/'\n",
    "sys.path.append(path_to_gws)"
   ]
  },
  {
   "cell_type": "code",
   "execution_count": null,
   "metadata": {},
   "outputs": [],
   "source": [
    "### import the gwsurrogate and gwtools modules and load an existing surrogate ###\n",
    "import gwsurrogate as gws\n",
    "import gwtools\n",
    "\n",
    "# assumes notebook launched from \"notebooks\" directory\n",
    "path_to_surrogate = path_to_gws+'tutorial/TutorialSurrogate/EOB_q1_2_NoSpin_Mode22/l2_m2_len12239M_SurID19poly/'\n",
    "EOBNRv2_sur       = gws.EvaluateSingleModeSurrogate(path_to_surrogate) # multi-mode evaluation covered in other notebooks\n",
    "\n",
    "### import other useful packages ###\n",
    "#%matplotlib inline\n",
    "import matplotlib.pyplot as plt\n",
    "import numpy as np"
   ]
  },
  {
   "cell_type": "code",
   "execution_count": null,
   "metadata": {},
   "outputs": [],
   "source": [
    "### evaluate and plot an EOB surrogate waveform (physical) ###\n",
    "t, hp, hc  = EOBNRv2_sur(q=1.7, M=80.0, dist=1.0, phi_ref = 0.0, f_low = 10.0)\n",
    "amp, phase = EOBNRv2_sur.amp_phase(hp + 1j*hc)\n",
    "\n",
    "gwtools.plot_pretty(t, [hp, hc])\n",
    "plt.plot(t,amp,'r')\n",
    "plt.xlabel('t (seconds)')\n",
    "plt.show()"
   ]
  },
  {
   "cell_type": "code",
   "execution_count": null,
   "metadata": {},
   "outputs": [],
   "source": [
    "### Variety of helper functions, for example, compute the mode's phase at merger...\n",
    "phi_m = EOBNRv2_sur.phi_merger(hp + 1j*hc)\n",
    "print('current phase is '+str( np.mod(EOBNRv2_sur.phi_merger(hp + 1j*hc),2.0*np.pi) ) )\n",
    "\n",
    "### ...modify h, without generating a new waveform, such that the phase is now 2.0\n",
    "h_adj = EOBNRv2_sur.adjust_merger_phase(hp + 1j*hc,2.0)\n",
    "print('new phase is '+str( np.mod(EOBNRv2_sur.phi_merger(h_adj),2.0 * np.pi) ) )"
   ]
  },
  {
   "cell_type": "code",
   "execution_count": null,
   "metadata": {},
   "outputs": [],
   "source": [
    "### direct plotting is also supported (dimensionless) ###\n",
    "EOBNRv2_sur.plot_sur(1.7);"
   ]
  },
  {
   "cell_type": "code",
   "execution_count": null,
   "metadata": {},
   "outputs": [],
   "source": [
    "### if you try to evaluate the surrogate outside of its training range, an error is thrown ###\n",
    "t1, hp1, hc1 = EOBNRv2_sur(q=2.7, M=80.0, dist=1.0)"
   ]
  },
  {
   "cell_type": "markdown",
   "metadata": {},
   "source": [
    "# Lesson 2: Sampling the surrogate at different times"
   ]
  },
  {
   "cell_type": "code",
   "execution_count": null,
   "metadata": {},
   "outputs": [],
   "source": [
    "# Surrogate at q=1.2 with original time sampling (i.e. the one for which it was built)\n",
    "t, hp, hc = EOBNRv2_sur(q=1.2)"
   ]
  },
  {
   "cell_type": "code",
   "execution_count": null,
   "metadata": {},
   "outputs": [],
   "source": [
    "# Surrogate at q=1.2 with 3000 samples in an enlarged interval of time\n",
    "# Sampling outside of the training time interval returns zeros\n",
    "t_resamp, hp_resamp, hc_resamp = EOBNRv2_sur(1.2,times=np.linspace(EOBNRv2_sur.tmin-1000,EOBNRv2_sur.tmax+1000,num=3000))\n",
    "gwtools.plot_pretty(t, [hp, hc],1)\n",
    "gwtools.plot_pretty(t_resamp, [hp_resamp, hc_resamp],2)\n",
    "plt.show()"
   ]
  },
  {
   "cell_type": "markdown",
   "metadata": {},
   "source": [
    "# Lesson 3: Surrogate properties"
   ]
  },
  {
   "cell_type": "code",
   "execution_count": null,
   "metadata": {},
   "outputs": [],
   "source": [
    "### Greedy points and eim indicies ###\n",
    "t, hp, hc = EOBNRv2_sur(1.7,80.0,1.0)\n",
    "\n",
    "eim_pts    = EOBNRv2_sur.eim_indices\n",
    "T_eim      = t[eim_pts]\n",
    "greedy_pts = EOBNRv2_sur.greedy_points\n",
    "\n",
    "gwtools.plot_pretty(t, [hp, hc])\n",
    "plt.plot(T_eim,np.zeros(eim_pts.shape),'r*',markersize=15)\n",
    "plt.show()\n",
    "\n",
    "print('Mass ratios defining the basis: ', greedy_pts)"
   ]
  },
  {
   "cell_type": "code",
   "execution_count": null,
   "metadata": {},
   "outputs": [],
   "source": [
    "### Temporal information is stored with dimensionless 't/M' units ###\n",
    "print('temporal units is '+EOBNRv2_sur.t_units)\n",
    "print('temporal sampling is '+str(EOBNRv2_sur.dt))\n",
    "print('sampling rate is '+str(1.0/EOBNRv2_sur.dt))\n",
    "print( 'initial time is '+str(EOBNRv2_sur.tmin))\n",
    "print( 'final time is '+str(EOBNRv2_sur.tmax))"
   ]
  },
  {
   "cell_type": "markdown",
   "metadata": {},
   "source": [
    "# Lesson 4: Surrogate basis functions\n",
    "\n",
    "We now show two ways of recovering the i^th physical RB waveform. The first way evalutes the surrogate at the 5th greedy point q_5. The second way uses the Vandermonde matrix V and the GS matrix R (defined as A = QR) to exactly recover the 5th physical RB waveform. Having two (kinda) independent ways to compute h_5 provides a check of R,V, and the surrogate model error at this value of q."
   ]
  },
  {
   "cell_type": "code",
   "execution_count": null,
   "metadata": {},
   "outputs": [],
   "source": [
    "### plot the ith cardinal (B) basis which appears as h_surrogate = Sum_i B_i(t) h(T_i)  ###\n",
    "i = 2\n",
    "times = EOBNRv2_sur.time()\n",
    "b_i   = EOBNRv2_sur.basis(i-1,'cardinal')\n",
    "\n",
    "gwtools.plot_pretty(times,[b_i.real,b_i.imag],1)\n",
    "plt.title('Cardinal basis')\n",
    "\n",
    "### use the matrix V, as E = B V, to exactly recover the ith orthonormal basis E ###\n",
    "e_i = EOBNRv2_sur.basis(i-1,'orthogonal')\n",
    "\n",
    "gwtools.plot_pretty(times,[e_i.real,e_i.imag],2)\n",
    "plt.title('Orthogonal basis')\n",
    "\n",
    "### use the matrix R, as H = E R, to recover the ith physical basis H ###\n",
    "h_i = EOBNRv2_sur.basis(i-1,'waveform')\n",
    "\n",
    "gwtools.plot_pretty(times,[h_i.real,h_i.imag],3)\n",
    "plt.title('Waveform basis')\n",
    "\n",
    "### use the surrogate model to evaluate for the ith physical basis ###\n",
    "junk, hp_i_surr, hc_i_surr = EOBNRv2_sur(EOBNRv2_sur.greedy_points[i-1])\n",
    "nrm_i = EOBNRv2_sur.norm_eval(EOBNRv2_sur.greedy_points[i-1]) # normalization constant for comparison with normalized basis\n",
    "hp_i_surr = hp_i_surr / nrm_i \n",
    "hc_i_surr = hc_i_surr / nrm_i\n",
    "h_i_surr = hp_i_surr + 1j*hc_i_surr\n",
    "\n",
    "gwtools.plot_pretty(times,[hp_i_surr,hc_i_surr],4)\n",
    "plt.title('Waveform basis via surrogate model')\n",
    "\n",
    "### plot the difference between the ith physical basis and its surrogate -- consistency and error check ###\n",
    "gwtools.plot_pretty(times,[h_i.real - hp_i_surr,h_i.imag - hc_i_surr],5,'semilogy')\n",
    "plt.title('Difference between physical waveform basis and its surrogate prediction')\n",
    "\n",
    "plt.show()"
   ]
  },
  {
   "cell_type": "code",
   "execution_count": null,
   "metadata": {},
   "outputs": [],
   "source": [
    "### check basis orthonormality (using Euclidean inner product) ###\n",
    "### NOTE: Basis orthogonal on physical grid (in seconds). See surrogate's info.data file\n",
    "dt  = 1.0/2048.0\n",
    "e_5 = EOBNRv2_sur.basis(5,'orthogonal')\n",
    "e_6 = EOBNRv2_sur.basis(6,'orthogonal')\n",
    "print( '<e_5,e_6> = ', np.sum(e_5*np.conj(e_6)) * dt)\n",
    "print( '<e_5,e_5> = ', np.sum(e_5*np.conj(e_5)) * dt)"
   ]
  },
  {
   "cell_type": "code",
   "execution_count": null,
   "metadata": {},
   "outputs": [],
   "source": [
    "### plotting the waveform basis using the surrogate is also a built-in function ###\n",
    "EOBNRv2_sur.plot_rb(4)"
   ]
  },
  {
   "cell_type": "markdown",
   "metadata": {},
   "source": [
    "# Lesson 5: General (multi-mode) surrogates & training regions\n",
    "\n",
    "Lessons 1-4 used the single-mode EvaluateSingleModeSurrogate class, which is useful when you need access to low-level data (like the basis). \n",
    "\n",
    "For simply using a surrogate mode, EvaluateSurrogate should be used. The behavior is very similar"
   ]
  },
  {
   "cell_type": "code",
   "execution_count": null,
   "metadata": {},
   "outputs": [],
   "source": [
    "# notice this way of loading the surrogate also displays useful information\n",
    "path_to_surrogate = path_to_gws+'tutorial/TutorialSurrogate/EOB_q1_2_NoSpin_Mode22/'\n",
    "EOBNRv2_sur = gws.EvaluateSurrogate(path_to_surrogate)"
   ]
  },
  {
   "cell_type": "code",
   "execution_count": null,
   "metadata": {},
   "outputs": [],
   "source": [
    "# we can directly access information about the surrogate's training region\n",
    "print EOBNRv2_sur.param_space.min_vals()\n",
    "print EOBNRv2_sur.param_space.max_vals()"
   ]
  },
  {
   "cell_type": "markdown",
   "metadata": {},
   "source": [
    "# Lesson 6: Download surrogates from a server\n",
    "\n",
    "Surrogate may be located on a server. gwsurrogate provides a list of the locations as well as download tools"
   ]
  },
  {
   "cell_type": "code",
   "execution_count": null,
   "metadata": {},
   "outputs": [],
   "source": [
    "### view all available surrogates ###\n",
    "gws.catalog.list()"
   ]
  },
  {
   "cell_type": "code",
   "execution_count": null,
   "metadata": {},
   "outputs": [],
   "source": [
    "### display the default location for all surrogate downloads ###\n",
    "gws.catalog.download_path()"
   ]
  },
  {
   "cell_type": "code",
   "execution_count": null,
   "metadata": {},
   "outputs": [],
   "source": [
    "# NOTE: if the surrogate does not download, proceed to \n",
    "# https://www.black-holes.org/data/surrogates/data/files\n",
    "\n",
    "### download a surrogate (this will take a moment, check the terminal for progress) ##\n",
    "#surr_path = gws.catalog.pull('SpEC_q1_10_NoSpin_linear_alt')\n",
    "\n",
    "# ...or specify a custom download location as \n",
    "#surr_path = gws.catalog.pull('SpEC_q1_10_NoSpin','MY_PATH')"
   ]
  },
  {
   "cell_type": "code",
   "execution_count": null,
   "metadata": {},
   "outputs": [],
   "source": [
    "# load the multimode numerical relativity surrogate you've just downloaded #\n",
    "\n",
    "# path to surrogate can be a custom location\n",
    "# if the previous cell was executed, let surr_path be the default one\n",
    "#surr_path = \"/home/balzani57/Repo/GitRepos/Codes/gwsurrogate/surrogate_downloads/SpEC_q1_10_NoSpin_nu5thDegPoly_exclude_2_0.h5\"\n",
    "\n",
    "spec = gws.EvaluateSurrogate(surr_path)"
   ]
  },
  {
   "cell_type": "code",
   "execution_count": null,
   "metadata": {},
   "outputs": [],
   "source": [
    "# evaluate and plot a surrogate #\n",
    "t, hp, hc = spec(q=3.14,ell=[2],m=[2],fake_neg_modes=False)\n",
    "\n",
    "gwtools.plot_pretty(t,[hp,hc],showQ=False)\n",
    "plt.plot(t,np.abs(hp+1.0j*hc),'blue')\n",
    "plt.xlabel('$t/M$')\n",
    "plt.title('(2,2) mode for q = 3.14')\n",
    "plt.show()"
   ]
  },
  {
   "cell_type": "markdown",
   "metadata": {},
   "source": [
    "# Generating negative m modes using symmetry\n",
    "\n",
    "The symmetry of non-precessing binary systems (reflections about the orbital plane) allow negative m modes to be computed from positive m modes (see See Eq. 78 of Kidder, Physical Review D 77, 044016 (2008)). \n",
    "\n",
    "Typically, non-precessing waveform surrogate models of binary systems only provide models for the m>=0 modes. The negative m modes are then found from known formulas."
   ]
  },
  {
   "cell_type": "code",
   "execution_count": null,
   "metadata": {},
   "outputs": [],
   "source": [
    "# Evaluate and plot a negative m mode using fake_neg_modes\n",
    "# Note that mode_sum must be set to false -- this returns a list of modes\n",
    "modes, t, hp, hc = spec(q=3.14,ell=[2],m=[2],mode_sum=False,fake_neg_modes=True)\n",
    "\n",
    "print(modes)\n",
    "\n",
    "gwtools.plot_pretty(t,[hp[:,0],hc[:,0]],fignum=1,showQ=False)\n",
    "plt.plot(t,np.abs(hp+1.0j*hc),'blue')\n",
    "plt.xlabel('$t/M$')\n",
    "plt.title('(2,-2) mode for q = 3.14')\n",
    "\n",
    "gwtools.plot_pretty(t,[hp[:,1],hc[:,1]],fignum=2,showQ=False)\n",
    "plt.plot(t,np.abs(hp+1.0j*hc),'blue')\n",
    "plt.xlabel('$t/M$')\n",
    "plt.title('(2,2) mode for q = 3.14')\n",
    "\n",
    "plt.show()"
   ]
  }
 ],
 "metadata": {
  "anaconda-cloud": {},
  "kernelspec": {
   "display_name": "Python 2",
   "language": "python",
   "name": "python2"
  },
  "language_info": {
   "codemirror_mode": {
    "name": "ipython",
    "version": 2
   },
   "file_extension": ".py",
   "mimetype": "text/x-python",
   "name": "python",
   "nbconvert_exporter": "python",
   "pygments_lexer": "ipython2",
   "version": "2.7.15"
  }
 },
 "nbformat": 4,
 "nbformat_minor": 1
}
