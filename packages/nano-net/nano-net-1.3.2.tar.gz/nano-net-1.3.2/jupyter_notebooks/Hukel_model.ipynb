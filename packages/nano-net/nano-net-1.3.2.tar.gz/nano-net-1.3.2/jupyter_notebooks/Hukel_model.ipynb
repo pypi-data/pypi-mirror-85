{
 "cells": [
  {
   "cell_type": "markdown",
   "metadata": {},
   "source": [
    "# Build Hückel model with custom parameters and user-defined basis set\n",
    "\n",
    "## Prerequisites\n",
    "\n",
    "To set up jupyter-notebook, following packages has to be imported:"
   ]
  },
  {
   "cell_type": "code",
   "execution_count": 1,
   "metadata": {},
   "outputs": [],
   "source": [
    "%matplotlib inline\n",
    "import matplotlib.pyplot as plt\n",
    "import numpy as np\n",
    "from IPython.display import display, Math, Latex"
   ]
  },
  {
   "cell_type": "markdown",
   "metadata": {},
   "source": [
    "Here we compute energy spectra of a group of atoms using tight-binding method - no periodic boundary conditions applied. As an example, we compute the compute energy spectrum for the benzene molecule in the framework of the Hückel model.\n",
    "In order to start working with the package, one has to import it first:"
   ]
  },
  {
   "cell_type": "code",
   "execution_count": 2,
   "metadata": {},
   "outputs": [
    {
     "name": "stderr",
     "output_type": "stream",
     "text": [
      " _   _                   _   _      _   \n",
      "| \\ | | __ _ _ __   ___ | \\ | | ___| |_ \n",
      "|  \\| |/ _` | '_ \\ / _ \\|  \\| |/ _ \\ __|\n",
      "| |\\  | (_| | | | | (_) | |\\  |  __/ |_ \n",
      "|_| \\_|\\__,_|_| |_|\\___/|_| \\_|\\___|\\__|\n",
      "                                        \n",
      "\n",
      "Vesion 1.1.5\n"
     ]
    }
   ],
   "source": [
    "import nanonet.tb as tb"
   ]
  },
  {
   "cell_type": "markdown",
   "metadata": {},
   "source": [
    "## Define a basis set\n",
    "\n",
    "First, one needs to specify a basis sets for the each atom species used in computations. Although, there is an embeded library of basis functions for several atoms defined in the class `Atom()`, we show example of a custom user-defined basis set and custom empirical parameters without usage of the library.\n",
    "First we create an `Atom()` object and add required number of orbitals to it. In our case, each atom has a single orbital with the orbital symmetry $p_z$."
   ]
  },
  {
   "cell_type": "code",
   "execution_count": 3,
   "metadata": {},
   "outputs": [],
   "source": [
    "a = tb.Orbitals('C')\n",
    "a.add_orbital('pz', energy=-6.1, orbital=1, magnetic = 0)\n",
    "tb.Orbitals.orbital_sets = {'C': a}"
   ]
  },
  {
   "cell_type": "markdown",
   "metadata": {},
   "source": [
    "## Add nearest-neighbours coupling parameters\n",
    "When the basis set is determined, we have to specify the nearest-neighbour coupling:"
   ]
  },
  {
   "cell_type": "code",
   "execution_count": 4,
   "metadata": {},
   "outputs": [],
   "source": [
    "tb.set_tb_params(PARAMS_C_C={'pp_pi': -2.9})"
   ]
  },
  {
   "cell_type": "markdown",
   "metadata": {},
   "source": [
    "## Specify geometry of the problem\n",
    "The geomery of the problem may be described in several possible ways. One of them is passing the xyz-file determining positions if nodes/atoms into the constructor of the class `Hamiltonian()`."
   ]
  },
  {
   "cell_type": "code",
   "execution_count": 5,
   "metadata": {},
   "outputs": [
    {
     "name": "stderr",
     "output_type": "stream",
     "text": [
      "The verbosity level is 1\n",
      "The radius of the neighbourhood is 1.41 Ang\n",
      "\n",
      "---------------------------------\n",
      "\n",
      "The xyz-file:\n",
      " 6\n",
      "Benzene cell for the Huckel model\n",
      "\n",
      "\n",
      "C1        0.00000        1.40272        0.00000\n",
      "C2       -1.21479        0.70136        0.00000\n",
      "C3       -1.21479       -0.70136        0.00000\n",
      "C4        0.00000       -1.40272        0.00000\n",
      "C5        1.21479       -0.70136        0.00000\n",
      "C6        1.21479        0.70136        0.00000\n",
      "\n",
      "---------------------------------\n",
      "\n",
      "Basis set \n",
      " Num of species {'C': 6} \n",
      "\n",
      "\n",
      " C \n",
      "title | energy | n | l | m | s\n",
      "------+--------+---+---+---+--\n",
      "pz    | -6.1   | 0 | 1 | 0 | 0\n",
      "------+--------+---+---+---+--\n",
      " \n",
      "---------------------------------\n",
      "\n"
     ]
    }
   ],
   "source": [
    "xyz_file=\"\"\"6\n",
    "Benzene cell for the Huckel model\n",
    "\n",
    "\n",
    "C1        0.00000        1.40272        0.00000\n",
    "C2       -1.21479        0.70136        0.00000\n",
    "C3       -1.21479       -0.70136        0.00000\n",
    "C4        0.00000       -1.40272        0.00000\n",
    "C5        1.21479       -0.70136        0.00000\n",
    "C6        1.21479        0.70136        0.00000\n",
    "\"\"\"\n",
    "\n",
    "h = tb.Hamiltonian(xyz=xyz_file, nn_distance=1.41)"
   ]
  },
  {
   "cell_type": "markdown",
   "metadata": {},
   "source": [
    "Note, that along with xyz-file, we have specified the parameter `nn_distance`. This parameter stands for the maximal possible distance between nearest neighbours. It is very imporant parameter since it determines the topology on the set of atoms. Making it larger may lead to including second-nearest neighbours etc.\n",
    "\n",
    "## Compute Hamiltonian matrix elements and show Hamiltonian matrix\n",
    "The Hamiltonian matrix can be computed by the member function `initialize()` of the object `h`. The matrix is stored in the attribute `h_matrix` of the corresponding object."
   ]
  },
  {
   "cell_type": "code",
   "execution_count": 6,
   "metadata": {},
   "outputs": [
    {
     "name": "stderr",
     "output_type": "stream",
     "text": [
      "Radial dependence function: None\n",
      "\n",
      "---------------------------------\n",
      "\n",
      "Discrete radial dependence function: None\n",
      "\n",
      "---------------------------------\n",
      "\n",
      "Unique distances: \n",
      "    1.4027 Ang between atoms C and C\n",
      "---------------------------------\n",
      "\n"
     ]
    },
    {
     "data": {
      "text/plain": [
       "<matplotlib.image.AxesImage at 0x7fe191efa898>"
      ]
     },
     "execution_count": 6,
     "metadata": {},
     "output_type": "execute_result"
    },
    {
     "data": {
      "image/png": "[encoded data removed]",
      "text/plain": [
       "<Figure size 108x108 with 1 Axes>"
      ]
     },
     "metadata": {
      "needs_background": "light"
     },
     "output_type": "display_data"
    }
   ],
   "source": [
    "h.initialize()\n",
    "\n",
    "plt.figure(num=None, figsize=(1.5, 1.5))\n",
    "plt.axis('off')\n",
    "plt.imshow(np.real(h.h_matrix))"
   ]
  },
  {
   "cell_type": "markdown",
   "metadata": {},
   "source": [
    "The warning message says that the programm tries to compute interatomic hoping matrix element for the $\\sigma$-type diatomic symmetry between p-orbitals as well. Since we have not specify this parameter explicitelly it has been taken as zero by default. It has been made for purpose since we are interested only in $\\pi$ orbitals.\n",
    "\n",
    "Now everything is ready to compute energies and eigenvectors\n",
    "\n",
    "## Hamiltonian matrix diagonalization and visualization"
   ]
  },
  {
   "cell_type": "code",
   "execution_count": 7,
   "metadata": {},
   "outputs": [],
   "source": [
    "E, V = h.diagonalize()\n",
    "E = np.real(E)\n",
    "ind = np.argsort(E)\n",
    "E = E[ind]\n",
    "V = V[:, ind]"
   ]
  },
  {
   "cell_type": "code",
   "execution_count": 8,
   "metadata": {},
   "outputs": [
    {
     "data": {
      "image/png": "[encoded data removed]",
      "text/plain": [
       "<Figure size 432x288 with 1 Axes>"
      ]
     },
     "metadata": {
      "needs_background": "light"
     },
     "output_type": "display_data"
    }
   ],
   "source": [
    "ax = plt.axes()\n",
    "ax.set_title('Energy spectrum')\n",
    "ax.set_xlabel('# of state')\n",
    "ax.set_ylabel('Energy (eV)')\n",
    "plt.scatter(range(len(E)), sorted(np.real(E)))\n",
    "plt.show()"
   ]
  },
  {
   "cell_type": "code",
   "execution_count": 9,
   "metadata": {},
   "outputs": [
    {
     "data": {
      "image/png": "[encoded data removed]",
      "text/plain": [
       "<Figure size 432x288 with 6 Axes>"
      ]
     },
     "metadata": {
      "needs_background": "light"
     },
     "output_type": "display_data"
    }
   ],
   "source": [
    "fig, ax = plt.subplots(2, 3, sharey='all')\n",
    "\n",
    "ax[0, 0].set_title('Ground state')\n",
    "ax[0, 0].set_xlabel('# of component')\n",
    "ax[0, 0].set_ylabel('Amplitude (a.u.)')\n",
    "ax[0, 0].bar(range(len(E)), (np.real(V[:, 0])))\n",
    "\n",
    "ax[0, 1].set_title('1st excited tate')\n",
    "ax[0, 1].set_xlabel('# of component')\n",
    "ax[0, 1].set_ylabel('Amplitude (a.u.)')\n",
    "ax[0, 1].bar(range(len(E)), (np.real(V[:, 1])))\n",
    "\n",
    "ax[0, 2].set_title('2d excited tate')\n",
    "ax[0, 2].set_xlabel('# of component')\n",
    "ax[0, 2].set_ylabel('Amplitude (a.u.)')\n",
    "ax[0, 2].bar(range(len(E)), (np.real(V[:, 2])))\n",
    "\n",
    "ax[1, 0].set_title('3d excited tate')\n",
    "ax[1, 0].set_xlabel('# of component')\n",
    "ax[1, 0].set_ylabel('Amplitude (a.u.)')\n",
    "ax[1, 0].bar(range(len(E)), (np.real(V[:, 3])))\n",
    "\n",
    "ax[1, 1].set_title('4th excited tate')\n",
    "ax[1, 1].set_xlabel('# of component')\n",
    "ax[1, 1].set_ylabel('Amplitude (a.u.)')\n",
    "ax[1, 1].bar(range(len(E)), (np.real(V[:, 4])))\n",
    "\n",
    "ax[1, 2].set_title('5th excited tate')\n",
    "ax[1, 2].set_xlabel('# of component')\n",
    "ax[1, 2].set_ylabel('Amplitude (a.u.)')\n",
    "ax[1, 2].bar(range(len(E)), (np.real(V[:, 5])))\n",
    "fig.tight_layout()"
   ]
  }
 ],
 "metadata": {
  "kernelspec": {
   "display_name": "Python 3",
   "language": "python",
   "name": "python3"
  },
  "language_info": {
   "codemirror_mode": {
    "name": "ipython",
    "version": 3
   },
   "file_extension": ".py",
   "mimetype": "text/x-python",
   "name": "python",
   "nbconvert_exporter": "python",
   "pygments_lexer": "ipython3",
   "version": "3.6.9"
  }
 },
 "nbformat": 4,
 "nbformat_minor": 2
}
