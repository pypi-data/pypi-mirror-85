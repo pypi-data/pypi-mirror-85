{
 "cells": [
  {
   "cell_type": "markdown",
   "metadata": {},
   "source": [
    "This example script computes DOS and transmission function for the four-atom-width nanostrip\n",
    "using the recursive Green's function algorithm."
   ]
  },
  {
   "cell_type": "code",
   "execution_count": 1,
   "metadata": {},
   "outputs": [
    {
     "name": "stderr",
     "output_type": "stream",
     "text": [
      " _   _                   _   _      _   \n",
      "| \\ | | __ _ _ __   ___ | \\ | | ___| |_ \n",
      "|  \\| |/ _` | '_ \\ / _ \\|  \\| |/ _ \\ __|\n",
      "| |\\  | (_| | | | | (_) | |\\  |  __/ |_ \n",
      "|_| \\_|\\__,_|_| |_|\\___/|_| \\_|\\___|\\__|\n",
      "                                        \n",
      "\n",
      "Vesion 1.1.5\n"
     ]
    }
   ],
   "source": [
    "import numpy as np\n",
    "import matplotlib.pyplot as plt\n",
    "import nanonet.tb as tb\n",
    "from nanonet.negf.recursive_greens_functions import recursive_gf\n",
    "from nanonet.negf.greens_functions import surface_greens_function"
   ]
  },
  {
   "cell_type": "markdown",
   "metadata": {},
   "source": [
    "Define the basis set consisting of one s-type orbital."
   ]
  },
  {
   "cell_type": "code",
   "execution_count": 2,
   "metadata": {},
   "outputs": [],
   "source": [
    "orb = tb.Orbitals('A')\n",
    "orb.add_orbital('s', energy=-1.0)"
   ]
  },
  {
   "cell_type": "markdown",
   "metadata": {},
   "source": [
    "Set TB parameters"
   ]
  },
  {
   "cell_type": "code",
   "execution_count": 3,
   "metadata": {},
   "outputs": [],
   "source": [
    "tb.Orbitals.orbital_sets = {'A': orb}\n",
    "tb.set_tb_params(PARAMS_A_A={\"ss_sigma\": 1.0})"
   ]
  },
  {
   "cell_type": "markdown",
   "metadata": {},
   "source": [
    "Define atomic coordinates for the unit cell"
   ]
  },
  {
   "cell_type": "code",
   "execution_count": 4,
   "metadata": {},
   "outputs": [],
   "source": [
    "input_file = \"\"\"4\n",
    "                Nanostrip\n",
    "                A1 0.0 0.0 0.0\n",
    "                A2 0.0 1.0 0.0\n",
    "                A3 0.0 2.0 0.0\n",
    "                A4 0.0 3.0 0.0\n",
    "             \"\"\""
   ]
  },
  {
   "cell_type": "markdown",
   "metadata": {},
   "source": [
    "Compute Hamiltonian matrices"
   ]
  },
  {
   "cell_type": "code",
   "execution_count": 5,
   "metadata": {},
   "outputs": [
    {
     "name": "stderr",
     "output_type": "stream",
     "text": [
      "The verbosity level is 1\n",
      "The radius of the neighbourhood is 1.4 Ang\n",
      "\n",
      "---------------------------------\n",
      "\n",
      "The xyz-file:\n",
      " 4\n",
      "                Nanostrip\n",
      "                A1 0.0 0.0 0.0\n",
      "                A2 0.0 1.0 0.0\n",
      "                A3 0.0 2.0 0.0\n",
      "                A4 0.0 3.0 0.0\n",
      "             \n",
      "---------------------------------\n",
      "\n",
      "Basis set \n",
      " Num of species {'A': 4} \n",
      "\n",
      "\n",
      " A \n",
      "title | energy | n | l | m | s\n",
      "------+--------+---+---+---+--\n",
      "s     | -1.0   | 0 | 0 | 0 | 0\n",
      "------+--------+---+---+---+--\n",
      " \n",
      "---------------------------------\n",
      "\n",
      "Radial dependence function: None\n",
      "\n",
      "---------------------------------\n",
      "\n",
      "Discrete radial dependence function: None\n",
      "\n",
      "---------------------------------\n",
      "\n",
      "Unique distances: \n",
      "    1. Ang between atoms A and A\n",
      "---------------------------------\n",
      "\n",
      "Primitive_cell_vectors: \n",
      " [[0, 0, 1.0]] \n",
      "\n",
      "---------------------------------\n",
      "\n"
     ]
    }
   ],
   "source": [
    "h = tb.Hamiltonian(xyz=input_file, nn_distance=1.4)\n",
    "h.initialize()\n",
    "period = [0, 0, 1.0]\n",
    "h.set_periodic_bc([period])\n",
    "h_l, h_0, h_r = h.get_hamiltonians()"
   ]
  },
  {
   "cell_type": "markdown",
   "metadata": {},
   "source": [
    "Compute DOS and transmission using Green's functions"
   ]
  },
  {
   "cell_type": "code",
   "execution_count": 6,
   "metadata": {},
   "outputs": [],
   "source": [
    "energy = np.linspace(-5.0, 5.0, 150)\n",
    "dos = np.zeros((energy.shape[0]))\n",
    "tr = np.zeros((energy.shape[0]))\n",
    "\n",
    "for j, E in enumerate(energy):\n",
    "    # compute surface Green's functions\n",
    "    L, R = surface_greens_function(E, h_l, h_0, h_r)\n",
    "    # recursive Green's functions\n",
    "    g_trans, grd, grl, gru, gr_left = recursive_gf(E, [h_l], [h_0 + L + R], [h_r])\n",
    "    # compute DOS\n",
    "    dos[j] = np.real(np.trace(1j * (grd[0] - grd[0].conj().T)))\n",
    "    # compute left-lead coupling\n",
    "    gamma_l = 1j * (L - L.conj().T)\n",
    "    # compute right-lead coupling\n",
    "    gamma_r = 1j * (R - R.conj().T)\n",
    "    # compute transmission\n",
    "    tr[j] = np.real(np.trace(gamma_l.dot(g_trans).dot(gamma_r).dot(g_trans.conj().T)))\n",
    "\n",
    "tr = np.array(tr)\n",
    "dos = np.array(dos)"
   ]
  },
  {
   "cell_type": "markdown",
   "metadata": {},
   "source": [
    "Plot DOS and transmission spectrum"
   ]
  },
  {
   "cell_type": "code",
   "execution_count": 7,
   "metadata": {},
   "outputs": [
    {
     "data": {
      "image/png": "[encoded data removed]",
      "text/plain": [
       "<Figure size 432x288 with 2 Axes>"
      ]
     },
     "metadata": {
      "needs_background": "light"
     },
     "output_type": "display_data"
    }
   ],
   "source": [
    "fig, ax = plt.subplots(1, 2)\n",
    "ax[0].plot(energy, dos, 'k')\n",
    "ax[0].set_ylabel(r'DOS (a.u)')\n",
    "ax[0].set_xlabel(r'Energy (eV)')\n",
    "\n",
    "ax[1].plot(energy, tr, 'k')\n",
    "ax[1].set_ylabel(r'Transmission (a.u.)')\n",
    "ax[1].set_xlabel(r'Energy (eV)')\n",
    "fig.tight_layout()\n",
    "plt.show()"
   ]
  }
 ],
 "metadata": {
  "kernelspec": {
   "display_name": "Python 3",
   "language": "python",
   "name": "python3"
  },
  "language_info": {
   "codemirror_mode": {
    "name": "ipython",
    "version": 3
   },
   "file_extension": ".py",
   "mimetype": "text/x-python",
   "name": "python",
   "nbconvert_exporter": "python",
   "pygments_lexer": "ipython3",
   "version": "3.6.9"
  }
 },
 "nbformat": 4,
 "nbformat_minor": 2
}
