{
 "cells": [
  {
   "cell_type": "markdown",
   "metadata": {},
   "source": [
    "# Band structure of bulk bismuth"
   ]
  },
  {
   "cell_type": "code",
   "execution_count": 1,
   "metadata": {},
   "outputs": [
    {
     "name": "stderr",
     "output_type": "stream",
     "text": [
      " _   _                   _   _      _   \n",
      "| \\ | | __ _ _ __   ___ | \\ | | ___| |_ \n",
      "|  \\| |/ _` | '_ \\ / _ \\|  \\| |/ _ \\ __|\n",
      "| |\\  | (_| | | | | (_) | |\\  |  __/ |_ \n",
      "|_| \\_|\\__,_|_| |_|\\___/|_| \\_|\\___|\\__|\n",
      "                                        \n",
      "\n",
      "Vesion 1.1.5\n"
     ]
    }
   ],
   "source": [
    "from nanonet.tb import Hamiltonian, Orbitals\n",
    "from nanonet.tb import set_tb_params, get_k_coords"
   ]
  },
  {
   "cell_type": "markdown",
   "metadata": {},
   "source": [
    "Below we set a LCAO sp3 basis set for Bi atoms."
   ]
  },
  {
   "cell_type": "code",
   "execution_count": 2,
   "metadata": {},
   "outputs": [],
   "source": [
    "bi_orb = Orbitals('Bi')\n",
    "bi_orb.add_orbital(\"s\", energy=-10.906,\n",
    "                   principal=0, orbital=0, magnetic=0, spin=0)\n",
    "bi_orb.add_orbital(\"px\", energy=-0.486,\n",
    "                   principal=0, orbital=1, magnetic=-1, spin=0)\n",
    "bi_orb.add_orbital(\"py\", energy=-0.486,\n",
    "                   principal=0, orbital=1, magnetic=1, spin=0)\n",
    "bi_orb.add_orbital(\"pz\", energy=-0.486,\n",
    "                   principal=0, orbital=1, magnetic=0, spin=0)\n",
    "bi_orb.add_orbital(\"s\", energy=-10.906,\n",
    "                   principal=0, orbital=0, magnetic=0, spin=1)\n",
    "bi_orb.add_orbital(\"px\", energy=-0.486,\n",
    "                   principal=0, orbital=1, magnetic=-1, spin=1)\n",
    "bi_orb.add_orbital(\"py\", energy=-0.486,\n",
    "                   principal=0, orbital=1, magnetic=1, spin=1)\n",
    "bi_orb.add_orbital(\"pz\", energy=-0.486,\n",
    "                   principal=0, orbital=1, magnetic=0, spin=1)"
   ]
  },
  {
   "cell_type": "markdown",
   "metadata": {},
   "source": [
    "The primitive cell of crystalline bismuth has two atoms:"
   ]
  },
  {
   "cell_type": "code",
   "execution_count": 3,
   "metadata": {},
   "outputs": [],
   "source": [
    "xyz_coords = \"\"\"2\n",
    "Bi2 cell\n",
    "Bi1       0.0    0.0    0.0\n",
    "Bi2       0.0    0.0    5.52321494\n",
    "\"\"\""
   ]
  },
  {
   "cell_type": "code",
   "execution_count": 4,
   "metadata": {},
   "outputs": [
    {
     "name": "stderr",
     "output_type": "stream",
     "text": [
      "The verbosity level is 1\n",
      "The radius of the neighbourhood is 4.6 Ang\n",
      "\n",
      "---------------------------------\n",
      "\n",
      "The xyz-file:\n",
      " 2\n",
      "Bi2 cell\n",
      "Bi1       0.0    0.0    0.0\n",
      "Bi2       0.0    0.0    5.52321494\n",
      "\n",
      "---------------------------------\n",
      "\n",
      "Basis set \n",
      " Num of species {'Bi': 2} \n",
      "\n",
      "\n",
      " Bi \n",
      "title | energy  | n | l | m  | s\n",
      "------+---------+---+---+----+--\n",
      "s     | -10.906 | 0 | 0 | 0  | 0\n",
      "px    | -0.486  | 0 | 1 | -1 | 0\n",
      "py    | -0.486  | 0 | 1 | 1  | 0\n",
      "pz    | -0.486  | 0 | 1 | 0  | 0\n",
      "s     | -10.906 | 0 | 0 | 0  | 1\n",
      "px    | -0.486  | 0 | 1 | -1 | 1\n",
      "py    | -0.486  | 0 | 1 | 1  | 1\n",
      "pz    | -0.486  | 0 | 1 | 0  | 1\n",
      "------+---------+---+---+----+--\n",
      " \n",
      "---------------------------------\n",
      "\n"
     ]
    }
   ],
   "source": [
    "h = Hamiltonian(xyz=xyz_coords, nn_distance=4.6, so_coupling=1.5)"
   ]
  },
  {
   "cell_type": "code",
   "execution_count": 5,
   "metadata": {},
   "outputs": [],
   "source": [
    "import numpy as np\n",
    "def radial_dep(coords):\n",
    "\n",
    "    norm_of_coords = np.linalg.norm(coords)\n",
    "    if norm_of_coords < 3.3:\n",
    "        return 1\n",
    "    elif 3.7 > norm_of_coords > 3.3:\n",
    "        return 2\n",
    "    elif 5.0 > norm_of_coords > 3.7:\n",
    "        return 3\n",
    "    else:\n",
    "        return 100"
   ]
  },
  {
   "cell_type": "code",
   "execution_count": 6,
   "metadata": {},
   "outputs": [],
   "source": [
    "# 1NN - Bi-Bi\n",
    "PAR1 = {'ss_sigma': -0.608,\n",
    "        'sp_sigma': 1.320,\n",
    "        'pp_sigma': 1.854,\n",
    "        'pp_pi': -0.600}\n",
    "\n",
    "# 2NN - Bi-Bi\n",
    "PAR2 = {'ss_sigma': -0.384,\n",
    "        'sp_sigma': 0.433,\n",
    "        'pp_sigma': 1.396,\n",
    "        'pp_pi': -0.344}\n",
    "\n",
    "# 3NN - Bi-Bi\n",
    "PAR3 = {'ss_sigma': 0,\n",
    "        'sp_sigma': 0,\n",
    "        'pp_sigma': 0.156,\n",
    "        'pp_pi': 0}"
   ]
  },
  {
   "cell_type": "code",
   "execution_count": 7,
   "metadata": {},
   "outputs": [],
   "source": [
    "set_tb_params(PARAMS_BI_BI1=PAR1, PARAMS_BI_BI2=PAR2, PARAMS_BI_BI3=PAR3)"
   ]
  },
  {
   "cell_type": "code",
   "execution_count": 8,
   "metadata": {},
   "outputs": [
    {
     "name": "stderr",
     "output_type": "stream",
     "text": [
      "Radial dependence function: None\n",
      "\n",
      "---------------------------------\n",
      "\n",
      "Discrete radial dependence function:\n",
      "\n",
      "def radial_dep(coords):\n",
      "\n",
      "    norm_of_coords = np.linalg.norm(coords)\n",
      "    if norm_of_coords < 3.3:\n",
      "        return 1\n",
      "    elif 3.7 > norm_of_coords > 3.3:\n",
      "        return 2\n",
      "    elif 5.0 > norm_of_coords > 3.7:\n",
      "        return 3\n",
      "    else:\n",
      "        return 100\n",
      "\n",
      "\n",
      "---------------------------------\n",
      "\n",
      "Unique distances: \n",
      "    \n",
      "---------------------------------\n",
      "\n"
     ]
    },
    {
     "data": {
      "text/plain": [
       "<nanonet.tb.hamiltonian.Hamiltonian at 0x7f257070b358>"
      ]
     },
     "execution_count": 8,
     "metadata": {},
     "output_type": "execute_result"
    }
   ],
   "source": [
    "h.initialize(radial_dep)"
   ]
  },
  {
   "cell_type": "code",
   "execution_count": 9,
   "metadata": {},
   "outputs": [],
   "source": [
    "primitive_cell = [[-2.2666    , -1.30862212,  3.93223333],\n",
    "                  [ 2.2666    , -1.30862212,  3.93223333],\n",
    "                  [ 0.        ,  2.61724424,  3.93223333]]"
   ]
  },
  {
   "cell_type": "code",
   "execution_count": 10,
   "metadata": {},
   "outputs": [
    {
     "name": "stderr",
     "output_type": "stream",
     "text": [
      "Primitive_cell_vectors: \n",
      " [[-2.2666, -1.30862212, 3.93223333], [2.2666, -1.30862212, 3.93223333], [0.0, 2.61724424, 3.93223333]] \n",
      "\n",
      "---------------------------------\n",
      "\n"
     ]
    }
   ],
   "source": [
    "h.set_periodic_bc(primitive_cell)"
   ]
  },
  {
   "cell_type": "code",
   "execution_count": 11,
   "metadata": {},
   "outputs": [],
   "source": [
    "sym_points = ['K', 'GAMMA', 'T', 'W', 'L', 'LAMBDA']\n",
    "num_points = [10, 10, 10, 10, 10]\n",
    "special_k_points = {'GAMMA': [0.0, 0.0, 0.0],\n",
    " 'K': [0.35985144675492087, -0.8002652081237402, 0.5326462926072546],\n",
    " 'L': [0.69305, -0.4001326040618701, 0.2663231463036273],\n",
    " 'LAMBDA': [0.0, 0.0, 0.39948471945544095],\n",
    " 'T': [0.0, 0.0, 0.7989694389108819],\n",
    " 'U': [0.5397771701323816, -0.31164049447834485, 0.7989694389108819],\n",
    " 'W': [0.3598514467549211, -0.6232809889566897, 0.7989694389108819],\n",
    " 'X': [0.0, -0.8002652081237402, 0.5326462926072546]}\n",
    "k_points = get_k_coords(sym_points, num_points, special_k_points)"
   ]
  },
  {
   "cell_type": "code",
   "execution_count": 12,
   "metadata": {},
   "outputs": [],
   "source": [
    "band_structure = []\n",
    "for jj, item in enumerate(k_points):\n",
    "    [eigenvalues, _] =\\\n",
    "        h.diagonalize_periodic_bc(k_points[jj])\n",
    "    band_structure.append(eigenvalues)"
   ]
  },
  {
   "cell_type": "code",
   "execution_count": 13,
   "metadata": {},
   "outputs": [
    {
     "data": {
      "image/png": "[encoded data removed]",
      "text/plain": [
       "<Figure size 600x400 with 1 Axes>"
      ]
     },
     "metadata": {
      "needs_background": "light"
     },
     "output_type": "display_data"
    }
   ],
   "source": [
    "import matplotlib.pyplot as plt\n",
    "plt.figure(dpi=100)\n",
    "ax = plt.axes()\n",
    "plt.ylim((-15, 5))\n",
    "ax.set_title('Band structure of the bulk bismuth')\n",
    "ax.set_ylabel('Energy (eV)')\n",
    "ax.plot(band_structure, 'k')\n",
    "ax.plot([0, len(band_structure)], [0, 0], '--', color='k', linewidth=0.5)\n",
    "plt.xticks(np.insert(np.cumsum(num_points)-1,0,0), labels=sym_points)\n",
    "ax.xaxis.grid()\n",
    "plt.show()"
   ]
  },
  {
   "cell_type": "code",
   "execution_count": null,
   "metadata": {},
   "outputs": [],
   "source": []
  }
 ],
 "metadata": {
  "celltoolbar": "Raw Cell Format",
  "kernelspec": {
   "display_name": "Python 3",
   "language": "python",
   "name": "python3"
  },
  "language_info": {
   "codemirror_mode": {
    "name": "ipython",
    "version": 3
   },
   "file_extension": ".py",
   "mimetype": "text/x-python",
   "name": "python",
   "nbconvert_exporter": "python",
   "pygments_lexer": "ipython3",
   "version": "3.6.9"
  }
 },
 "nbformat": 4,
 "nbformat_minor": 2
}
