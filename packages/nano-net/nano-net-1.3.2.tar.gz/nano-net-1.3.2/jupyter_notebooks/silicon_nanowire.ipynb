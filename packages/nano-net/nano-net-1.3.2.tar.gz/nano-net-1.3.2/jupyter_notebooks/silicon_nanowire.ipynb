{
 "cells": [
  {
   "cell_type": "markdown",
   "metadata": {},
   "source": [
    "# Silicon nanowire"
   ]
  },
  {
   "cell_type": "markdown",
   "metadata": {},
   "source": [
    "Here we compute band structure of a silicon hydrogen-passivated infinie nanowire. The nanowire width equals two crystall latices of bulk silicon. The nanowire is translated along [001] crystalographic axis of silicon.\n",
    "\n",
    "## Prerequisites"
   ]
  },
  {
   "cell_type": "code",
   "execution_count": 1,
   "metadata": {},
   "outputs": [
    {
     "name": "stderr",
     "output_type": "stream",
     "text": [
      " _   _                   _   _      _   \n",
      "| \\ | | __ _ _ __   ___ | \\ | | ___| |_ \n",
      "|  \\| |/ _` | '_ \\ / _ \\|  \\| |/ _ \\ __|\n",
      "| |\\  | (_| | | | | (_) | |\\  |  __/ |_ \n",
      "|_| \\_|\\__,_|_| |_|\\___/|_| \\_|\\___|\\__|\n",
      "                                        \n",
      "\n",
      "Vesion 1.1.5\n"
     ]
    }
   ],
   "source": [
    "%matplotlib inline\n",
    "import matplotlib.pyplot as plt\n",
    "import numpy as np\n",
    "import nanonet.tb as tb"
   ]
  },
  {
   "cell_type": "markdown",
   "metadata": {},
   "source": [
    "## Specify basis sets\n",
    "Here we use two predefined basis sets, called 'SiliconSP3D5S' and 'HydrogenS', stored in the progam."
   ]
  },
  {
   "cell_type": "code",
   "execution_count": 2,
   "metadata": {},
   "outputs": [
    {
     "name": "stderr",
     "output_type": "stream",
     "text": [
      "The verbosity level is 1\n",
      "The radius of the neighbourhood is 2.4 Ang\n",
      "\n",
      "---------------------------------\n",
      "\n",
      "The xyz-file:\n",
      " 77\n",
      "H62Si82 cell written by cluster.py\n",
      "Si1    0.000000    0.000000    0.000000\n",
      "Si2    2.750000    2.750000    0.000000\n",
      "Si3    2.750000    0.000000    2.750000\n",
      "Si4    0.000000    2.750000    2.750000\n",
      "Si5    1.375000    1.375000    1.375000\n",
      "Si6    4.125000    4.125000    1.375000\n",
      "Si7    4.125000    1.375000    4.125000\n",
      "Si8    1.375000    4.125000    4.125000\n",
      "Si9    0.000000    5.500000    0.000000\n",
      "                  .                    \n",
      "                  .                    \n",
      "                  .                    \n",
      "There are 69 more coordinates\n",
      "---------------------------------\n",
      "\n",
      "Basis set \n",
      " Num of species {'Si': 41, 'H': 36} \n",
      "\n",
      "\n",
      " Si \n",
      "title  | energy  | n | l | m  | s\n",
      "-------+---------+---+---+----+--\n",
      "s      | -2.0196 | 0 | 0 | 0  | 0\n",
      "c      | 19.6748 | 1 | 0 | 0  | 0\n",
      "px     | 4.5448  | 0 | 1 | -1 | 0\n",
      "py     | 4.5448  | 0 | 1 | 1  | 0\n",
      "pz     | 4.5448  | 0 | 1 | 0  | 0\n",
      "dz2    | 14.1836 | 0 | 2 | -1 | 0\n",
      "dxz    | 14.1836 | 0 | 2 | -2 | 0\n",
      "dyz    | 14.1836 | 0 | 2 | 2  | 0\n",
      "dxy    | 14.1836 | 0 | 2 | 1  | 0\n",
      "dx2my2 | 14.1836 | 0 | 2 | 0  | 0\n",
      "-------+---------+---+---+----+--\n",
      " \n",
      "\n",
      " H \n",
      "title | energy | n | l | m | s\n",
      "------+--------+---+---+---+--\n",
      "s     | 0.9998 | 0 | 0 | 0 | 0\n",
      "------+--------+---+---+---+--\n",
      " \n",
      "---------------------------------\n",
      "\n",
      "Radial dependence function: None\n",
      "\n",
      "---------------------------------\n",
      "\n",
      "Discrete radial dependence function: None\n",
      "\n",
      "---------------------------------\n",
      "\n",
      "Unique distances: \n",
      "    1.4885 Ang between atoms Si and H\n",
      "    1.4885 Ang between atoms H and Si\n",
      "    2.3816 Ang between atoms Si and Si\n",
      "    1.4584 Ang between atoms H and H\n",
      "---------------------------------\n",
      "\n",
      "Primitive_cell_vectors: \n",
      " [[0, 0, 5.5]] \n",
      "\n",
      "---------------------------------\n",
      "\n"
     ]
    }
   ],
   "source": [
    "a_si = 5.50\n",
    "PRIMITIVE_CELL = [[0, 0, a_si]]\n",
    "tb.Orbitals.orbital_sets = {'Si': 'SiliconSP3D5S', 'H': 'HydrogenS'}\n",
    "\n",
    "h = tb.Hamiltonian(xyz='../examples/input_samples/SiNW2.xyz', nn_distance=2.4)\n",
    "h.initialize()\n",
    "h.set_periodic_bc(PRIMITIVE_CELL)"
   ]
  },
  {
   "cell_type": "code",
   "execution_count": 3,
   "metadata": {},
   "outputs": [
    {
     "data": {
      "text/plain": [
       "<matplotlib.image.AxesImage at 0x7f5c42be8a20>"
      ]
     },
     "execution_count": 3,
     "metadata": {},
     "output_type": "execute_result"
    },
    {
     "data": {
      "image/png": "[encoded data removed]",
      "text/plain": [
       "<Figure size 432x288 with 1 Axes>"
      ]
     },
     "metadata": {
      "needs_background": "light"
     },
     "output_type": "display_data"
    }
   ],
   "source": [
    "plt.axis('off')\n",
    "plt.spy(np.abs(h.h_matrix))"
   ]
  },
  {
   "cell_type": "markdown",
   "metadata": {},
   "source": [
    "## Band structure computation"
   ]
  },
  {
   "cell_type": "code",
   "execution_count": 4,
   "metadata": {},
   "outputs": [],
   "source": [
    "num_points = 20\n",
    "kk = np.linspace(0, 3.14 / a_si, num_points, endpoint=True)\n",
    "band_sructure = []\n",
    "\n",
    "for jj in range(num_points):\n",
    "    vals, _ = h.diagonalize_periodic_bc([0.0, 0.0, kk[jj]])\n",
    "    band_sructure.append(vals)\n",
    "\n",
    "band_sructure = np.array(band_sructure)\n"
   ]
  },
  {
   "cell_type": "markdown",
   "metadata": {},
   "source": [
    "## Visualization"
   ]
  },
  {
   "cell_type": "code",
   "execution_count": 5,
   "metadata": {},
   "outputs": [
    {
     "data": {
      "image/png": "[encoded data removed]",
      "text/plain": [
       "<Figure size 432x288 with 2 Axes>"
      ]
     },
     "metadata": {
      "needs_background": "light"
     },
     "output_type": "display_data"
    }
   ],
   "source": [
    "split = 100\n",
    "fig, ax = plt.subplots(1, 2)\n",
    "ax[0].set_ylim(-1.0, -0.3)\n",
    "ax[0].plot(kk, np.sort(np.real(band_sructure))[:, :split], 'k')\n",
    "ax[0].set_xlabel(r'Wave vector ($\\frac{\\pi}{a}$)')\n",
    "ax[0].set_ylabel(r'Energy (eV)')\n",
    "ax[0].set_title('Valence band')\n",
    "\n",
    "ax[1].set_ylim(2.0, 2.7)\n",
    "ax[1].plot(kk, np.sort(np.real(band_sructure))[:, split:], 'k')\n",
    "ax[1].set_xlabel(r'Wave vector ($\\frac{\\pi}{a}$)')\n",
    "ax[1].set_ylabel(r'Energy (eV)')\n",
    "ax[1].set_title('Conduction band')\n",
    "fig.tight_layout()\n",
    "plt.show()"
   ]
  }
 ],
 "metadata": {
  "kernelspec": {
   "display_name": "Python 3",
   "language": "python",
   "name": "python3"
  },
  "language_info": {
   "codemirror_mode": {
    "name": "ipython",
    "version": 3
   },
   "file_extension": ".py",
   "mimetype": "text/x-python",
   "name": "python",
   "nbconvert_exporter": "python",
   "pygments_lexer": "ipython3",
   "version": "3.6.9"
  }
 },
 "nbformat": 4,
 "nbformat_minor": 2
}
