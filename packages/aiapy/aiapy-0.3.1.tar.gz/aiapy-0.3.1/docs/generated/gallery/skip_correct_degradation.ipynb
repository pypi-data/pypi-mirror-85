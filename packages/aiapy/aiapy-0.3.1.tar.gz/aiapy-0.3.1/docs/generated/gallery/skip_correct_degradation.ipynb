{
  "cells": [
    {
      "cell_type": "code",
      "execution_count": null,
      "metadata": {
        "collapsed": false
      },
      "outputs": [],
      "source": [
        "%matplotlib inline"
      ]
    },
    {
      "cell_type": "markdown",
      "metadata": {},
      "source": [
        "\n# Correcting for Instrument Degradation\n\n\nThis example demonstrates how to correct an AIA image\nto account for the degradation of the telescopes over time.\n"
      ]
    },
    {
      "cell_type": "code",
      "execution_count": null,
      "metadata": {
        "collapsed": false
      },
      "outputs": [],
      "source": [
        "import matplotlib.pyplot as plt\nimport astropy.units as u\nimport astropy.time\nfrom astropy.visualization import ImageNormalize, SqrtStretch, time_support\nfrom sunpy.net import Fido, attrs\nimport sunpy.map\n\nfrom aiapy.calibrate import correct_degradation\nfrom aiapy.calibrate.util import get_correction_table"
      ]
    },
    {
      "cell_type": "markdown",
      "metadata": {},
      "source": [
        "The performance of the AIA telescope is degrading over time,\nleading to the resulting images becoming increasingly dim. We\ncan correct for this by modeling the degradation over time and\nthen dividing the image intensity by this correction.\n\nFirst, let's fetch one 335 \u00c5 AIA observation from the\n`Virtual Solar Observatory <https://sdac.virtualsolar.org/cgi/search>`_\nfor every other year between 2010 and 2018 and create a list of `\n~sunpy.map.Map` objects. We choose the 335 \u00c5 channel because it has\nexperienced significant degradation compared to the other EUV channels.\n\n"
      ]
    },
    {
      "cell_type": "code",
      "execution_count": null,
      "metadata": {
        "collapsed": false
      },
      "outputs": [],
      "source": [
        "q = Fido.search(\n    attrs.Time('2010-06-01T00:00:00', '2018-06-01T00:00:00'),\n    attrs.Sample(2*u.year),\n    attrs.Instrument('AIA'),\n    attrs.Wavelength(335*u.angstrom),\n)\nmaps = sunpy.map.Map(sorted(Fido.fetch(q)))"
      ]
    },
    {
      "cell_type": "markdown",
      "metadata": {},
      "source": [
        "Next, we can pass each map to the `~aiapy.calibrate.correct_degradation`\nfunction. This function calculates the time-dependent correction factor\nbased on the time and wavelength of the observation, divides the intensity\nby the correction factor, and returns a new corrected map. For more details\non how the correction factor is calculated, see the documentation for the\n`~aiapy.calibrate.degradation` function.\n\n"
      ]
    },
    {
      "cell_type": "code",
      "execution_count": null,
      "metadata": {
        "collapsed": false
      },
      "outputs": [],
      "source": [
        "correction_table = get_correction_table()\nmaps_corrected = [correct_degradation(m, correction_table=correction_table) for m in maps]"
      ]
    },
    {
      "cell_type": "markdown",
      "metadata": {},
      "source": [
        "Let's plot the uncorrected and corrected images for each year to show the\ndegradation over time.\n\n"
      ]
    },
    {
      "cell_type": "code",
      "execution_count": null,
      "metadata": {
        "collapsed": false
      },
      "outputs": [],
      "source": [
        "norm = ImageNormalize(vmin=0, vmax=1e2, stretch=SqrtStretch())\nfig = plt.figure(figsize=(len(maps), 2))\nfor i, (m, mc) in enumerate(zip(maps, maps_corrected)):\n    ax = fig.add_subplot(2, len(maps), i+1, projection=m)\n    m.plot(axes=ax, norm=norm, annotate=False)\n    ax.set_title(m.date.datetime.year)\n    ax.coords[0].set_ticks_visible(False)\n    ax.coords[0].set_ticklabel_visible(False)\n    ax.coords[1].set_ticks_visible(False)\n    ax.coords[1].set_ticklabel_visible(False)\n    ax = fig.add_subplot(2, len(maps), i+1+len(maps), projection=mc)\n    mc.plot(axes=ax, norm=norm, annotate=False,)\n    ax.coords[0].set_ticks_visible(False)\n    ax.coords[0].set_ticklabel_visible(False)\n    ax.coords[1].set_ticks_visible(False)\n    ax.coords[1].set_ticklabel_visible(False)"
      ]
    },
    {
      "cell_type": "markdown",
      "metadata": {},
      "source": [
        "The effect of the degradation correction is more easily seen in the\ntotal flux as a function of time.\n\n"
      ]
    },
    {
      "cell_type": "code",
      "execution_count": null,
      "metadata": {
        "collapsed": false
      },
      "outputs": [],
      "source": [
        "flux_corrected = u.Quantity([m.data.sum() for m in maps_corrected])\nflux_uncorrected = u.Quantity([m.data.sum() for m in maps])\ntime = astropy.time.Time([m.date for m in maps])\ntime_support()\nfig = plt.figure()\nax = fig.gca()\nax.plot(time, flux_uncorrected, label='uncorrected', marker='o')\nax.plot(time, flux_corrected, label='corrected', marker='o')\nax.set_xlabel('Time')\nax.set_ylabel('Total Intensity [DN]')\nax.legend(frameon=False)"
      ]
    }
  ],
  "metadata": {
    "kernelspec": {
      "display_name": "Python 3",
      "language": "python",
      "name": "python3"
    },
    "language_info": {
      "codemirror_mode": {
        "name": "ipython",
        "version": 3
      },
      "file_extension": ".py",
      "mimetype": "text/x-python",
      "name": "python",
      "nbconvert_exporter": "python",
      "pygments_lexer": "ipython3",
      "version": "3.8.1"
    }
  },
  "nbformat": 4,
  "nbformat_minor": 0
}