{
  "cells": [
    {
      "cell_type": "code",
      "execution_count": null,
      "metadata": {
        "collapsed": false
      },
      "outputs": [],
      "source": [
        "%matplotlib inline"
      ]
    },
    {
      "cell_type": "markdown",
      "metadata": {},
      "source": [
        "\n# Registering and Aligning Level 1 Data\n\n\nThis example demonstrates how to convert AIA images to a common pointing,\nrescale them to a common plate scale , and remove the roll angle. This process\nis often referred to as \"aia_prep\" and the resulting data are typically\nreferred to as level 1.5 data. In this example, we will demonstrate how to do\nthis with `aiapy`. This corresponds to the `aia_prep.pro` procedure as\ndescribed in the `SDO Analysis Guide <https://www.lmsal.com/sdodocs/doc/dcur/SDOD0060.zip/zip/entry/index.html>`_.\n"
      ]
    },
    {
      "cell_type": "code",
      "execution_count": null,
      "metadata": {
        "collapsed": false
      },
      "outputs": [],
      "source": [
        "import astropy.units as u\nfrom sunpy.net import Fido, attrs\nimport sunpy.map\n\nfrom aiapy.calibrate import register, update_pointing, normalize_exposure"
      ]
    },
    {
      "cell_type": "markdown",
      "metadata": {},
      "source": [
        "Performing multi-wavelength analysis on level 1 data can be problematic as\neach of the AIA channels have slightly different spatial scales and roll\nangles. Furthermore, the estimates of the pointing keywords (`CDELT1`, `CDELT2`, `CRPIX1`,\n`CRPIX2`, `CROTA2`) may have been improved due to limb fitting procedures. The\n`Joint Science Operations Center (JSOC) <http://jsoc.stanford.edu/>`_ stores\nAIA image data and metadata separately; when users download AIA data, these\ntwo data types are combined to produce a FITS file. While metadata are\ncontinuously updated at JSOC, previously downloaded FITS files will not\ncontain the most recent information.\n\nThus, before performing any multi-wavelength analyses, level 1 data\nshould be updated to the most recent and accurate pointing and interpolated\nto a common grid in which the y-axis of the image is aligned\nwith solar North.\n\nFirst, let's fetch level 1 AIA images from the\n`Virtual Solar Observatory <https://sdac.virtualsolar.org/cgi/search>`_\nfrom 1 January 2019 for the 94 \u00c5 channel and create a `~sunpy.map.Map`\nobject.\n\n"
      ]
    },
    {
      "cell_type": "code",
      "execution_count": null,
      "metadata": {
        "collapsed": false
      },
      "outputs": [],
      "source": [
        "q = Fido.search(\n    attrs.Time('2019-01-01T00:00:00', '2019-01-01T00:00:11'),\n    attrs.Instrument('AIA'),\n    attrs.Wavelength(wavemin=94*u.angstrom, wavemax=94*u.angstrom),\n)\nm = sunpy.map.Map(Fido.fetch(q))"
      ]
    },
    {
      "cell_type": "markdown",
      "metadata": {},
      "source": [
        "The first step in this process is to update the metadata of the map to the\nmost recent pointing using  the `~aiapy.calibrate.update_pointing` function.\nThis function queries the JSOC for the most recent pointing information,\nupdates the metadata, and returns a `~sunpy.map.Map` with updated metadata.\n\n"
      ]
    },
    {
      "cell_type": "code",
      "execution_count": null,
      "metadata": {
        "collapsed": false
      },
      "outputs": [],
      "source": [
        "m_updated_pointing = update_pointing(m)"
      ]
    },
    {
      "cell_type": "markdown",
      "metadata": {},
      "source": [
        "If we take a look at the plate scale and rotation matrix of the map, we\nfind that the scale is slightly off from the expected value of 0.6\" per\npixel and that the rotation matrix has off-diagonal entries.\n\n"
      ]
    },
    {
      "cell_type": "code",
      "execution_count": null,
      "metadata": {
        "collapsed": false
      },
      "outputs": [],
      "source": [
        "print(m_updated_pointing.scale)\nprint(m_updated_pointing.rotation_matrix)"
      ]
    },
    {
      "cell_type": "markdown",
      "metadata": {},
      "source": [
        "We can use the `~aiapy.calibrate.register` function to scale the image to\nthe 0.6\" per pixel and derotate the image such that the y-axis is aligned\nwith solar North.\n\n"
      ]
    },
    {
      "cell_type": "code",
      "execution_count": null,
      "metadata": {
        "collapsed": false
      },
      "outputs": [],
      "source": [
        "m_registered = register(m_updated_pointing)"
      ]
    },
    {
      "cell_type": "markdown",
      "metadata": {},
      "source": [
        "If we look again at the plate scale and rotation matrix, we\nshould find that the plate scale in each direction is 0.6 arcseconds\nper pixel and that the rotation matrix is diagonalized.\nThe image in `m_registered` is now a level 1.5 data product.\n\n"
      ]
    },
    {
      "cell_type": "code",
      "execution_count": null,
      "metadata": {
        "collapsed": false
      },
      "outputs": [],
      "source": [
        "print(m_registered.scale)\nprint(m_registered.rotation_matrix)"
      ]
    },
    {
      "cell_type": "markdown",
      "metadata": {},
      "source": [
        "Though it is not typically part of the level 1.5 \"prep\" data pipeline,\nit is also common to normalize the image to the exposure time such that\nthe units of the image are DN / pixel / s.\n\n"
      ]
    },
    {
      "cell_type": "code",
      "execution_count": null,
      "metadata": {
        "collapsed": false
      },
      "outputs": [],
      "source": [
        "m_normalized = normalize_exposure(m_registered)"
      ]
    },
    {
      "cell_type": "markdown",
      "metadata": {},
      "source": [
        "Plot the exposure-normalized map\nNote: Small negative pixel values are possible because\nCCD images were taken with a pedestal set at ~ 100 DN.\nThis pedestal is then subtracted when the JSOC pipeline\nperforms dark (+pedestal) subtraction and flatfielding\nto generate level 1 files.\n\n"
      ]
    },
    {
      "cell_type": "code",
      "execution_count": null,
      "metadata": {
        "collapsed": false
      },
      "outputs": [],
      "source": [
        "m_normalized.peek(vmin=0)"
      ]
    }
  ],
  "metadata": {
    "kernelspec": {
      "display_name": "Python 3",
      "language": "python",
      "name": "python3"
    },
    "language_info": {
      "codemirror_mode": {
        "name": "ipython",
        "version": 3
      },
      "file_extension": ".py",
      "mimetype": "text/x-python",
      "name": "python",
      "nbconvert_exporter": "python",
      "pygments_lexer": "ipython3",
      "version": "3.8.1"
    }
  },
  "nbformat": 4,
  "nbformat_minor": 0
}