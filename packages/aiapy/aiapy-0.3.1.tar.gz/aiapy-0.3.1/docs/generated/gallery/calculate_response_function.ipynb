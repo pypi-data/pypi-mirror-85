{
  "cells": [
    {
      "cell_type": "code",
      "execution_count": null,
      "metadata": {
        "collapsed": false
      },
      "outputs": [],
      "source": [
        "%matplotlib inline"
      ]
    },
    {
      "cell_type": "markdown",
      "metadata": {},
      "source": [
        "\n# Computing Wavelength Response Functions\n\n\nThis example shows how to compute the\nwavelength response function of the 335 \u00c5 channel as\nwell as explore the different properties of the\ntelescope channels.\n"
      ]
    },
    {
      "cell_type": "code",
      "execution_count": null,
      "metadata": {
        "collapsed": false
      },
      "outputs": [],
      "source": [
        "import matplotlib.pyplot as plt\nimport astropy.units as u\nimport astropy.time\n\nfrom aiapy.response import Channel"
      ]
    },
    {
      "cell_type": "markdown",
      "metadata": {},
      "source": [
        "Since AIA uses wide-band filters, other wavelengths (outside of the nominal\nwavelength attributed to each filter) contribute to the image data.\nComputing these response functions allow us to see which other wavelengths\ncontribute to the image data.\n\nFirst, create a channel object by specifying the\nwavelength of the channel. In this case, we'll\nchoose the 335 \u00c5 channel, but this same workflow\ncan be applied to any of the EUV or UV channels\non AIA. This may take a few seconds the first time you do\nthis as the most recent instrument data file will\nneed to be downloaded from a remote server. Subsequent\ncalls will know that the data has been downloaded.\n\n"
      ]
    },
    {
      "cell_type": "code",
      "execution_count": null,
      "metadata": {
        "collapsed": false
      },
      "outputs": [],
      "source": [
        "c = Channel(335*u.angstrom)"
      ]
    },
    {
      "cell_type": "markdown",
      "metadata": {},
      "source": [
        "From `Boerner et al. (2012) <https://doi.org/10.1007/s11207-011-9804-8>`_,\nthe wavelength response function is given by,\n\n\\begin{align}R(\\lambda) = A_{geo}R_P(\\lambda)R_S(\\lambda)T_E(\\lambda)T_F(\\lambda)\n  D(\\lambda)Q(\\lambda)G(\\lambda),\\end{align}\n\nwhere\n\n- $A_{geo}$ geometrical collecting area\n- $R_P,R_S$ reflectances of primary and secondary mirrors, respectively\n- $T_E, T_F$ transmission efficiency of the entrance and focal-plane\n  filters, respectively\n- $D$ contaminant transmittance of optics\n- $Q$ quantum efficiency of the CCD\n- $G$ gain of the CCD camera system\n\nThe `~aiapy.response.Channel` object provides an interface to all of these\nproperties of the telescope. Below, we show how to plot several of these\nproperties as a function of wavelength.\n\n"
      ]
    },
    {
      "cell_type": "code",
      "execution_count": null,
      "metadata": {
        "collapsed": false
      },
      "outputs": [],
      "source": [
        "fig = plt.figure()\nax = fig.add_subplot(221)\nax.plot(c.wavelength, c.primary_reflectance, label=r'$R_P$')\nax.plot(c.wavelength, c.secondary_reflectance, label=r'$R_S$')\nax.set_ylabel(r'Reflectance')\nax.set_xlim(50, 400)\nax.set_xlabel(r'$\\lambda$ [\u00c5]')\nax.legend(frameon=False)\nax = fig.add_subplot(222)\nax.plot(c.wavelength, c.entrance_filter_efficiency, label=r'$T_E$')\nax.plot(c.wavelength, c.focal_plane_filter_efficiency, label=r'$T_F$')\nax.set_ylabel(r'Transmittance')\nax.set_xlim(50, 400)\nax.set_xlabel(r'$\\lambda$ [\u00c5]')\nax.legend(frameon=False)\nax = fig.add_subplot(223)\nax.plot(c.wavelength, c.contamination)\nax.set_ylabel(r'Contamination, $D(\\lambda)$')\nax.set_xlim(50, 400)\nax.set_xlabel(r'$\\lambda$ [\u00c5]')\nax = fig.add_subplot(224)\nax.plot(c.wavelength, c.quantum_efficiency)\nax.set_ylabel(r'Quantum Efficiency, $Q(\\lambda)$')\nax.set_xlim(50, 800)\nax.set_xlabel(r'$\\lambda$ [\u00c5]')\nplt.tight_layout()"
      ]
    },
    {
      "cell_type": "markdown",
      "metadata": {},
      "source": [
        "Additionally, `~aiapy.response.Channel` provides a method for calculating\nthe wavelength response function using the equation above,\n\n"
      ]
    },
    {
      "cell_type": "code",
      "execution_count": null,
      "metadata": {
        "collapsed": false
      },
      "outputs": [],
      "source": [
        "r = c.wavelength_response()\nprint(r)"
      ]
    },
    {
      "cell_type": "markdown",
      "metadata": {},
      "source": [
        "We can then plot the response as a function of\nwavelength.\n\n"
      ]
    },
    {
      "cell_type": "code",
      "execution_count": null,
      "metadata": {
        "collapsed": false
      },
      "outputs": [],
      "source": [
        "fig = plt.figure()\nax = fig.gca()\nax.plot(c.wavelength, r)\nax.set_xlim((c.channel + [-10, 10]*u.angstrom).value)\nax.set_ylim(0, 0.03)\nax.set_xlabel(r'$\\lambda$ [\u00c5]')\nax.set_ylabel(f'$R(\\lambda)$ [{r.unit.to_string(\"latex\")}]')"
      ]
    },
    {
      "cell_type": "markdown",
      "metadata": {},
      "source": [
        "On telescopes 1, 3, and 4, both channels are always illuminated.\nThis can lead to \"crosstalk\" contamination in a channel from the channel with\nwhich it shares a telescope. This impacts the 94 \u00c5 and 304 \u00c5 channels\nas well as the 131 \u00c5 and 335 \u00c5 channels. This effect is included\nby default in the wavelength response calculation. To exclude this\neffect,\n\n"
      ]
    },
    {
      "cell_type": "code",
      "execution_count": null,
      "metadata": {
        "collapsed": false
      },
      "outputs": [],
      "source": [
        "r_no_cross = c.wavelength_response(include_crosstalk=False)"
      ]
    },
    {
      "cell_type": "markdown",
      "metadata": {},
      "source": [
        "If we look at the response around 131 \u00c5 (the channel with which 335 \u00c5 shares\na telescope), we can see the effect that the channel crosstalk has on the\n335 \u00c5 response function.\n\n"
      ]
    },
    {
      "cell_type": "code",
      "execution_count": null,
      "metadata": {
        "collapsed": false
      },
      "outputs": [],
      "source": [
        "fig = plt.figure()\nax = fig.gca()\nax.plot(c.wavelength, r, label='crosstalk')\nax.plot(c.wavelength, r_no_cross, label='no crosstalk')\nax.set_xlim(50, 350)\nax.set_xlabel(r'$\\lambda$ [\u00c5]')\nax.set_ylabel(f'$R(\\lambda)$ [{r.unit.to_string(\"latex\")}]')\nax.legend(loc=1, frameon=False)"
      ]
    },
    {
      "cell_type": "markdown",
      "metadata": {},
      "source": [
        "We can also incorporate various corrections to the\nresponse functions, including a time-dependent\ndegradation correction as well as a correction based\non the EVE calibration. The latter also includes the\ntime-dependent correction. As an example, to apply the\ntwo aforementioned corrections given the degradation as\nof 1 January 2019,\n\n"
      ]
    },
    {
      "cell_type": "code",
      "execution_count": null,
      "metadata": {
        "collapsed": false
      },
      "outputs": [],
      "source": [
        "obstime = astropy.time.Time('2019-01-01T00:00:00')\nr_time = c.wavelength_response(obstime=obstime)\nr_eve = c.wavelength_response(obstime=obstime, include_eve_correction=True)"
      ]
    },
    {
      "cell_type": "markdown",
      "metadata": {},
      "source": [
        "We can then compare the two corrected response\nfunctions to the uncorrected case.\n\n"
      ]
    },
    {
      "cell_type": "code",
      "execution_count": null,
      "metadata": {
        "collapsed": false
      },
      "outputs": [],
      "source": [
        "fig = plt.figure()\nax = fig.gca()\nax.plot(c.wavelength, r, label='uncorrected')\nax.plot(c.wavelength, r_time, label='degradation correction')\nax.plot(c.wavelength, r_eve, label='EVE correction')\nax.set_xlim((c.channel + [-20, 20]*u.angstrom).value)\nax.set_ylim(0, 0.03)\nax.set_xlabel(r'$\\lambda$ [\u00c5]')\nax.set_ylabel(f'$R(\\lambda)$ [{r.unit.to_string(\"latex\")}]')\nax.legend(loc=2, frameon=False)"
      ]
    }
  ],
  "metadata": {
    "kernelspec": {
      "display_name": "Python 3",
      "language": "python",
      "name": "python3"
    },
    "language_info": {
      "codemirror_mode": {
        "name": "ipython",
        "version": 3
      },
      "file_extension": ".py",
      "mimetype": "text/x-python",
      "name": "python",
      "nbconvert_exporter": "python",
      "pygments_lexer": "ipython3",
      "version": "3.8.1"
    }
  },
  "nbformat": 4,
  "nbformat_minor": 0
}