{
  "cells": [
    {
      "cell_type": "code",
      "execution_count": null,
      "metadata": {
        "collapsed": false
      },
      "outputs": [],
      "source": [
        "%matplotlib inline"
      ]
    },
    {
      "cell_type": "markdown",
      "metadata": {},
      "source": [
        "\n# Updating Pointing and Observer Keywords in the FITS Header\n\n\nThis example demonstrates how to update the metadata in\nan AIA FITS file to ensure that it has the most accurate\ninformation regarding the spacecraft pointing and observer\nposition.\n"
      ]
    },
    {
      "cell_type": "code",
      "execution_count": null,
      "metadata": {
        "collapsed": false
      },
      "outputs": [],
      "source": [
        "import astropy.units as u\nfrom sunpy.net import Fido, attrs\nimport sunpy.map\n\nfrom aiapy.calibrate import update_pointing, fix_observer_location"
      ]
    },
    {
      "cell_type": "markdown",
      "metadata": {},
      "source": [
        "An AIA FITS header contains various pieces of\n`standard <https://fits.gsfc.nasa.gov/fits_standard.html>`_.\nmetadata that are critical to the physical interpretation of the data.\nThese include the pointing of the spacecraft, necessary for connecting\npositions on the pixel grid to physical locations on the Sun, as well as\nthe observer (i.e. satellite) location.\n\nWhile this metadata is recorded in the FITS header, some values in\nthe headers exported by data providers (e.g.\n`Joint Science Operations Center (JSOC) <http://jsoc.stanford.edu/>`_ and\nthe `Virtual Solar Observatory <https://sdac.virtualsolar.org/cgi/search>`_\nmay not always be the most accurate. In the case of the spacecraft\npointing, a more accurate 3-hourly pointing table is available from the\nJSOC.\n\nAs an example, let's first query the VSO for a single 171 \u00c5 AIA observation\non 1 January 2019, download it, and create a `~sunpy.map.Map`\n\n"
      ]
    },
    {
      "cell_type": "code",
      "execution_count": null,
      "metadata": {
        "collapsed": false
      },
      "outputs": [],
      "source": [
        "q = Fido.search(\n    attrs.Time('2019-01-01T00:00:00', '2019-01-01T01:00:00'),\n    attrs.Sample(1*u.h),\n    attrs.Instrument('AIA'),\n    attrs.Wavelength(171*u.angstrom),\n)\nfile = Fido.fetch(q)\nm = sunpy.map.Map(file)"
      ]
    },
    {
      "cell_type": "markdown",
      "metadata": {},
      "source": [
        "To update the pointing keywords, we can pass our `~sunpy.map.Map` to the\n`~aiapy.calibrate.update_pointing` function. This function will query the\nJSOC, using `~sunpy`, for the most recent pointing information, update\nthe metadata, and then return a new `~sunpy.map.Map` with this updated\nmetadata.\n\n"
      ]
    },
    {
      "cell_type": "code",
      "execution_count": null,
      "metadata": {
        "collapsed": false
      },
      "outputs": [],
      "source": [
        "m_updated_pointing = update_pointing(m)"
      ]
    },
    {
      "cell_type": "markdown",
      "metadata": {},
      "source": [
        "If we inspect the reference pixel and rotation matrix of the original map\n\n"
      ]
    },
    {
      "cell_type": "code",
      "execution_count": null,
      "metadata": {
        "collapsed": false
      },
      "outputs": [],
      "source": [
        "print(m.reference_pixel)\nprint(m.rotation_matrix)"
      ]
    },
    {
      "cell_type": "markdown",
      "metadata": {},
      "source": [
        "and the map with the updated pointing information\n\n"
      ]
    },
    {
      "cell_type": "code",
      "execution_count": null,
      "metadata": {
        "collapsed": false
      },
      "outputs": [],
      "source": [
        "print(m_updated_pointing.reference_pixel)\nprint(m_updated_pointing.rotation_matrix)"
      ]
    },
    {
      "cell_type": "markdown",
      "metadata": {},
      "source": [
        "we find that the relevant keywords, `CRPIX1`, `CRPIX2`, `CDELT1`, `CDELT2`,\nand `CROTA2`, have been updated.\n\nSimilarly, the Heliographic Stonyhurst (HGS) coordinates of the observer\nlocation in the header are inaccurate. If we check the HGS longitude keyword\nin the header, we find that it is 0 degrees which is not the HGS longitude\ncoordinate of SDO.\n\n"
      ]
    },
    {
      "cell_type": "code",
      "execution_count": null,
      "metadata": {
        "collapsed": false
      },
      "outputs": [],
      "source": [
        "print(m_updated_pointing.meta['hgln_obs'])\nprint(m_updated_pointing.meta['hglt_obs'])"
      ]
    },
    {
      "cell_type": "markdown",
      "metadata": {},
      "source": [
        "To update the HGS observer coordinates, we can use the\n`~aiapy.calibrate.fix_observer_location` function. This function reads the\ncorrect observer location from Heliocentric Aries Ecliptic (HAE) coordinates\nin the header, converts them to HGS, and replaces the inaccurate HGS\nkeywords.\n\n"
      ]
    },
    {
      "cell_type": "code",
      "execution_count": null,
      "metadata": {
        "collapsed": false
      },
      "outputs": [],
      "source": [
        "m_observer_fixed = fix_observer_location(m_updated_pointing)"
      ]
    },
    {
      "cell_type": "markdown",
      "metadata": {},
      "source": [
        "Looking again at the HGS longitude and latitude keywords, we can see that\nthey have been updated.\n\n"
      ]
    },
    {
      "cell_type": "code",
      "execution_count": null,
      "metadata": {
        "collapsed": false
      },
      "outputs": [],
      "source": [
        "print(m_observer_fixed.meta['hgln_obs'])\nprint(m_observer_fixed.meta['hglt_obs'])"
      ]
    },
    {
      "cell_type": "markdown",
      "metadata": {},
      "source": [
        "Note that in `~sunpy.map.AIAMap`, the `~sunpy.map.Map.observer_coordinate`\nattribute is already derived from the HAE coordinates such that it is not\nstrictly necessary to apply `~aiapy.calibrate.fix_observer_location`. For\nexample, the unfixed `~sunpy.map.Map` will still have an accurate derived\nobserver position\n\n"
      ]
    },
    {
      "cell_type": "code",
      "execution_count": null,
      "metadata": {
        "collapsed": false
      },
      "outputs": [],
      "source": [
        "print(m_updated_pointing.observer_coordinate)"
      ]
    },
    {
      "cell_type": "markdown",
      "metadata": {},
      "source": [
        "However, we suggest that users apply this fix such that the information\nstored in `~sunpy.map.Map.meta` is accurate and consistent.\n\nPlot the fixed map\n\n"
      ]
    },
    {
      "cell_type": "code",
      "execution_count": null,
      "metadata": {
        "collapsed": false
      },
      "outputs": [],
      "source": [
        "m_observer_fixed.peek()"
      ]
    }
  ],
  "metadata": {
    "kernelspec": {
      "display_name": "Python 3",
      "language": "python",
      "name": "python3"
    },
    "language_info": {
      "codemirror_mode": {
        "name": "ipython",
        "version": 3
      },
      "file_extension": ".py",
      "mimetype": "text/x-python",
      "name": "python",
      "nbconvert_exporter": "python",
      "pygments_lexer": "ipython3",
      "version": "3.8.1"
    }
  },
  "nbformat": 4,
  "nbformat_minor": 0
}