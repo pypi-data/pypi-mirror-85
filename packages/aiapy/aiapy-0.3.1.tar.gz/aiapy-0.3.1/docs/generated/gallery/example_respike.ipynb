{
  "cells": [
    {
      "cell_type": "code",
      "execution_count": null,
      "metadata": {
        "collapsed": false
      },
      "outputs": [],
      "source": [
        "%matplotlib inline"
      ]
    },
    {
      "cell_type": "markdown",
      "metadata": {},
      "source": [
        "\n# Re-spiking Level 1 Images\n\n\nThis example demonstrates how to \"re-spike\" AIA level 1 images\n"
      ]
    },
    {
      "cell_type": "code",
      "execution_count": null,
      "metadata": {
        "collapsed": false
      },
      "outputs": [],
      "source": [
        "import astropy.units as u\nimport matplotlib.pyplot as plt\nfrom astropy.coordinates import SkyCoord\nfrom sunpy.net import Fido, attrs\nimport sunpy.map\nfrom aiapy.calibrate import respike, fetch_spikes"
      ]
    },
    {
      "cell_type": "markdown",
      "metadata": {},
      "source": [
        "AIA level 1 images have been corrected for hot-pixels (commonly referred to\nas \"spikes\") using an automated correction algorithm, which detects them,\nremoves them and replaces the \"holes\" left in the image via interpolation.\nHowever, for certain research topics, this automated hot-pixel removal\nprocess may result in unwanted removal of bright points which may be\nphysically meaningful. In this example, we will demonstrate how to revert\nthis removal by putting back all the removed pixel values with the\n`~aiapy.calibrate.respike` in function. This corresponds to the\naia_respike.pro` IDL procedure as described in the\n`SDO Analysis Guide <https://www.lmsal.com/sdodocs/doc/dcur/SDOD0060.zip/zip/entry/index.html>`_.\n\nThe header keywords `LVL_NUM` and `NSPIKES` describe the level number of the\nAIA data (e.g. level 1) and how many hot pixels were removed from the image\n(i.e. the \"spikes\"). The data containing the information of the pixel\nposition and the intensities of the removed hot pixels are available from the\n`Joint Science Operations Center (JSOC) <http://jsoc.stanford.edu/>`_ as a\nseparate segment of the `aia.lev1_euv_12s` and `aia.lev1_uv_24s` data series\n\n"
      ]
    },
    {
      "cell_type": "markdown",
      "metadata": {},
      "source": [
        "First, let's fetch a level 1 AIA image read it into a `~sunpy.map.Map`. For\nour demonstration we use a 193 \u00c5 image taken on 15 March 2013.\n\n"
      ]
    },
    {
      "cell_type": "code",
      "execution_count": null,
      "metadata": {
        "collapsed": false
      },
      "outputs": [],
      "source": [
        "q = Fido.search(attrs.Time('2013-03-15T12:01:00', '2013-03-15T12:01:10'),\n                attrs.Wavelength(193*u.angstrom),\n                attrs.Instrument('AIA'))\nf = Fido.fetch(q)\nm = sunpy.map.Map(f)"
      ]
    },
    {
      "cell_type": "markdown",
      "metadata": {},
      "source": [
        "The spike data are stored as separate data segments in JSOC\nas a $3\\times N$ arrays, where $N$ is the number of spikes\nremoved and the three dimensions correspond to the the 1-D pixel index\nof the spike, intensity value of the removed spikes, and the intensity value\nused in replacing the removed spike (via interpolation).\nThe spike pixel positions are given with respect to the level 0.5 full-disk\nimage.\n\nWe can use the `~aiapy.calibrate.fetch_spikes` function to query the JSOC\nfor the spike positions and intensity values and convert the positions of the\nspikes to the 2D pixel full-disk pixel coordinate system given a\n`~sunpy.map.Map` representing a level 1 AIA image.\n\n\n"
      ]
    },
    {
      "cell_type": "code",
      "execution_count": null,
      "metadata": {
        "collapsed": false
      },
      "outputs": [],
      "source": [
        "positions, values = fetch_spikes(m)"
      ]
    },
    {
      "cell_type": "markdown",
      "metadata": {},
      "source": [
        "Now we are ready to respike the level 1 AIA image. The\n`~aiapy.calibrate.respike` performs the respike operation on the given\ninput image and returns a `~sunpy.map.Map` with the respiked image. This\noperation also alters both the metadata by updating the `LVL_NUM`, `NSPIKES`\nand `COMMENTS` keywords.\n\nNote that explicitly specifying the spike positions and values is optional.\nIf they are not given, they are automatically queried from the JSOC.\n\n"
      ]
    },
    {
      "cell_type": "code",
      "execution_count": null,
      "metadata": {
        "collapsed": false
      },
      "outputs": [],
      "source": [
        "m_respiked = respike(m, spikes=(positions, values))"
      ]
    },
    {
      "cell_type": "markdown",
      "metadata": {},
      "source": [
        "Now let's create a cutouts of the original level 1 and \"re-spiked\" (i.e.\nlevel 0.5) images for a region with hot pixels.\n\n"
      ]
    },
    {
      "cell_type": "code",
      "execution_count": null,
      "metadata": {
        "collapsed": false
      },
      "outputs": [],
      "source": [
        "top_right = SkyCoord(30 * u.arcsec, 420 * u.arcsec,\n                     frame=m.coordinate_frame)\nbottom_left = SkyCoord(-120 * u.arcsec, 280 * u.arcsec,\n                       frame=m.coordinate_frame)\nm_cutout = m.submap(bottom_left, top_right=top_right)\nm_respiked_cutout = m_respiked.submap(bottom_left, top_right=top_right)"
      ]
    },
    {
      "cell_type": "markdown",
      "metadata": {},
      "source": [
        "Note that we can also retrieve the positions of the spikes\nas `~astropy.coordinates.SkyCoord` objects in the projected coordinate\nsystem of the image using the `as_coords=True` keyword argument. This\ngives us only those spikes in the field of view of the cutout.\n\n"
      ]
    },
    {
      "cell_type": "code",
      "execution_count": null,
      "metadata": {
        "collapsed": false
      },
      "outputs": [],
      "source": [
        "spike_coords, _ = fetch_spikes(m_cutout, as_coords=True)"
      ]
    },
    {
      "cell_type": "markdown",
      "metadata": {},
      "source": [
        "Finally, let's plot the two cutouts for comparison and plot\nthe positions of the spikes in both images, denoted by white\ncircles.\n\n"
      ]
    },
    {
      "cell_type": "code",
      "execution_count": null,
      "metadata": {
        "collapsed": false
      },
      "outputs": [],
      "source": [
        "fig = plt.figure()\nax = fig.add_subplot(121, projection=m_cutout)\nax.plot_coord(spike_coords, 'o', color='white', fillstyle='none',\n              markersize=15)\nm_cutout.plot(axes=ax, title='Level 1 \"de-spiked\" data')\nlon, lat = ax.coords\nlon.set_axislabel('HPC Longitude')\nlat.set_axislabel('HPC Latitude')\nax = fig.add_subplot(122, projection=m_respiked_cutout)\nax.plot_coord(spike_coords, 'o', color='white', fillstyle='none',\n              markersize=15)\nm_respiked_cutout.plot(axes=ax, annotate=False)\nax.set_title('Level 0.5 \"re-spiked\" data')\nlon, lat = ax.coords\nlon.set_axislabel('HPC Longitude')\nlat.set_axislabel(' ')\nlat.set_ticklabel_visible(False)"
      ]
    },
    {
      "cell_type": "markdown",
      "metadata": {},
      "source": [
        "Lastly, let's check the metadata in both the level 1 and resulting\n0.5 images to double check that the appropriate keywords have been updated.\n\n"
      ]
    },
    {
      "cell_type": "code",
      "execution_count": null,
      "metadata": {
        "collapsed": false
      },
      "outputs": [],
      "source": [
        "for k in ['lvl_num', 'nspikes', 'comments']:\n    print(f'Level 1: {k}: {m_cutout.meta.get(k)}')\n    print(f'Level 0.5: {k}: {m_respiked_cutout.meta.get(k)}')"
      ]
    }
  ],
  "metadata": {
    "kernelspec": {
      "display_name": "Python 3",
      "language": "python",
      "name": "python3"
    },
    "language_info": {
      "codemirror_mode": {
        "name": "ipython",
        "version": 3
      },
      "file_extension": ".py",
      "mimetype": "text/x-python",
      "name": "python",
      "nbconvert_exporter": "python",
      "pygments_lexer": "ipython3",
      "version": "3.8.1"
    }
  },
  "nbformat": 4,
  "nbformat_minor": 0
}