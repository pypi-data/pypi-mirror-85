{
  "cells": [
    {
      "cell_type": "code",
      "execution_count": null,
      "metadata": {
        "collapsed": false
      },
      "outputs": [],
      "source": [
        "%matplotlib inline"
      ]
    },
    {
      "cell_type": "markdown",
      "metadata": {},
      "source": [
        "\n# Deconvolving Images with the Instrument Point Spread Function\n\n\nThis example demonstrates how to deconvolve an AIA image with\nthe instrument point spread function (PSF).\n"
      ]
    },
    {
      "cell_type": "code",
      "execution_count": null,
      "metadata": {
        "collapsed": false
      },
      "outputs": [],
      "source": [
        "import astropy.units as u\nfrom astropy.coordinates import SkyCoord\nfrom astropy.visualization import ImageNormalize, LogStretch, AsinhStretch\nfrom sunpy.net import Fido, attrs\nimport sunpy.map\nimport matplotlib.pyplot as plt\n\nimport aiapy.psf"
      ]
    },
    {
      "cell_type": "markdown",
      "metadata": {},
      "source": [
        "AIA images are subject to convolution with the instrument point-spread\nfunction (PSF) due to effects introduced by the filter mesh of the telescope\nand the CCD, among others. This has the effect of \"blurring\" the image.\nThe PSF diffraction pattern may also be particularly noticable during the\nimpulsive phase of a flare where the intensity enhancement is very localized.\nTo remove these artifacts, the PSF must be deconvolved from the image.\n\nFirst, we'll download a single level 1 image from the 171 \u00c5 channel from\n7 June 2011. Note that deconvolution should be performend on level 1 images\nonly. This is because, as with the level 1 data, the PSF model is defined\non the CCD grid. Once deconvolved, the image can be passed to\n`~aiapy.calibrate.register`\n(see the `sphx_glr_generated_gallery_prepping_level_1_data.py` example).\n\n"
      ]
    },
    {
      "cell_type": "code",
      "execution_count": null,
      "metadata": {
        "collapsed": false
      },
      "outputs": [],
      "source": [
        "q = Fido.search(\n    attrs.Time('2011-06-07T06:52:00', '2011-06-07T06:52:10'),\n    attrs.Instrument('AIA'),\n    attrs.Wavelength(wavemin=171*u.angstrom, wavemax=171*u.angstrom),\n)\nm = sunpy.map.Map(Fido.fetch(q))\nfig = plt.figure()\nax = fig.add_subplot(111, projection=m)\nm.plot(axes=ax,)"
      ]
    },
    {
      "cell_type": "markdown",
      "metadata": {},
      "source": [
        "Next, we'll calculate the PSF using `~aiapy.psf.psf` for the 171 \u00c5 channel.\nThe PSF model accounts for several different effects, including diffraction\nfrom the mesh grating of the filters, charge spreading, and jitter. See\n`Grigis et al (2012) <https://hesperia.gsfc.nasa.gov/ssw/sdo/aia/idl/psf/DOC/psfreport.pdf>`_\nfor more details. Currently, this only works for\n$4096\\times4096$ full frame images.\n\nNote that this will be significantly faster if you have a GPU and the `cupy`\npackage installed.\n\n"
      ]
    },
    {
      "cell_type": "code",
      "execution_count": null,
      "metadata": {
        "collapsed": false
      },
      "outputs": [],
      "source": [
        "psf = aiapy.psf.psf(m.wavelength)"
      ]
    },
    {
      "cell_type": "markdown",
      "metadata": {},
      "source": [
        "We'll plot just a 500-by-500 pixel section centered on the center pixel. The\ndiffraction \"arms\" extending from the center pixel can often be seen in\nflare observations due to the intense, small-scale brightening.\n\n"
      ]
    },
    {
      "cell_type": "code",
      "execution_count": null,
      "metadata": {
        "collapsed": false
      },
      "outputs": [],
      "source": [
        "fov = 500\nlc_x, lc_y = psf.shape[0]//2 - fov//2, psf.shape[1]//2 - fov//2\nplt.imshow(psf[lc_x:lc_x+fov, lc_y:lc_y+fov],\n           norm=ImageNormalize(vmin=1e-8, vmax=1e-3, stretch=LogStretch()))\nplt.colorbar()"
      ]
    },
    {
      "cell_type": "markdown",
      "metadata": {},
      "source": [
        "Now that we've downloaded our image and computed the PSF, we can deconvolve\nthe image with the PSF using the\n`Richardson-Lucy deconvolution algorithm <https://en.wikipedia.org/wiki/Richardson%E2%80%93Lucy_deconvolution>`_.\nNote that passing in the PSF is optional. If you exclude it, it will be\ncalculated automatically. However, when deconvolving many images of the same\nwavelength, it is most efficient to only calculate the PSF once.\n\nAs with `~aiapy.psf.psf`, this will be much faster if you have\na GPU and `cupy` installed.\n\n"
      ]
    },
    {
      "cell_type": "code",
      "execution_count": null,
      "metadata": {
        "collapsed": false
      },
      "outputs": [],
      "source": [
        "m_deconvolved = aiapy.psf.deconvolve(m, psf=psf)"
      ]
    },
    {
      "cell_type": "markdown",
      "metadata": {},
      "source": [
        "Let's compare the convolved and deconvolved images.\n\n"
      ]
    },
    {
      "cell_type": "code",
      "execution_count": null,
      "metadata": {
        "collapsed": false
      },
      "outputs": [],
      "source": [
        "norm = ImageNormalize(vmin=0, vmax=1.5e4, stretch=AsinhStretch(0.01))\nfig = plt.figure()\nax = fig.add_subplot(121, projection=m)\nm.plot(axes=ax, norm=norm)\nax = fig.add_subplot(122, projection=m_deconvolved)\nm_deconvolved.plot(axes=ax, annotate=False, norm=norm)\nax.coords[0].set_axislabel(' ')\nax.coords[1].set_axislabel(' ')\nax.coords[1].set_ticklabel_visible(False)"
      ]
    },
    {
      "cell_type": "markdown",
      "metadata": {},
      "source": [
        "The differences become a bit more obvious when we zoom in. Note that the\ndeconvolution has the effect of \"deblurring\" the image.\n\n"
      ]
    },
    {
      "cell_type": "code",
      "execution_count": null,
      "metadata": {
        "collapsed": false
      },
      "outputs": [],
      "source": [
        "left_corner = 500*u.arcsec, -600*u.arcsec\nright_corner = 1000*u.arcsec, -100*u.arcsec\nfig = plt.figure()\nm_sub = m.submap(\n    SkyCoord(*left_corner, frame=m.coordinate_frame),\n    SkyCoord(*right_corner, frame=m.coordinate_frame)\n)\nax = fig.add_subplot(121, projection=m_sub)\nm_sub.plot(axes=ax, norm=norm)\nm_deconvolved_sub = m_deconvolved.submap(\n    SkyCoord(*left_corner, frame=m_deconvolved.coordinate_frame),\n    SkyCoord(*right_corner, frame=m_deconvolved.coordinate_frame)\n)\nax = fig.add_subplot(122, projection=m_deconvolved_sub)\nm_deconvolved_sub.plot(axes=ax, annotate=False, norm=norm)\nax.coords[0].set_axislabel(' ')\nax.coords[1].set_axislabel(' ')\nax.coords[1].set_ticklabel_visible(False)"
      ]
    }
  ],
  "metadata": {
    "kernelspec": {
      "display_name": "Python 3",
      "language": "python",
      "name": "python3"
    },
    "language_info": {
      "codemirror_mode": {
        "name": "ipython",
        "version": 3
      },
      "file_extension": ".py",
      "mimetype": "text/x-python",
      "name": "python",
      "nbconvert_exporter": "python",
      "pygments_lexer": "ipython3",
      "version": "3.8.1"
    }
  },
  "nbformat": 4,
  "nbformat_minor": 0
}