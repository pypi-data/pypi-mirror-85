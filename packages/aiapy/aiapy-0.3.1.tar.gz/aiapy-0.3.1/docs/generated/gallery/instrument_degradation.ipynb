{
  "cells": [
    {
      "cell_type": "code",
      "execution_count": null,
      "metadata": {
        "collapsed": false
      },
      "outputs": [],
      "source": [
        "%matplotlib inline"
      ]
    },
    {
      "cell_type": "markdown",
      "metadata": {},
      "source": [
        "\n# Modeling Channel Degradation over Time\n\n\nThis example demonstrates how to model the degradation\nof the AIA channels as a function of time over the entire\nlifetime of the instrument.\n"
      ]
    },
    {
      "cell_type": "code",
      "execution_count": null,
      "metadata": {
        "collapsed": false
      },
      "outputs": [],
      "source": [
        "import numpy as np\nimport matplotlib.pyplot as plt\nimport astropy.units as u\nimport astropy.time\nfrom astropy.visualization import time_support\n\nfrom aiapy.calibrate import degradation\nfrom aiapy.calibrate.util import get_correction_table"
      ]
    },
    {
      "cell_type": "markdown",
      "metadata": {},
      "source": [
        "The sensitivity of AIA channels degrade over time. Possible causes include\nthe deposition of organic molecules from the telescope structure onto the\noptical elements and the decrease in detector sensitivity following (E)UV\nexposure. When looking at AIA images over the lifetime of the mission, it\nisimportant to understand how the degradation of the instrument impacts the\nmeasured intensity. For monitoring brightness changes over months and years,\ndegradation correction is an important step in the data normalization proces.\nFor instance, the SDO Machine Learning Dataset\n(`Galvez et al., 2019 <https://ui.adsabs.harvard.edu/abs/2019ApJS..242....7G/abstract>`_)\nincludes this correction.\n\nThe AIA team models the change in transmission as a function of time (see\n`Boerner et al., 2012 <https://doi.org/10.1007/s11207-011-9804-8>`_) and\nthe table of correction parameters is publicly available via the\n`Joint Science Operations Center (JSOC) <http://jsoc.stanford.edu/>`_.\n\nFirst, fetch this correction table. It is not strictly necessary to do this,\nbut will significantly speed up the calculation by only fetching the table\nonce.\n\n"
      ]
    },
    {
      "cell_type": "code",
      "execution_count": null,
      "metadata": {
        "collapsed": false
      },
      "outputs": [],
      "source": [
        "correction_table = get_correction_table()"
      ]
    },
    {
      "cell_type": "markdown",
      "metadata": {},
      "source": [
        "We want to compute the degradation for each EUV channel.\n\n"
      ]
    },
    {
      "cell_type": "code",
      "execution_count": null,
      "metadata": {
        "collapsed": false
      },
      "outputs": [],
      "source": [
        "channels = [94, 131, 171, 193, 211, 304, 335] * u.angstrom"
      ]
    },
    {
      "cell_type": "markdown",
      "metadata": {},
      "source": [
        "We can use the `~astropy.time` subpackage to create an array of times\nbetween now and the start of the mission with a cadence of one week.\n\n"
      ]
    },
    {
      "cell_type": "code",
      "execution_count": null,
      "metadata": {
        "collapsed": false
      },
      "outputs": [],
      "source": [
        "time_0 = astropy.time.Time('2010-06-01T00:00:00', scale='utc')\nnow = astropy.time.Time.now()\ntime = time_0 + np.arange(0, (now - time_0).to(u.day).value, 7) * u.day"
      ]
    },
    {
      "cell_type": "markdown",
      "metadata": {},
      "source": [
        "Finally, we can use the `~aiapy.calibrate.degradation` function to\ncompute the degradation for a particular channel and observation time.\nThis is modeled as the ratio of the effective area measured at a particular\ncalibration epoch over the uncorrected effective area with a polynomial\ninterpolation to the exact time.\n\n"
      ]
    },
    {
      "cell_type": "code",
      "execution_count": null,
      "metadata": {
        "collapsed": false
      },
      "outputs": [],
      "source": [
        "deg = {c: degradation(c, time, correction_table=correction_table) for c in channels}"
      ]
    },
    {
      "cell_type": "markdown",
      "metadata": {},
      "source": [
        "Plotting the different degradation curves as a function of time, we can\neasily visualize how the different channels have degraded over time.\n\n"
      ]
    },
    {
      "cell_type": "code",
      "execution_count": null,
      "metadata": {
        "collapsed": false
      },
      "outputs": [],
      "source": [
        "time_support()  # Pass astropy.time.Time directly to matplotlib\nfig = plt.figure()\nax = fig.gca()\nfor c in channels:\n    ax.plot(time, deg[c], label=f'{c.value:.0f} \u00c5')\nax.set_xlim(time[[0, -1]])\nax.legend(frameon=False, ncol=4, bbox_to_anchor=(0.5, 1), loc='lower center')\nax.set_xlabel('Time')\nax.set_ylabel('Degradation')"
      ]
    }
  ],
  "metadata": {
    "kernelspec": {
      "display_name": "Python 3",
      "language": "python",
      "name": "python3"
    },
    "language_info": {
      "codemirror_mode": {
        "name": "ipython",
        "version": 3
      },
      "file_extension": ".py",
      "mimetype": "text/x-python",
      "name": "python",
      "nbconvert_exporter": "python",
      "pygments_lexer": "ipython3",
      "version": "3.8.1"
    }
  },
  "nbformat": 4,
  "nbformat_minor": 0
}