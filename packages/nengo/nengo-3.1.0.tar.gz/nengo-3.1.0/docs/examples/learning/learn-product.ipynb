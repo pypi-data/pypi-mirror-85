{
 "cells": [
  {
   "cell_type": "markdown",
   "metadata": {},
   "source": [
    "# Learning to compute a product\n",
    "\n",
    "Unlike the communication channel and the element-wise square,\n",
    "the product is a nonlinear function on multiple inputs.\n",
    "This represents a difficult case for learning rules\n",
    "that aim to generalize a function given many\n",
    "input-output example pairs.\n",
    "However, using the same type of network structure\n",
    "as in the communication channel and square cases,\n",
    "we can learn to compute the product of two dimensions\n",
    "with the `nengo.PES` learning rule.\n",
    "\n",
    "The product is a trickier function to learn than\n",
    "the communication channel and the square.\n",
    "We will also try the `nengo.RLS` learning rule\n",
    "and see how `PES` and `RLS` compare in terms of\n",
    "learning the product of two dimensions."
   ]
  },
  {
   "cell_type": "code",
   "execution_count": null,
   "metadata": {},
   "outputs": [],
   "source": [
    "import numpy as np\n",
    "import matplotlib.pyplot as plt\n",
    "\n",
    "%matplotlib inline\n",
    "\n",
    "import nengo\n",
    "from nengo.processes import WhiteSignal"
   ]
  },
  {
   "cell_type": "markdown",
   "metadata": {},
   "source": [
    "## Create the model\n",
    "\n",
    "Like previous examples,\n",
    "the network consists of `pre`, `post`, and `error` ensembles.\n",
    "We'll use two-dimensional white noise input and attempt to learn the product\n",
    "using the actual product to compute the error signal."
   ]
  },
  {
   "cell_type": "code",
   "execution_count": null,
   "metadata": {},
   "outputs": [],
   "source": [
    "model = nengo.Network()\n",
    "with model:\n",
    "    # -- input and pre popluation\n",
    "    inp = nengo.Node(WhiteSignal(60, high=5), size_out=2)\n",
    "    pre = nengo.Ensemble(120, dimensions=2)\n",
    "    nengo.Connection(inp, pre)\n",
    "\n",
    "    # -- post populations\n",
    "    post_pes = nengo.Ensemble(60, dimensions=1)\n",
    "    post_rls = nengo.Ensemble(60, dimensions=1)\n",
    "\n",
    "    # -- reference population, containing the actual product\n",
    "    product = nengo.Ensemble(60, dimensions=1)\n",
    "    nengo.Connection(inp, product, function=lambda x: x[0] * x[1], synapse=None)\n",
    "\n",
    "    # -- error populations\n",
    "    error_pes = nengo.Ensemble(60, dimensions=1)\n",
    "    nengo.Connection(post_pes, error_pes)\n",
    "    nengo.Connection(product, error_pes, transform=-1)\n",
    "    error_rls = nengo.Ensemble(60, dimensions=1)\n",
    "    nengo.Connection(post_rls, error_rls)\n",
    "    nengo.Connection(product, error_rls, transform=-1)\n",
    "\n",
    "    # -- learning connections\n",
    "    conn_pes = nengo.Connection(\n",
    "        pre,\n",
    "        post_pes,\n",
    "        function=lambda x: np.random.random(1),\n",
    "        learning_rule_type=nengo.PES(),\n",
    "    )\n",
    "    nengo.Connection(error_pes, conn_pes.learning_rule)\n",
    "    conn_rls = nengo.Connection(\n",
    "        pre,\n",
    "        post_rls,\n",
    "        function=lambda x: np.random.random(1),\n",
    "        learning_rule_type=nengo.RLS(),\n",
    "    )\n",
    "    nengo.Connection(error_rls, conn_rls.learning_rule)\n",
    "\n",
    "    # -- inhibit errors after 40 seconds\n",
    "    inhib = nengo.Node(lambda t: 2.0 if t > 40.0 else 0.0)\n",
    "    nengo.Connection(inhib, error_pes.neurons, transform=[[-1]] * error_pes.n_neurons)\n",
    "    nengo.Connection(inhib, error_rls.neurons, transform=[[-1]] * error_rls.n_neurons)\n",
    "\n",
    "    # -- probes\n",
    "    product_p = nengo.Probe(product, synapse=0.01)\n",
    "    pre_p = nengo.Probe(pre, synapse=0.01)\n",
    "    post_pes_p = nengo.Probe(post_pes, synapse=0.01)\n",
    "    error_pes_p = nengo.Probe(error_pes, synapse=0.03)\n",
    "    post_rls_p = nengo.Probe(post_rls, synapse=0.01)\n",
    "    error_rls_p = nengo.Probe(error_rls, synapse=0.03)\n",
    "\n",
    "with nengo.Simulator(model) as sim:\n",
    "    sim.run(60)"
   ]
  },
  {
   "cell_type": "code",
   "execution_count": null,
   "metadata": {},
   "outputs": [],
   "source": [
    "def plots(start_ix=None, end_ix=None):\n",
    "    sl = slice(start_ix, end_ix)\n",
    "    t = sim.trange()[sl]\n",
    "    plt.figure(figsize=(14, 12))\n",
    "    plt.suptitle(\"\")\n",
    "    plt.subplot(4, 1, 1)\n",
    "    plt.plot(t, sim.data[pre_p][sl], c=\"b\")\n",
    "    plt.legend((\"Pre decoding\",), loc=\"best\")\n",
    "    plt.subplot(4, 1, 2)\n",
    "    plt.plot(t, sim.data[product_p][sl], c=\"k\", label=\"Actual product\")\n",
    "    plt.plot(t, sim.data[post_pes_p][sl], c=\"r\", label=\"Post decoding (PES)\")\n",
    "    plt.legend(loc=\"best\")\n",
    "    plt.subplot(4, 1, 3)\n",
    "    plt.plot(t, sim.data[product_p][sl], c=\"k\", label=\"Actual product\")\n",
    "    plt.plot(t, sim.data[post_rls_p][sl], c=\"r\", label=\"Post decoding (RLS)\")\n",
    "    plt.legend(loc=\"best\")\n",
    "    plt.subplot(4, 1, 4)\n",
    "    plt.plot(t, sim.data[error_pes_p][sl], c=\"b\", label=\"Error (PES)\")\n",
    "    plt.plot(t, sim.data[error_rls_p][sl], c=\"r\", label=\"Error (RLS)\")\n",
    "    plt.legend(loc=\"best\")\n",
    "    plt.ylim(-1, 1)\n",
    "\n",
    "\n",
    "plots()"
   ]
  },
  {
   "cell_type": "markdown",
   "metadata": {},
   "source": [
    "## Examine the initial output\n",
    "\n",
    "Let's zoom in on the network at the beginning:"
   ]
  },
  {
   "cell_type": "code",
   "execution_count": null,
   "metadata": {},
   "outputs": [],
   "source": [
    "plots(end_ix=2000)"
   ]
  },
  {
   "cell_type": "markdown",
   "metadata": {},
   "source": [
    "The above plot shows that when the network is initialized,\n",
    "it is not able to compute the product.\n",
    "The error is quite large."
   ]
  },
  {
   "cell_type": "markdown",
   "metadata": {},
   "source": [
    "## Examine the final output\n",
    "\n",
    "After the network has run for a while, and learning has occurred,\n",
    "the output is quite different:"
   ]
  },
  {
   "cell_type": "code",
   "execution_count": null,
   "metadata": {},
   "outputs": [],
   "source": [
    "plots(start_ix=38000, end_ix=42000)"
   ]
  },
  {
   "cell_type": "markdown",
   "metadata": {},
   "source": [
    "You can see that it has learned a decent approximation of the product,\n",
    "but it's not perfect -- typically,\n",
    "it's not as good as the offline optimization.\n",
    "The reason for this is that we've given it white noise input,\n",
    "which has a mean of 0; since this happens in both dimensions,\n",
    "we'll see a lot of examples of inputs and outputs near 0.\n",
    "In other words, we've oversampled a certain part of the\n",
    "vector space, and overlearned decoders that do well in\n",
    "that part of the space. If we want to do better in other\n",
    "parts of the space, we would need to construct an input\n",
    "signal that evenly samples the space."
   ]
  }
 ],
 "metadata": {
  "language_info": {
   "name": "python",
   "pygments_lexer": "ipython3"
  },
  "widgets": {
   "state": {},
   "version": "1.1.2"
  }
 },
 "nbformat": 4,
 "nbformat_minor": 2
}
