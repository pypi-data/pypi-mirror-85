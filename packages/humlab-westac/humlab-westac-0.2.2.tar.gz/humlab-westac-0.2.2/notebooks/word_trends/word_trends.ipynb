{
 "cells": [
  {
   "cell_type": "markdown",
   "metadata": {},
   "source": [
    "## Word Trend Analysis\n",
    "\n",
    "### Load previously vectorized corpus\n",
    "\n",
    "Use the `vectorize_protocol` script to create a new corpus with different settings."
   ]
  },
  {
   "cell_type": "code",
   "execution_count": null,
   "metadata": {},
   "outputs": [],
   "source": [
    "%load_ext autoreload\n",
    "%autoreload 2"
   ]
  },
  {
   "cell_type": "code",
   "execution_count": null,
   "metadata": {},
   "outputs": [],
   "source": [
    "\n",
    "import importlib\n",
    "\n",
    "import penelope.notebook.load_vectorized_corpus_gui as load_corpus_gui\n",
    "import penelope.notebook.utility as notebook_utility\n",
    "import penelope.notebook.vectorize_corpus_gui as vectorize_corpus_gui\n",
    "from bokeh.plotting import output_notebook\n",
    "from penelope.notebook.word_trends.loaded_callback import loaded_callback\n",
    "\n",
    "output_notebook(hide_banner=True)"
   ]
  },
  {
   "cell_type": "code",
   "execution_count": null,
   "metadata": {
    "tags": [],
    "vscode": {
     "end_execution_time": "2020-08-31T18:34:55.995Z",
     "start_execution_time": "2020-08-31T18:34:55.854Z"
    }
   },
   "outputs": [],
   "source": [
    "importlib.reload(vectorize_corpus_gui)\n",
    "importlib.reload(notebook_utility)\n",
    "importlib.reload(load_corpus_gui)\n",
    "importlib.reload(notebook_utility)"
   ]
  },
  {
   "cell_type": "code",
   "execution_count": null,
   "metadata": {
    "lines_to_next_cell": 2,
    "tags": [],
    "vscode": {
     "end_execution_time": "2020-08-31T18:34:55.995Z",
     "start_execution_time": "2020-08-31T18:34:55.854Z"
    }
   },
   "outputs": [],
   "source": [
    "importlib.reload(vectorize_corpus_gui)\n",
    "\n",
    "data = None\n",
    "\n",
    "\n",
    "def loaded_callback_wrapper(\n",
    "    output,\n",
    "    *,\n",
    "    corpus=None,\n",
    "    corpus_folder: str = None,\n",
    "    corpus_tag: str = None,\n",
    "    n_count: int = 10000,\n",
    "    **kwargs,\n",
    "):\n",
    "    global data\n",
    "    data = locals()\n",
    "    loaded_callback(\n",
    "        output, corpus=corpus, corpus_folder=corpus_folder, corpus_tag=corpus_tag, n_count=n_count, **kwargs\n",
    "    )\n",
    "\n",
    "\n",
    "vectorize_corpus_gui.display_gui('*sparv4.csv.zip', generated_callback=loaded_callback_wrapper)"
   ]
  },
  {
   "cell_type": "code",
   "execution_count": null,
   "metadata": {},
   "outputs": [],
   "source": [
    "load_corpus_gui.display_gui(loaded_callback=loaded_callback)"
   ]
  },
  {
   "cell_type": "code",
   "execution_count": null,
   "metadata": {},
   "outputs": [],
   "source": []
  }
 ],
 "metadata": {
  "jupytext": {
   "formats": "ipynb,py:percent"
  },
  "kernelspec": {
   "display_name": "Python 3",
   "language": "python",
   "name": "python3"
  }
 },
 "nbformat": 4,
 "nbformat_minor": 4
}
