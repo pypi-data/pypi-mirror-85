{
 "cells": [
  {
   "cell_type": "markdown",
   "metadata": {},
   "source": [
    "# Prepare Riksdagens Protokoll for Text Analysis\n",
    "\n",
    "## Download Text from KB-LAB API (JSON)\n",
    "\n",
    "Use Python script `extract_json_text.py` to download `content.json` and `meta.json`. The script downloads queries packagers having \"protocoll\" tag (query `{ \"tags\": \"protokoll\" }`).\n",
    "\n",
    "```bash\n",
    "cd source/westac_data\n",
    "pipenv shell\n",
    "cd src/kb_labb\n",
    "nohup python download_protocol_content_json.py >& run.log &\n",
    "```\n",
    "\n",
    "The result is stored as a Zip archive.\n",
    "\n",
    "### Extract text from JSON and store as a corpus of individual text files\n",
    "\n",
    "Use the script `extract_json_text.py` to extract the text from the JSON files.\n",
    "\n",
    "```bash\n",
    "python extract_json_text.py --source-filename ~/tmp/riksdagens_protokoll_content.zip --target-filename ~/tmp/riksdagens_protokoll_content_corpus.zip\n",
    "```\n",
    "\n",
    "The resulting Zip file contains the text files named as `prot_yyyyyy__NN.txt`. One file per protocoll.\n",
    "\n",
    "### Vectorize the corpus to a BoW corpus (westac.VectorizedCorpus)\n",
    "\n",
    "Use the script `vectorize_protocols.py` to create a BoW corpus.\n",
    "\n",
    "```bash\n",
    "python vectorize_protocols.py --source-filename ~/tmp/riksdagens_protokoll_content.zip --target-filename ~/tmp/riksdagens_protokoll_content_corpus.zip\n",
    "```\n",
    "\n",
    "The script calls `generate_corpus` in `westac.corpus.corpus_vectorizer`:\n",
    "\n",
    "```python\n",
    "import westac.corpus.corpus_vectorizer as corpus_vectorizer\n",
    "\n",
    "kwargs = dict( ...vectorize arguments...)\n",
    "corpus_filename = ...\n",
    "output_folder = ...\n",
    "\n",
    "corpus_vectorizer.generate_corpus(corpus_filename, output_folder=output_folder, **kwargs)\n",
    "\n",
    "```\n",
    "\n",
    "The resulting corpus are stored in the specified output folder in two files; a numpy file containing the DTM and a Pythin pickled file with the dictionary and a document index.\n",
    "\n",
    "### Prepare text files for Sparv\n",
    "\n",
    "The Sparv pipeline requires that the individual document are stored as (individual) XML files. The shell script `sparvit-to-xml` can be used to add a root tag to all text files in a Zip archive. The resulting XML files iare stored as a new Zip archive.\n",
    "\n",
    "```bash\n",
    " sparvit-to-xml --input riksdagens_protokoll_content_corpus.zip --output riksdagens_protokoll_content_corpus_xml.zip\n",
    " ```"
   ]
  }
 ],
 "metadata": {
  "jupytext": {
   "formats": "ipynb,py:percent"
  },
  "kernelspec": {
   "display_name": "Python 3",
   "language": "python",
   "name": "python3"
  }
 },
 "nbformat": 4,
 "nbformat_minor": 4
}
