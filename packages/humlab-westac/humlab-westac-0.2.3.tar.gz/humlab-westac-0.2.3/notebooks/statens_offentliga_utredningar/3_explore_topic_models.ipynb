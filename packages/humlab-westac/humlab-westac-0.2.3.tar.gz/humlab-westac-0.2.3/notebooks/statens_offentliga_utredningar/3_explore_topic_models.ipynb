{
 "cells": [
  {
   "cell_type": "markdown",
   "metadata": {},
   "source": [
    "## Text Analysis - Topic Modelling\n",
    "### <span style='color: green'>SETUP </span> Prepare and Setup Notebook <span style='float: right; color: red'>MANDATORY</span>"
   ]
  },
  {
   "cell_type": "code",
   "execution_count": null,
   "metadata": {
    "lines_to_next_cell": 0
   },
   "outputs": [],
   "source": [
    "%%capture\n",
    "\n",
    "# pylint: disable=wrong-import-position\n",
    "%load_ext autoreload\n",
    "%autoreload 2\n",
    "\n",
    "import __paths__  # isort:skip pylint: disable=import-error, unused-import\n",
    "\n",
    "import bokeh.plotting\n",
    "from IPython.core.interactiveshell import InteractiveShell\n",
    "from penelope.utility import get_logger\n",
    "\n",
    "# FIXME #95 Topic Modelling notebook setup celldisplays a load of trace information when run\n",
    "import notebooks.common.load_topic_model_gui as load_gui\n",
    "import notebooks.common.topic_word_distribution_gui as topic_word_distribution_gui\n",
    "import notebooks.common.topic_wordcloud_gui as wordcloud_gui\n",
    "import notebooks.statens_offentliga_utredningar.focus_topics_network_gui as focus_gui\n",
    "import notebooks.statens_offentliga_utredningar.topic_document_network_gui as topic_document_gui\n",
    "import notebooks.statens_offentliga_utredningar.topic_documents_gui as documents_gui\n",
    "import notebooks.statens_offentliga_utredningar.topic_topic_network_gui as topic_topic_gui\n",
    "import notebooks.statens_offentliga_utredningar.topic_trends_gui as trends_gui\n",
    "import notebooks.statens_offentliga_utredningar.topic_trends_overview_gui as overview_gui\n",
    "from notebooks.common import TopicModelContainer, setup_pandas\n",
    "\n",
    "logger = get_logger()\n",
    "InteractiveShell.ast_node_interactivity = \"all\"\n",
    "\n",
    "bokeh.plotting.output_notebook()\n",
    "setup_pandas()\n",
    "current_state: TopicModelContainer = TopicModelContainer.singleton\n",
    "\n",
    "corpus_folder = \"/data/westac/sou_kb_labb\""
   ]
  },
  {
   "cell_type": "markdown",
   "metadata": {},
   "source": [
    "### <span style='color: green'>PREPARE</span> Load Topic Model <span style='float: right; color: red'>MANDATORY</span>"
   ]
  },
  {
   "cell_type": "code",
   "execution_count": null,
   "metadata": {},
   "outputs": [],
   "source": [
    "# FIXME #96 Add ipyaggrid for better table display\n",
    "load_gui.display_gui(corpus_folder, current_state())\n",
    "# load_gui.load_model(corpus_folder, current_state(), 'test.4days')"
   ]
  },
  {
   "cell_type": "markdown",
   "metadata": {},
   "source": [
    "### <span style='color: green;'>VISUALIZE</span> Display Topic's Word Distribution as a Wordcloud<span style='color: red; float: right'> TRY IT</span>"
   ]
  },
  {
   "cell_type": "code",
   "execution_count": null,
   "metadata": {},
   "outputs": [],
   "source": [
    "\n",
    "bokeh.plotting.output_notebook()\n",
    "try:\n",
    "    wordcloud_gui.display_gui(current_state())\n",
    "except Exception as ex:\n",
    "    logger.exception(ex)"
   ]
  },
  {
   "cell_type": "markdown",
   "metadata": {},
   "source": [
    "### <span style='color: green;'>VISUALIZE</span> Topic-Word Distribution<span style='color: red; float: right'>TRY IT</span>\n"
   ]
  },
  {
   "cell_type": "code",
   "execution_count": null,
   "metadata": {},
   "outputs": [],
   "source": [
    "\n",
    "bokeh.plotting.output_notebook()\n",
    "try:\n",
    "    topic_word_distribution_gui.display_gui(current_state())\n",
    "    # topic_word_distribution_gui.display_topic_tokens(current_state(), topic_id=0, n_words=100, output_format='Chart')\n",
    "except Exception as ex:\n",
    "    logger.exception(ex)"
   ]
  },
  {
   "cell_type": "markdown",
   "metadata": {
    "lines_to_next_cell": 2
   },
   "source": [
    "### <span style='color: green;'>VISUALIZE</span> Topic Trends over Time<span style='color: red; float: right'>RUN</span>"
   ]
  },
  {
   "cell_type": "code",
   "execution_count": null,
   "metadata": {},
   "outputs": [],
   "source": [
    "\n",
    "bokeh.plotting.output_notebook()\n",
    "try:\n",
    "    trends_gui.display_gui(current_state())\n",
    "    # trends_gui.display_topic_trend(current_state().inferred_topics.document_topic_weights, topic_id=0, year=None, year_aggregate='mean', output_format='Table')\n",
    "except Exception as ex:\n",
    "    logger.exception(ex)"
   ]
  },
  {
   "cell_type": "markdown",
   "metadata": {},
   "source": [
    "### <span style='color: green;'>VISUALIZE</span> Topic Trends Overview<span style='color: red; float: right'>TRY IT</span>\n",
    "\n",
    "- The topic shares  displayed as a scattered heatmap plot using gradient color based on topic's weight in document.\n",
    "- [Stanford’s Termite software](http://vis.stanford.edu/papers/termite) uses a similar visualization."
   ]
  },
  {
   "cell_type": "code",
   "execution_count": null,
   "metadata": {},
   "outputs": [],
   "source": [
    "\n",
    "bokeh.plotting.output_notebook()\n",
    "try:\n",
    "    overview_gui.display_gui(current_state())\n",
    "except ValueError as ex:\n",
    "    logger.exception(ex)"
   ]
  },
  {
   "cell_type": "markdown",
   "metadata": {},
   "source": [
    "### <span style='color: green;'>BROWSE</span> Browse Topic Documents<span style='color: red; float: right'>TRY IT</span>\n",
    "\n",
    "Displays a list of documents that the topic occurs in above a given threshold."
   ]
  },
  {
   "cell_type": "code",
   "execution_count": null,
   "metadata": {},
   "outputs": [],
   "source": [
    "\n",
    "bokeh.plotting.output_notebook()\n",
    "try:\n",
    "    documents_gui.display_gui(current_state())\n",
    "except Exception as ex:\n",
    "    logger.exception(ex)"
   ]
  },
  {
   "cell_type": "markdown",
   "metadata": {},
   "source": [
    "### <span style='color: green;'>VISUALIZE</span> Topic-Topic Network<span style='color: red; float: right'>TRY IT</span>\n",
    "\n",
    "Computes weighted graph of topics co-occurring in the same document. Topics are defined as co-occurring in a document if they both have a weight above given threshold. The edge weights are the number of co-occurrences (binary yes or no). Node size reflects topic proportions over the entire corpus computed in accordance to LDAvis topic proportions."
   ]
  },
  {
   "cell_type": "code",
   "execution_count": null,
   "metadata": {
    "code_folding": [
     0
    ]
   },
   "outputs": [],
   "source": [
    "\n",
    "bokeh.plotting.output_notebook()\n",
    "try:\n",
    "    topic_topic_gui.display_gui(current_state())\n",
    "except Exception as ex:\n",
    "    logger.exception(ex)"
   ]
  },
  {
   "cell_type": "markdown",
   "metadata": {
    "lines_to_next_cell": 2
   },
   "source": [
    "### <span style='color: green;'>VISUALIZE</span> Document-Topic Network<span style='color: red; float: right'>TRY IT</span>\n"
   ]
  },
  {
   "cell_type": "code",
   "execution_count": null,
   "metadata": {},
   "outputs": [],
   "source": [
    "bokeh.plotting.output_notebook()\n",
    "w = topic_document_gui.display_gui(current_state())"
   ]
  },
  {
   "cell_type": "code",
   "execution_count": null,
   "metadata": {},
   "outputs": [],
   "source": [
    "bokeh.plotting.output_notebook()\n",
    "w = focus_gui.display_gui(current_state())"
   ]
  }
 ],
 "metadata": {
  "jupytext": {
   "encoding": "# -*- coding: utf-8 -*-",
   "formats": "ipynb,py:percent"
  },
  "kernelspec": {
   "display_name": "Python 3",
   "language": "python",
   "name": "python3"
  }
 },
 "nbformat": 4,
 "nbformat_minor": 4
}
