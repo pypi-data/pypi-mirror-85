{
 "cells": [
  {
   "cell_type": "markdown",
   "metadata": {},
   "source": [
    "# Simulated Satellite Scan Strategies"
   ]
  },
  {
   "cell_type": "code",
   "execution_count": null,
   "metadata": {},
   "outputs": [],
   "source": [
    "# Load common tools for all lessons\n",
    "import sys\n",
    "sys.path.insert(0, \"..\")\n",
    "from lesson_tools import (\n",
    "    fake_focalplane\n",
    ")\n",
    "\n",
    "# Capture C++ output in the jupyter cells\n",
    "%reload_ext wurlitzer"
   ]
  },
  {
   "cell_type": "markdown",
   "metadata": {},
   "source": [
    "## Overview\n",
    "\n",
    "A generic satellite scanning strategy can be described in terms of precession and spin axes, the opening angles about each of them, and the rates of rotation.  The precession axis itself is typically oriented in the anti-sun direction and that orientation must be updated either in steps or with a continuous slewing motion.  Here is a cartoon (drawn from an old, public LiteBIRD talk) showing a sketch of these angles:\n",
    "![Cartoon of LiteBIRD scanning](litebird_scan_example.png)\n",
    "\n",
    "For a real satellite experiment such as Planck or LiteBIRD, there are many custom details, such as simulating repointing maneuvers, simulating any lost time due to cooler cycling, nutation effects, etc.  Those are contained in classes for the specific experiments.  The tools built in to the core TOAST package are intended for rough simulations to study things like scan strategy choices.\n",
    "\n",
    "### TOD Class for Simulations\n",
    "\n",
    "In the introductory lesson we saw the use of a TOD derived class providing things like telescope pointing.  Here we introduce the `TODSatellite` class which serves that purpose for generic satellite simulations."
   ]
  },
  {
   "cell_type": "code",
   "execution_count": null,
   "metadata": {},
   "outputs": [],
   "source": [
    "import numpy as np\n",
    "\n",
    "import toast\n",
    "from toast.todmap import (\n",
    "    slew_precession_axis,\n",
    "    TODSatellite\n",
    ")"
   ]
  },
  {
   "cell_type": "code",
   "execution_count": null,
   "metadata": {},
   "outputs": [],
   "source": [
    "# Default Comm (one group for this example)\n",
    "\n",
    "comm = toast.Comm()"
   ]
  },
  {
   "cell_type": "code",
   "execution_count": null,
   "metadata": {},
   "outputs": [],
   "source": [
    "# Create our fake focalplane\n",
    "\n",
    "fp = fake_focalplane()\n",
    "\n",
    "detnames = list(sorted(fp.keys()))\n",
    "detquat = {x: fp[x][\"quat\"] for x in detnames}"
   ]
  },
  {
   "cell_type": "code",
   "execution_count": null,
   "metadata": {},
   "outputs": [],
   "source": [
    "# Scan parameters (made up, not physically motivated)\n",
    "\n",
    "samplerate = 10.0\n",
    "precperiod = 90.0\n",
    "precangle = 45.0\n",
    "spinperiod = 1.0\n",
    "spinangle = 45.0"
   ]
  },
  {
   "cell_type": "code",
   "execution_count": null,
   "metadata": {},
   "outputs": [],
   "source": [
    "# We can simulate a simplistic HWP\n",
    "\n",
    "hwprpm = 6.0"
   ]
  },
  {
   "cell_type": "code",
   "execution_count": null,
   "metadata": {},
   "outputs": [],
   "source": [
    "# Number of samples\n",
    "\n",
    "nsamples = 100"
   ]
  },
  {
   "cell_type": "code",
   "execution_count": null,
   "metadata": {},
   "outputs": [],
   "source": [
    "# Instantiate a TOD\n",
    "\n",
    "tod = TODSatellite(\n",
    "    comm.comm_group, \n",
    "    detquat, \n",
    "    nsamples, \n",
    "    firstsamp=0,\n",
    "    firsttime=0.0,\n",
    "    rate=samplerate,\n",
    "    spinperiod=spinperiod,\n",
    "    spinangle=spinangle,\n",
    "    precperiod=precperiod,\n",
    "    precangle=precangle,\n",
    "    coord=\"E\",\n",
    "    hwprpm=hwprpm\n",
    ")"
   ]
  },
  {
   "cell_type": "code",
   "execution_count": null,
   "metadata": {},
   "outputs": [],
   "source": [
    "# The TOD constructor above specifies the scan parameters, but the boresight\n",
    "# simulation is not done until we set the location of the precession axis as a\n",
    "# function of time.  There is a reason for this delayed construction.  The data\n",
    "# distribution occurs during the above construction, and we might want to only\n",
    "# simulate the precession axis motion for our local data.  In reality this is\n",
    "# cheap enough to do on one process and distribute during the construction.\n",
    "\n",
    "qprec = np.empty(4 * tod.local_samples[1], dtype=np.float64).reshape((-1, 4))\n",
    "\n",
    "deg_per_day = 1.0\n",
    "\n",
    "slew_precession_axis(\n",
    "    qprec,\n",
    "    firstsamp=tod.local_samples[0],\n",
    "    samplerate=samplerate,\n",
    "    degday=deg_per_day,\n",
    ")\n",
    "\n",
    "tod.set_prec_axis(qprec=qprec)"
   ]
  },
  {
   "cell_type": "code",
   "execution_count": null,
   "metadata": {},
   "outputs": [],
   "source": [
    "# Now we can read from this TOD object\n",
    "\n",
    "print(\"TOD timestampes = {} ...\".format(tod.read_times()[:5]))\n",
    "print(\"TOD boresight = \\n{} ...\".format(tod.read_boresight()[:5,:]))\n",
    "for d in detnames:\n",
    "    print(\"TOD detector {} = {} ...\".format(d, tod.read(detector=d, n=5)))\n",
    "    print(\"TOD detector {} flags = {} ...\".format(d, tod.read_flags(detector=d, n=5)))\n",
    "    print(\"TOD detector {} pointing = {} ...\".format(d, tod.read_pntg(detector=d, n=5)))"
   ]
  },
  {
   "cell_type": "markdown",
   "metadata": {},
   "source": [
    "Notice that the signal data for all detectors is zero.  For simulated TOD classes, there is no data to \"read\".  Instead, simulated timestreams are constructed and stored in the `tod.cache` member variable."
   ]
  },
  {
   "cell_type": "markdown",
   "metadata": {},
   "source": [
    "### Low Resolution Example\n",
    "\n",
    "Imagine the case of a satellite telescope with detector beams that are a 5 degrees FWHM.  We'll use a healpix resolution of NSIDE = 32 (approximately 2 degrees) for this example.  Let's use made-up angles for the spin and precession angles of 40 and 50 degrees, respectively:\n",
    "\n",
    "\\begin{align}\n",
    "\\alpha & = 50^{\\circ}\\\\\n",
    "\\beta & = 40^{\\circ}\\\\\n",
    "\\omega_{\\alpha} & = \\text{precession rate}\\\\\n",
    "\\omega_{\\beta} & = \\text{spin rate}\\\\\n",
    "\\end{align}\n",
    "\n",
    "When computing the precession rate, we want the precession motion to be slow enough so that the speed of the boresight on the sky does not vary enough to change our effective beams.  The speed variation on the sky due to precession is\n",
    "\n",
    "\\begin{align}\n",
    "v_{\\text{min}} & = \\beta \\cdot \\omega_{\\beta} - \\alpha \\cdot \\omega_{\\alpha}\\\\\n",
    "v_{\\text{max}} & = \\beta \\cdot \\omega_{\\beta} + \\alpha \\cdot \\omega_{\\alpha}\\\\\n",
    "v_{\\text{diff}} & = v_{\\text{max}} - v_{\\text{min}} = 2 \\alpha \\omega_{\\alpha}\n",
    "\\end{align}\n",
    "\n",
    "This change, integrated over a sample, must be a small fraction (here called \"$X$\") of the beam FWHM:\n",
    "\n",
    "\\begin{align}\n",
    "\\frac{2 \\alpha \\omega_{\\alpha}}{f_{\\text{sample}}} & = X \\cdot \\text{FWHM}\\\\\n",
    "f_{\\text{sample}} & = \\frac{2 \\alpha \\omega_{\\alpha}}{X \\cdot \\text{FWHM}}\\\\\n",
    "\\end{align}\n",
    "\n",
    "The speed of the boresight on the sky in degrees per second due to the spin axis motion is\n",
    "\n",
    "$$v_{bore} = \\alpha \\cdot \\omega_{\\alpha} \\cdot \\frac{1}{60}$$\n",
    "\n",
    "If we want to have 3 hits per pixel with two degree pixels (2/3 degree per second), this gives us\n",
    "\n",
    "\\begin{align}\n",
    "v_{bore} = \\frac{2}{3} & = \\alpha \\cdot \\omega_{\\alpha} \\cdot \\frac{1}{60}\\\\\n",
    "\\omega_{\\alpha} & = \\frac{60}{3 \\cdot \\alpha} = 0.8\\;\\text{RPM}\n",
    "\\end{align}\n",
    "\n",
    "If we assume five percent for our \"$X$\" fraction above, then this in turn forces our sample rate to be:\n",
    "\n",
    "$$f_{\\text{sample}} = \\frac{2 \\cdot 50 \\cdot 0.8}{0.05 \\cdot 3.0 \\cdot 60} = 8.9\\;\\text{Hz}$$\n",
    "\n",
    "The precession rate is slower than the spin rate.  The spin rate above corresponds to a period of 1.25 minutes.  We choose a precession period 20 times longer (25 minutes).  We will assume a very simple satellite motion where the precession axis slews continuously in the anti-sun direction.\n",
    "\n",
    "**NOTE:  For the serial example in the next cell, we have artificially decreased the sample rate to 0.5 Hz and the resolution to NSIDE=16.  This is so that this small example fits into reasonable RAM while still covering the sky.**"
   ]
  },
  {
   "cell_type": "code",
   "execution_count": null,
   "metadata": {},
   "outputs": [],
   "source": [
    "# Scan parameters\n",
    "\n",
    "alpha = 50.0      # precession opening angle, degrees\n",
    "beta = 45.0       # spin opening angle, degrees\n",
    "p_alpha = 25.0    # precession period, minutes\n",
    "p_beta = 1.25     # spin period, minutes\n",
    "samplerate = 0.5  # sample rate, Hz\n",
    "hwprpm = 5.0      # HWP rotation in RPM\n",
    "nside = 16        # Healpix NSIDE"
   ]
  },
  {
   "cell_type": "code",
   "execution_count": null,
   "metadata": {},
   "outputs": [],
   "source": [
    "# We will use one observation per day, with no gaps in between, and\n",
    "# run for one year.\n",
    "\n",
    "obs_samples = int(24 * 3600.0 * samplerate) - 1\n",
    "nobs = 366"
   ]
  },
  {
   "cell_type": "code",
   "execution_count": null,
   "metadata": {},
   "outputs": [],
   "source": [
    "# Slew the precession axis so that it completes one circle\n",
    "\n",
    "deg_per_day = 360.0 / nobs"
   ]
  },
  {
   "cell_type": "code",
   "execution_count": null,
   "metadata": {},
   "outputs": [],
   "source": [
    "# Create distributed data\n",
    "\n",
    "data = toast.Data(comm)"
   ]
  },
  {
   "cell_type": "code",
   "execution_count": null,
   "metadata": {},
   "outputs": [],
   "source": [
    "# Append observations\n",
    "\n",
    "for ob in range(nobs):\n",
    "    obsname = \"{:03d}\".format(ob)\n",
    "    obsfirst = ob * (obs_samples + 1)\n",
    "    obsstart = 24 * 3600.0\n",
    "    tod = TODSatellite(\n",
    "        comm.comm_group, \n",
    "        detquat, \n",
    "        obs_samples, \n",
    "        firstsamp=obsfirst,\n",
    "        firsttime=obsstart,\n",
    "        rate=samplerate,\n",
    "        spinperiod=p_beta,\n",
    "        spinangle=beta,\n",
    "        precperiod=p_alpha,\n",
    "        precangle=alpha,\n",
    "        coord=\"E\",\n",
    "        hwprpm=hwprpm\n",
    "    )\n",
    "    qprec = np.empty(4 * tod.local_samples[1], dtype=np.float64).reshape((-1, 4))\n",
    "    slew_precession_axis(\n",
    "        qprec,\n",
    "        firstsamp=obsfirst,\n",
    "        samplerate=samplerate,\n",
    "        degday=deg_per_day,\n",
    "    )\n",
    "    tod.set_prec_axis(qprec=qprec)\n",
    "    obs = dict()\n",
    "    obs[\"tod\"] = tod\n",
    "    data.obs.append(obs)"
   ]
  },
  {
   "cell_type": "markdown",
   "metadata": {},
   "source": [
    "Now that we have simulated our scan strategy, we can make a simple hit map to visualize this"
   ]
  },
  {
   "cell_type": "code",
   "execution_count": null,
   "metadata": {},
   "outputs": [],
   "source": [
    "from toast.todmap import (\n",
    "    OpPointingHpix,\n",
    "    OpAccumDiag\n",
    ")\n",
    "from toast.map import (\n",
    "    DistPixels\n",
    ")"
   ]
  },
  {
   "cell_type": "code",
   "execution_count": null,
   "metadata": {},
   "outputs": [],
   "source": [
    "# Make a simple pointing matrix\n",
    "\n",
    "pointing = OpPointingHpix(nside=nside, nest=True, mode=\"IQU\")\n",
    "pointing.exec(data)"
   ]
  },
  {
   "cell_type": "code",
   "execution_count": null,
   "metadata": {},
   "outputs": [],
   "source": [
    "# Construct a distributed map to store the hit map\n",
    "\n",
    "npix = 12 * nside**2\n",
    "\n",
    "hits = DistPixels(\n",
    "    data,\n",
    "    nnz=1,\n",
    "    dtype=np.int64,\n",
    ")\n",
    "hits.data.fill(0)"
   ]
  },
  {
   "cell_type": "code",
   "execution_count": null,
   "metadata": {},
   "outputs": [],
   "source": [
    "# Accumulate the hit map locally\n",
    "\n",
    "build_hits = OpAccumDiag(hits=hits)\n",
    "build_hits.exec(data)"
   ]
  },
  {
   "cell_type": "code",
   "execution_count": null,
   "metadata": {},
   "outputs": [],
   "source": [
    "# Reduce the map across processes (a No-op in this case)\n",
    "\n",
    "hits.allreduce()"
   ]
  },
  {
   "cell_type": "code",
   "execution_count": null,
   "metadata": {},
   "outputs": [],
   "source": [
    "# Write out the map\n",
    "\n",
    "hitsfile = \"simscan_satellite_hits.fits\"\n",
    "hits.write_healpix_fits(hitsfile)"
   ]
  },
  {
   "cell_type": "code",
   "execution_count": null,
   "metadata": {},
   "outputs": [],
   "source": [
    "# Plot the map.  If we were running on multiple processes, then\n",
    "# only rank zero would do this...\n",
    "\n",
    "import healpy as hp\n",
    "import matplotlib.pyplot as plt\n",
    "%matplotlib inline\n",
    "\n",
    "hitdata = hp.read_map(hitsfile, nest=True)\n",
    "hp.mollview(hitdata, xsize=800, nest=True, cmap=\"cool\", min=0)\n",
    "plt.show()\n"
   ]
  },
  {
   "cell_type": "code",
   "execution_count": null,
   "metadata": {},
   "outputs": [],
   "source": []
  }
 ],
 "metadata": {
  "kernelspec": {
   "display_name": "Python 3",
   "language": "python",
   "name": "python3"
  },
  "language_info": {
   "codemirror_mode": {
    "name": "ipython",
    "version": 3
   },
   "file_extension": ".py",
   "mimetype": "text/x-python",
   "name": "python",
   "nbconvert_exporter": "python",
   "pygments_lexer": "ipython3",
   "version": "3.7.5"
  }
 },
 "nbformat": 4,
 "nbformat_minor": 4
}
