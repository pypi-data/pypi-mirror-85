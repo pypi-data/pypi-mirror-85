{
 "cells": [
  {
   "cell_type": "markdown",
   "metadata": {},
   "source": [
    "# $4\\pi$ beam convolution\n",
    "\n",
    "TOAST provides an interface, `OpSimConviqt`, to the spherical harmonic convolution library, `libconviqt`.  It was developed by Gary Prezeau and Martin Reinecke and described in\n",
    "```\n",
    "G. Prézeau and M. Reinecke:\n",
    "Algorithm for the Evaluation of Reduced Wigner Matrices,\n",
    "APJS 190 (2010) 267\n",
    "```\n",
    "[arXiv:1002.1050](https://arxiv.org/abs/1002.1050).  This particular implementation of the algorithm is available at https://github.com/hpc4cmb/libconviqt."
   ]
  },
  {
   "cell_type": "code",
   "execution_count": null,
   "metadata": {},
   "outputs": [],
   "source": [
    "# Load common tools for all lessons\n",
    "import sys\n",
    "sys.path.insert(0, \"..\")\n",
    "from lesson_tools import (\n",
    "    fake_focalplane\n",
    ")\n",
    "\n",
    "# Capture C++ output in the jupyter cells\n",
    "%reload_ext wurlitzer"
   ]
  },
  {
   "cell_type": "markdown",
   "metadata": {},
   "source": [
    "## Method\n",
    "\n",
    "`libconviqt` takes in spherical harmonic expansions of the beam and the sky and then synthesizes TOD samples at sample positions in the proper orientation. For efficiency, the sky is distributed as isolatitude rings and then each process gets the detector samples that fall on their rings. The calculation itself has two steps, first `conviqt` builds a 3D interpolator of the beam-convolved sky on a grid of $(\\theta, \\phi, \\psi)$ and then the detector samples are interpolated from the grid.  Finally the samples are communited back to the processes that own them.\n",
    "\n",
    "Typically the interpolation step dominates but if there are few detector samples and the sky and beam expansion orders are high, it is possible that building the interpolator is more expensive."
   ]
  },
  {
   "cell_type": "markdown",
   "metadata": {},
   "source": [
    "## Example\n",
    "\n",
    "In this section we create a TOAST data object with simulated signal and noise and process the data into hit maps, pixels noise matrices and signal maps."
   ]
  },
  {
   "cell_type": "code",
   "execution_count": null,
   "metadata": {},
   "outputs": [],
   "source": [
    "import toast\n",
    "import toast.todmap\n",
    "import toast.pipeline_tools\n",
    "from toast.mpi import MPI\n",
    "\n",
    "import numpy as np\n",
    "import matplotlib.pyplot as plt\n",
    "\n",
    "mpiworld, procs, rank = toast.mpi.get_world()\n",
    "comm = toast.mpi.Comm(mpiworld)\n",
    "\n",
    "# A pipeline would create the args object with argparse\n",
    "\n",
    "class args:\n",
    "    sample_rate = 10  # Hz\n",
    "    hwp_rpm = None\n",
    "    hwp_step_deg = None\n",
    "    hwp_step_time_s = None\n",
    "    spin_period_min = 1 # 10\n",
    "    spin_angle_deg = 20 # 30\n",
    "    prec_period_min = 100 # 50\n",
    "    prec_angle_deg = 30 # 65\n",
    "    coord = \"E\"\n",
    "    nside = 64\n",
    "    nnz = 3\n",
    "    outdir = \"maps\"\n",
    "    sky_file = \"slm.fits\"\n",
    "    beam_file = \"blm.fits\"\n",
    "\n",
    "# Create a fake focalplane, we could also load one from file.\n",
    "# The Focalplane class interprets the focalplane dictionary\n",
    "# created by fake_focalplane() but it can also load the information\n",
    "# from file.\n",
    "\n",
    "focalplane = fake_focalplane(samplerate=args.sample_rate, fknee=0.1, alpha=2)\n",
    "detectors = sorted(focalplane.keys())\n",
    "detquats = {}\n",
    "for d in detectors:\n",
    "    detquats[d] = focalplane[d][\"quat\"]\n",
    "    \n",
    "nsample = 100000\n",
    "start_sample = 0\n",
    "start_time = 0\n",
    "iobs = 0\n",
    "    \n",
    "tod = toast.todmap.TODSatellite(\n",
    "    comm.comm_group,\n",
    "    detquats,\n",
    "    nsample,\n",
    "    coord=args.coord,\n",
    "    firstsamp=start_sample,\n",
    "    firsttime=start_time,\n",
    "    rate=args.sample_rate,\n",
    "    spinperiod=args.spin_period_min,\n",
    "    spinangle=args.spin_angle_deg,\n",
    "    precperiod=args.prec_period_min,\n",
    "    precangle=args.prec_angle_deg,\n",
    "    detranks=comm.group_size,\n",
    "    hwprpm=args.hwp_rpm,\n",
    "    hwpstep=args.hwp_step_deg,\n",
    "    hwpsteptime=args.hwp_step_time_s,\n",
    ")\n",
    "\n",
    "# Constantly slewing precession axis                                                                                                                                             \n",
    "precquat = np.empty(4 * tod.local_samples[1], dtype=np.float64).reshape((-1, 4))\n",
    "toast.todmap.slew_precession_axis(\n",
    "    precquat,\n",
    "    firstsamp=start_sample + tod.local_samples[0],\n",
    "    samplerate=args.sample_rate,\n",
    "    degday=360.0 / 365.25,\n",
    ")\n",
    "tod.set_prec_axis(qprec=precquat)\n",
    "\n",
    "noise = toast.pipeline_tools.get_analytic_noise(args, comm, focalplane)\n",
    "\n",
    "obs = {}\n",
    "obs[\"name\"] = \"science_{:05d}\".format(iobs)\n",
    "obs[\"tod\"] = tod\n",
    "obs[\"intervals\"] = None\n",
    "obs[\"baselines\"] = None\n",
    "obs[\"noise\"] = noise\n",
    "obs[\"id\"] = iobs\n",
    "\n",
    "# Conviqt requires at least minimal focal plane information to be present in the observation\n",
    "obs[\"focalplane\"] = toast.pipeline_tools.Focalplane(focalplane)\n",
    "\"\"\"\n",
    "for det in tod.local_dets:\n",
    "    obs[\"focalplane\"][det] = {\n",
    "        \"epsilon\" : focalplane[det][\"epsilon\"],\n",
    "    }\n",
    "    if det.endswith(\"A\"):\n",
    "        obs[\"focalplane\"][det][\"psi_pol_deg\"] = 0,\n",
    "    elif det.endswith(\"B\"):\n",
    "        obs[\"focalplane\"][det][\"psi_pol_deg\"] = 90,\n",
    "\"\"\"\n",
    "\n",
    "\n",
    "data = toast.Data(comm)\n",
    "data.obs.append(obs)"
   ]
  },
  {
   "cell_type": "markdown",
   "metadata": {},
   "source": [
    "### Create a high resolution point source map to convolve with the beam"
   ]
  },
  {
   "cell_type": "code",
   "execution_count": null,
   "metadata": {},
   "outputs": [],
   "source": [
    "import healpy as hp\n",
    "import numpy as np\n",
    "nside_high = 1024\n",
    "npix_high = 12 * nside_high ** 2\n",
    "pointsource_map = np.zeros([3, npix_high])\n",
    "coords = []\n",
    "for lon in np.linspace(0, 360, 9, endpoint=False):\n",
    "    for lat in np.linspace(-90, 90, 7):\n",
    "        pix = hp.ang2pix(nside_high, lon, lat, lonlat=True)\n",
    "        # Add a completely unpolarized source and see if beam asymmetries manufacture polarization\n",
    "        pointsource_map[0, pix] = 1\n",
    "        coords.append((lon, lat))\n",
    "coords = np.vstack(coords).T\n",
    "hp.mollview(np.zeros(12), title=\"Input signal\", cmap=\"coolwarm\")\n",
    "hp.projplot(np.pi/2 - np.radians(coords[1]), np.radians(coords[0]), 'o')\n",
    "lmax_high = nside_high * 2\n",
    "cl, alm = hp.anafast(pointsource_map, lmax=lmax_high, iter=0, alm=True)\n",
    "hp.write_map(\"sim_sources_map.fits\", hp.reorder(pointsource_map, r2n=True), nest=True, overwrite=True)\n",
    "hp.write_alm(args.sky_file, alm, overwrite=True)"
   ]
  },
  {
   "cell_type": "markdown",
   "metadata": {},
   "source": [
    "### Create asymmetric beam"
   ]
  },
  {
   "cell_type": "code",
   "execution_count": null,
   "metadata": {},
   "outputs": [],
   "source": [
    "beam_map = np.zeros([3, npix_high])\n",
    "x, y, z = hp.pix2vec(nside_high, np.arange(npix_high))\n"
   ]
  },
  {
   "cell_type": "code",
   "execution_count": null,
   "metadata": {},
   "outputs": [],
   "source": [
    "xvar = .01\n",
    "yvar = 5 * xvar\n",
    "beam = np.exp(-(x ** 2 / xvar + y ** 2 / yvar))\n",
    "beam[z < 0] = 0\n",
    "hp.mollview(beam, cmap=\"coolwarm\", rot=[0, 90])\n",
    "beam_map = np.zeros([3, npix_high])\n",
    "beam_map[0] = beam\n",
    "beam_map[1] = beam\n",
    "bl, blm = hp.anafast(beam_map, lmax=lmax_high, iter=0, alm=True)\n",
    "hp.write_alm(args.beam_file, blm, overwrite=True)"
   ]
  },
  {
   "cell_type": "markdown",
   "metadata": {},
   "source": [
    "### Now simulate sky signal"
   ]
  },
  {
   "cell_type": "code",
   "execution_count": null,
   "metadata": {},
   "outputs": [],
   "source": [
    "import toast\n",
    "\n",
    "toast.todmap.OpPointingHpix(nside=args.nside, nest=True, mode=\"IQU\").exec(data)"
   ]
  },
  {
   "cell_type": "code",
   "execution_count": null,
   "metadata": {},
   "outputs": [],
   "source": [
    "npix = 12 * args.nside ** 2\n",
    "hitmap = np.zeros(npix)\n",
    "tod = data.obs[0][\"tod\"]\n",
    "for det in tod.local_dets:\n",
    "    pixels = tod.cache.reference(\"pixels_{}\".format(det))\n",
    "    hitmap[pixels] = 1\n",
    "hitmap[hitmap == 0] = hp.UNSEEN\n",
    "hp.mollview(hitmap, nest=True, title=\"all hit pixels\", cbar=False)\n",
    "hp.graticule(22.5, verbose=False)"
   ]
  },
  {
   "cell_type": "code",
   "execution_count": null,
   "metadata": {},
   "outputs": [],
   "source": [
    "name = \"signal\"\n",
    "toast.tod.OpCacheClear(name).exec(data)\n",
    "\n",
    "conviqt = toast.todmap.OpSimConviqt(\n",
    "    comm.comm_rank,\n",
    "    args.sky_file,\n",
    "    args.beam_file,\n",
    "    lmax=512,  # Will use maximum from file\n",
    "    beammmax=16,  # Will use maximum from file\n",
    "    pol=True,\n",
    "    fwhm=0,\n",
    "    order=13,\n",
    "    calibrate=True,\n",
    "    dxx=True,\n",
    "    out=name,\n",
    "    quat_name=None,\n",
    "    flag_name=None,\n",
    "    flag_mask=255,\n",
    "    common_flag_name=None,\n",
    "    common_flag_mask=255,\n",
    "    apply_flags=False,\n",
    "    remove_monopole=False,\n",
    "    remove_dipole=False,\n",
    "    normalize_beam=True,\n",
    "    verbosity=1,\n",
    ")\n",
    "conviqt.exec(data)"
   ]
  },
  {
   "cell_type": "markdown",
   "metadata": {},
   "source": [
    "Destripe the signal and make a map.  We use the nascent TOAST mapmaker because it can be run in serial mode without MPI.  The TOAST mapmaker is still significantly slower so production runs should used `libMadam`."
   ]
  },
  {
   "cell_type": "code",
   "execution_count": null,
   "metadata": {},
   "outputs": [],
   "source": [
    "mapmaker = toast.todmap.OpMapMaker(\n",
    "    nside=args.nside,\n",
    "    nnz=3,\n",
    "    name=name,\n",
    "    outdir=args.outdir,\n",
    "    outprefix=\"toast_test_\",\n",
    "    baseline_length=10,\n",
    "    # maskfile=self.maskfile_binary,\n",
    "    # weightmapfile=self.maskfile_smooth,\n",
    "    # subharmonic_order=None,\n",
    "    iter_max=100,\n",
    "    use_noise_prior=False,\n",
    "    # precond_width=30,\n",
    ")\n",
    "mapmaker.exec(data)"
   ]
  },
  {
   "cell_type": "markdown",
   "metadata": {},
   "source": [
    "Plot a segment of the timelines"
   ]
  },
  {
   "cell_type": "code",
   "execution_count": null,
   "metadata": {},
   "outputs": [],
   "source": [
    "plt.figure(figsize=[12, 8])\n",
    "\n",
    "hitmap = hp.read_map(\"maps/toast_test_hits.fits\")\n",
    "hitmap[hitmap == 0] = hp.UNSEEN\n",
    "hp.mollview(hitmap, sub=[2, 2, 1], title=\"hits\")\n",
    "\n",
    "binmap = hp.read_map(\"maps/toast_test_binned.fits\")\n",
    "binmap[binmap == 0] = hp.UNSEEN\n",
    "hp.mollview(binmap, sub=[2, 2, 2], title=\"binned map\", cmap=\"coolwarm\")\n",
    "\n",
    "destriped = hp.read_map(\"maps/toast_test_destriped.fits\")\n",
    "destriped[destriped == 0] = hp.UNSEEN\n",
    "hp.mollview(destriped, sub=[2, 2, 3], title=\"destriped map\", cmap=\"coolwarm\")\n",
    "\n",
    "inmap = hp.ud_grade(hp.read_map(\"sim_sources_map.fits\"), args.nside)\n",
    "inmap[hitmap == hp.UNSEEN] = hp.UNSEEN\n",
    "hp.mollview(inmap, sub=[2, 2, 4], title=\"input map\", cmap=\"coolwarm\")\n"
   ]
  },
  {
   "cell_type": "markdown",
   "metadata": {},
   "source": [
    "## Exercises"
   ]
  },
  {
   "cell_type": "markdown",
   "metadata": {},
   "source": [
    "- Plot the polarization of the simulated signal above\n",
    "- Modify the scan strategy so that the beam elongation is more visible"
   ]
  },
  {
   "cell_type": "code",
   "execution_count": null,
   "metadata": {},
   "outputs": [],
   "source": []
  }
 ],
 "metadata": {
  "kernelspec": {
   "display_name": "Python 3",
   "language": "python",
   "name": "python3"
  },
  "language_info": {
   "codemirror_mode": {
    "name": "ipython",
    "version": 3
   },
   "file_extension": ".py",
   "mimetype": "text/x-python",
   "name": "python",
   "nbconvert_exporter": "python",
   "pygments_lexer": "ipython3",
   "version": "3.7.5"
  }
 },
 "nbformat": 4,
 "nbformat_minor": 4
}
