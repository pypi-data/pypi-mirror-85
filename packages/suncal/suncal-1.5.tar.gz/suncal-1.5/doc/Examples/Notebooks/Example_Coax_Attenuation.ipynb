{
 "cells": [
  {
   "cell_type": "markdown",
   "metadata": {},
   "source": [
    "## Calculate properties of coaxial line\n",
    "\n",
    "Properties of a coaxial line are calculated in the `coax` function. It returns multiple values in a namedtuple."
   ]
  },
  {
   "cell_type": "code",
   "execution_count": 1,
   "metadata": {},
   "outputs": [],
   "source": [
    "import numpy as np\n",
    "from collections import namedtuple\n",
    "\n",
    "import suncal\n",
    "from suncal.unitmgr import ureg\n"
   ]
  },
  {
   "cell_type": "code",
   "execution_count": 2,
   "metadata": {},
   "outputs": [],
   "source": [
    "mu0 = 1.25663706212E-6 * ureg.henry / ureg.meter  # H/m\n",
    "eps0 = 8.8541878128E-12 * ureg.farad / ureg.meter # F/m\n",
    "c = 299792458 * ureg.meter/ureg.second            # m/s\n",
    "\n",
    "def coax(a, b, freq, rho, mu_r, eps_r, TL):\n",
    "    ''' Calculate properties of coaxial line '''\n",
    "    omega = 2 * np.pi * freq\n",
    "    L = mu0 * mu_r / 2 / np.pi * np.log(b/a)   # H/m\n",
    "    C = 2 * np.pi * eps0 * eps_r / np.log(b/a) # F/m\n",
    "    R = np.sqrt(rho * freq * mu0 * mu_r / np.pi) * (1/a + 1/b) / 2   # ohm/m\n",
    "    G = TL * np.pi * 2 * freq * C   # S/m\n",
    "    Rdc = rho / np.pi / a**2        # DC resistance, ohm/m\n",
    "    propvel = 1/np.sqrt(L*C)/c      # propagation velocity as fraction of c\n",
    "    Z0 = abs(np.sqrt((R + 1j*omega*L)/(G + 1j*omega*C)))      # ohm\n",
    "    atten = np.sqrt((R + 1j*omega*L)*(G + 1j*omega*C)).real   # Np/m\n",
    "\n",
    "    coaxresult = namedtuple('Coax', ['L', 'C', 'R', 'G', 'Rdc', 'velocity', 'Z0', 'gamma'])\n",
    "    return coaxresult(L, C, R, G, Rdc, propvel, Z0, atten)"
   ]
  },
  {
   "cell_type": "code",
   "execution_count": 3,
   "metadata": {},
   "outputs": [
    {
     "data": {
      "text/markdown": [
       "Function   | Nominal   | Std. Uncertainty  \n",
       "----------|---------|------------------\n",
       "$L$   | 0.2328 µH/m  | 0.0028 µH/m          \n",
       "$C$   | 30.81 pF/ft  | 0.48 pF/ft          \n",
       "$R$   | 0.5458 Ω/m  | 0.0051 Ω/m          \n",
       "$G$   | 0.00001270 1/m/Ω  | 2.4e-07 1/m/Ω          \n",
       "$Rdc$   | 0.1678 Ω/hft  | 0.0038 Ω/hft          \n",
       "$velocity$   | 0.6876  | 0.0034          \n",
       "$Z_{0}$   | 47.98 Ω | 0.63 Ω         \n",
       "$\\gamma$   | 1.586 dbel/hft | 0.020 dbel/hft"
      ],
      "text/plain": [
       "Function   | Nominal   | Std. Uncertainty  \n",
       "----------|---------|------------------\n",
       "$L$   | 0.2328 µH/m  | 0.0028 µH/m          \n",
       "$C$   | 30.81 pF/ft  | 0.48 pF/ft          \n",
       "$R$   | 0.5458 Ω/m  | 0.0051 Ω/m          \n",
       "$G$   | 0.00001270 1/m/Ω  | 2.4e-07 1/m/Ω          \n",
       "$Rdc$   | 0.1678 Ω/hft  | 0.0038 Ω/hft          \n",
       "$velocity$   | 0.6876  | 0.0034          \n",
       "$Z_{0}$   | 47.98 Ω | 0.63 Ω         \n",
       "$\\gamma$   | 1.586 dbel/hft | 0.020 dbel/hft"
      ]
     },
     "execution_count": 3,
     "metadata": {},
     "output_type": "execute_result"
    }
   ],
   "source": [
    "uc = suncal.UncertaintyCalc(coax, units=['uH/m', 'pF/ft', 'ohm/m', '1/ohm/m', 'ohm/hectofeet',\n",
    "                                         'dimensionless', 'ohm', 'decibel/hectofeet'])\n",
    "uc.set_input('a', 0.089/2, unc='1%', units='inch')            # inner radius\n",
    "uc.set_input('b', 0.285/2, unc='1%', units='inch')            # outer radius\n",
    "uc.set_input('freq', 100, units='MHz')                        # frequency\n",
    "uc.set_input('rho', 2.21E-8, unc='1%', units='ohm*m')         # effective resistivity of center conductor (copper)\n",
    "uc.set_input('mu_r', 1, units='dimensionless')                # permeability\n",
    "uc.set_input('eps_r', 2.115, unc='1%', units='dimensionless') # permittivity of PE that results in 30.8 pF/ft\n",
    "uc.set_input('TL', .0002, unc='1%', units='dimensionless')    # Loss tangent of PE (depends on frequency - this value is for 100 MHz)\n",
    "uc.calculate().gum"
   ]
  },
  {
   "cell_type": "code",
   "execution_count": 4,
   "metadata": {
    "scrolled": false
   },
   "outputs": [
    {
     "data": {
      "text/markdown": [
       "### L\n",
       "\n",
       "\n",
       "Variable   | Sensitivity   | Proportion  \n",
       "----------|-------------|------------\n",
       "TL         | 0.0 H/m      | 0.00%       \n",
       "a          | -1.1e-07 H/in²      | 50.00%      \n",
       "b          | 3.6e-08 H/in²      | 50.00%      \n",
       "eps_r      | 0.0 H/m      | 0.00%       \n",
       "freq       | 0.0 H/MHz/m      | 0.00%       \n",
       "mu_r       | 2.3e-07 H/m      | 0.00%       \n",
       "rho        | 0.0 H/m²/Ω      | 0.00%       \n",
       "\n",
       "\n",
       "### C\n",
       "\n",
       "\n",
       "Variable   | Sensitivity   | Proportion  \n",
       "----------|-------------|------------\n",
       "TL         | 0.0 F/m      | 0.00%       \n",
       "a          | 5.0e-11 F/in²      | 29.81%      \n",
       "b          | -1.5e-11 F/in²      | 29.81%      \n",
       "eps_r      | 4.8e-11 F/m     | 40.38%      \n",
       "freq       | 0.0 F/MHz/m     | 0.00%       \n",
       "mu_r       | 0.0 F/m     | 0.00%       \n",
       "rho        | 0.0 F/m²/Ω     | 0.00%       \n",
       "\n",
       "\n",
       "### R\n",
       "\n",
       "\n",
       "Variable   | Sensitivity   | Proportion  \n",
       "----------|-------------|------------\n",
       "TL         | 0.0 H⁰.⁵·MHz⁰.⁵·Ω⁰.⁵/in     | 0.00%       \n",
       "a          | -0.00024 H⁰.⁵·MHz⁰.⁵·Ω⁰.⁵/in²     | 65.44%      \n",
       "b          | -0.000023 H⁰.⁵·MHz⁰.⁵·Ω⁰.⁵/in²     | 6.38%       \n",
       "eps_r      | 0.0 H⁰.⁵·MHz⁰.⁵·Ω⁰.⁵/in     | 0.00%       \n",
       "freq       | 6.9e-08 H⁰.⁵·Ω⁰.⁵/MHz⁰.⁵/in     | 0.00%       \n",
       "mu_r       | 6.9e-06 H⁰.⁵·MHz⁰.⁵·Ω⁰.⁵/in     | 0.00%       \n",
       "rho        | 12348.3 H⁰.⁵·MHz⁰.⁵/m²/Ω⁰.⁵     | 28.17%      \n",
       "\n",
       "\n",
       "### G\n",
       "\n",
       "\n",
       "Variable   | Sensitivity   | Proportion  \n",
       "----------|-------------|------------\n",
       "TL         | 6.4e-08 F·MHz/m     | 28.76%      \n",
       "a          | 6.2e-12 F·MHz/in²     | 21.24%      \n",
       "b          | -1.9e-12 F·MHz/in²     | 21.24%      \n",
       "eps_r      | 6.0e-12 F·MHz/m     | 28.76%      \n",
       "freq       | 1.3e-13 F/m     | 0.00%       \n",
       "mu_r       | 0.0 F·MHz/m     | 0.00%       \n",
       "rho        | 0.0 F·MHz/m²/Ω     | 0.00%       \n",
       "\n",
       "\n",
       "### Rdc\n",
       "\n",
       "\n",
       "Variable   | Sensitivity   | Proportion  \n",
       "----------|-------------|------------\n",
       "TL         | 0.0 Ω/in     | 0.00%       \n",
       "a          | -0.0063 Ω/in²     | 80.00%      \n",
       "b          | 0.0 Ω/in²     | 0.00%       \n",
       "eps_r      | 0.0 Ω/in     | 0.00%       \n",
       "freq       | 0.0 Ω/MHz/in     | 0.00%       \n",
       "mu_r       | 0.0 Ω/in     | 0.00%       \n",
       "rho        | 160.7 1/in²     | 20.00%      \n",
       "\n",
       "\n",
       "### velocity\n",
       "\n",
       "\n",
       "Variable   | Sensitivity   | Proportion  \n",
       "----------|-------------|------------\n",
       "TL         | 0.0      | 0.00%       \n",
       "a          | -2.5e-07 s/F⁰.⁵/H⁰.⁵/in     | 0.00%       \n",
       "b          | 0.0 s/F⁰.⁵/H⁰.⁵/in     | 0.00%       \n",
       "eps_r      | -0.16      | 100.00%     \n",
       "freq       | 0.0 1/F⁰.⁵/H⁰.⁵/MHz²     | 0.00%       \n",
       "mu_r       | -0.34      | 0.00%       \n",
       "rho        | 0.0 s/F⁰.⁵/H⁰.⁵/m/Ω     | 0.00%       \n",
       "\n",
       "\n",
       "### Z0\n",
       "\n",
       "\n",
       "Variable   | Sensitivity   | Proportion  \n",
       "----------|-------------|------------\n",
       "TL         | -0.089 H⁰.²⁵·Ω⁰.²⁵/F⁰.⁵/MHz⁰.²⁵     | 0.00%       \n",
       "a          | -1.1534611e+06 H⁰.²⁵·Ω⁰.²⁵/F⁰.⁵/MHz⁰.²⁵/m     | 42.76%      \n",
       "b          | 3.602007e+05 H⁰.²⁵·Ω⁰.²⁵/F⁰.⁵/MHz⁰.²⁵/m     | 42.76%      \n",
       "eps_r      | -358.7 H⁰.²⁵·Ω⁰.²⁵/F⁰.⁵/MHz⁰.²⁵     | 14.48%      \n",
       "freq       | -0.000053 H⁰.²⁵·Ω⁰.²⁵/F⁰.⁵/MHz¹.²⁵     | 0.00%       \n",
       "mu_r       | 758.7 H⁰.²⁵·Ω⁰.²⁵/F⁰.⁵/MHz⁰.²⁵     | 0.00%       \n",
       "rho        | 2.392576e+05 H⁰.²⁵/F⁰.⁵/MHz⁰.²⁵/m/Ω⁰.⁷⁵     | 0.00%       \n",
       "\n",
       "\n",
       "### gamma\n",
       "\n",
       "\n",
       "Variable   | Sensitivity   | Proportion  \n",
       "----------|-------------|------------\n",
       "TL         | 0.000048 F⁰.⁵·H⁰.²⁵·MHz⁰.⁷⁵·Ω⁰.²⁵/m     | 0.16%       \n",
       "a          | 0.000015 F⁰.⁵·H⁰.²⁵·MHz⁰.⁷⁵·Ω⁰.²⁵/m²     | 0.54%       \n",
       "b          | -0.000055 F⁰.⁵·H⁰.²⁵·MHz⁰.⁷⁵·Ω⁰.²⁵/m²     | 69.04%      \n",
       "eps_r      | 4.5e-08 F⁰.⁵·H⁰.²⁵·MHz⁰.⁷⁵·Ω⁰.²⁵/m     | 15.92%      \n",
       "freq       | 1.0e-09 F⁰.⁵·H⁰.²⁵·Ω⁰.²⁵/MHz⁰.²⁵/m     | 0.00%       \n",
       "mu_r       | 4.8e-09 F⁰.⁵·H⁰.²⁵·MHz⁰.⁷⁵·Ω⁰.²⁵/m     | 0.00%       \n",
       "rho        | 4.1 F⁰.⁵·H⁰.²⁵·MHz⁰.⁷⁵/m²/Ω⁰.⁷⁵     | 14.34%"
      ],
      "text/plain": [
       "<suncal.report.Report at 0x1a18023b00>"
      ]
     },
     "execution_count": 4,
     "metadata": {},
     "output_type": "execute_result"
    }
   ],
   "source": [
    "uc.out.gum.report_sens()"
   ]
  },
  {
   "cell_type": "code",
   "execution_count": null,
   "metadata": {},
   "outputs": [],
   "source": []
  }
 ],
 "metadata": {
  "kernelspec": {
   "display_name": "uncertosx",
   "language": "python",
   "name": "uncertosx"
  },
  "language_info": {
   "codemirror_mode": {
    "name": "ipython",
    "version": 3
   },
   "file_extension": ".py",
   "mimetype": "text/x-python",
   "name": "python",
   "nbconvert_exporter": "python",
   "pygments_lexer": "ipython3",
   "version": "3.7.3"
  }
 },
 "nbformat": 4,
 "nbformat_minor": 4
}
