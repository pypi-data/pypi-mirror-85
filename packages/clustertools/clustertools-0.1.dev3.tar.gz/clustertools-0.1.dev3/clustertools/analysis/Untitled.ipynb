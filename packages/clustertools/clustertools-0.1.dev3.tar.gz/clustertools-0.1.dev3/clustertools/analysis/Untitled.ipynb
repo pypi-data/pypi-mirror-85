{
 "cells": [
  {
   "cell_type": "code",
   "execution_count": 1,
   "metadata": {},
   "outputs": [],
   "source": [
    "import numpy as np"
   ]
  },
  {
   "cell_type": "code",
   "execution_count": 3,
   "metadata": {},
   "outputs": [],
   "source": [
    "from scipy.optimize import curve_fit"
   ]
  },
  {
   "cell_type": "code",
   "execution_count": 4,
   "metadata": {},
   "outputs": [],
   "source": [
    "import matplotlib.pyplot as plt"
   ]
  },
  {
   "cell_type": "code",
   "execution_count": 10,
   "metadata": {},
   "outputs": [],
   "source": [
    "def pennarubia_func(D,M,c,vcirc,t):\n",
    "    sigma_e=D*M*c*vcirc*t"
   ]
  },
  {
   "cell_type": "code",
   "execution_count": 9,
   "metadata": {},
   "outputs": [],
   "source": [
    "def func(X,mmin):\n",
    "    \n",
    "    #M = mass of each subhalo\n",
    "    #c = size of each subhalo\n",
    "    #D = minimum distance to closest subhalo\n",
    "    #r = galactocentric radius of each subhalo\n",
    "    #t = time\n",
    "    \n",
    "    X=(M,c,D,r,rkpc,vcirc,t)\n",
    "    \n",
    "    \n",
    "    #rkpc - what radius do I care about?\n",
    "    #mmin - mass below which I don't care about subhalos\n",
    "    \n",
    "    mindx=M>mmin\n",
    "    Dindx=(r>rkpc-5.)*(r<rkpc+5.)*mindx\n",
    "    \n",
    "    meanD=np.mean(D[Dindx])\n",
    "    meanM=np.mean(M[mindx])\n",
    "    \n",
    "    meanc=np.mean(c[mindx])\n",
    "    #meanc=1.05*np.sqrt(meanM/1.0e8)\n",
    "    \n",
    "    sigma_e=pennarubia_func(meanD,meanM,meanc,vcirc,t)\n",
    "    \n",
    "    return sigma_e\n",
    "    \n",
    "    "
   ]
  },
  {
   "cell_type": "code",
   "execution_count": null,
   "metadata": {},
   "outputs": [],
   "source": [
    "X=(M,c,D,r,rkpc,vcirc,t_simulation)"
   ]
  },
  {
   "cell_type": "code",
   "execution_count": null,
   "metadata": {},
   "outputs": [],
   "source": [
    "mmin_best=curve_fit(func,X,sigma_e_simulation)"
   ]
  },
  {
   "cell_type": "code",
   "execution_count": null,
   "metadata": {},
   "outputs": [],
   "source": []
  }
 ],
 "metadata": {
  "kernelspec": {
   "display_name": "Python 3",
   "language": "python",
   "name": "python3"
  },
  "language_info": {
   "codemirror_mode": {
    "name": "ipython",
    "version": 3
   },
   "file_extension": ".py",
   "mimetype": "text/x-python",
   "name": "python",
   "nbconvert_exporter": "python",
   "pygments_lexer": "ipython3",
   "version": "3.7.4"
  }
 },
 "nbformat": 4,
 "nbformat_minor": 4
}
