{
 "cells": [
  {
   "cell_type": "code",
   "execution_count": 48,
   "metadata": {
    "collapsed": true,
    "pycharm": {
     "is_executing": false
    }
   },
   "outputs": [],
   "source": [
    "import typing\n",
    "from collections import Iterable\n",
    "from enum import Enum\n",
    "from pprint import pprint\n",
    "from typing import List, Optional, Union, Dict\n",
    "import attr\n",
    "from attr import attrib, attrs\n",
    "from cerberus import Validator\n",
    "\n",
    "from mimosa.models import CraftTypes, craft_type_codes"
   ]
  },
  {
   "cell_type": "code",
   "execution_count": 49,
   "outputs": [],
   "source": [
    "def in_valid_craft_types(field, value, error) -> None:\n",
    "  check = value in [craft_type_codes[e] for e in CraftTypes]\n",
    "  if check is False:\n",
    "    error(field, f\"{value} not found in CraftTypes\")\n",
    "\n",
    "\n",
    "@attrs(auto_attribs=True)\n",
    "class SiteKeyCompany:\n",
    "    name: str\n",
    "    craftTypes: List[int]\n",
    "    mainPointOfContact: Optional[str]\n",
    "    logoPhoto_URL: Optional[str]\n",
    "    members: List[str]\n",
    "    \n",
    "    schema: typing.ClassVar[Dict] = {\n",
    "     \"name\": {\n",
    "       'type': 'string',\n",
    "       'maxlength': 200,\n",
    "     },\n",
    "     \"craftTypes\": {\n",
    "       'type': 'list',\n",
    "       'schema': {\n",
    "         'type': 'integer',\n",
    "         'allowed': list(craft_type_codes.values())\n",
    "       },\n",
    "     },\n",
    "     \"mainPointOfContact\": {\n",
    "       'type': 'string',\n",
    "       'maxlength': 200},\n",
    "     \"logoPhoto_URL\": {\n",
    "       'type': 'string',\n",
    "       'maxlength': 1000,\n",
    "       'nullable': True\n",
    "     },\n",
    "     \"members\": {\n",
    "       'type': 'list', \n",
    "       'schema': {'type': 'string'}\n",
    "     },\n",
    "                             }\n"
   ],
   "metadata": {
    "collapsed": false,
    "pycharm": {
     "name": "#%%\n",
     "is_executing": false
    }
   }
  },
  {
   "cell_type": "code",
   "execution_count": 50,
   "outputs": [],
   "source": [
    "# site_key_company_schema = {\n",
    "#   \"name\": {\n",
    "#     'type': 'string',\n",
    "#     'maxlength': 200,\n",
    "#   },\n",
    "#   \"craftTypes\": {\n",
    "#     'type': 'list',\n",
    "#     'schema': {\n",
    "#       'type': 'integer',\n",
    "#       'allowed': list(craft_type_codes.values())\n",
    "#     },\n",
    "#   },\n",
    "#   \"mainPointOfContact\": {\n",
    "#     'type': 'string',\n",
    "#     'maxlength': 200},\n",
    "#   \"logoPhoto_URL\": {\n",
    "#     'type': 'string',\n",
    "#     'maxlength': 1000,\n",
    "#     'nullable': True},\n",
    "#   \"members\": {\n",
    "#     'type': 'list', \n",
    "#     'schema': {'type': 'string'}\n",
    "#   },\n",
    "# }"
   ],
   "metadata": {
    "collapsed": false,
    "pycharm": {
     "name": "#%%\n",
     "is_executing": false
    }
   }
  },
  {
   "cell_type": "code",
   "execution_count": 51,
   "outputs": [],
   "source": [
    "v = Validator(SiteKeyCompany.schema)\n",
    "v.require_all = True"
   ],
   "metadata": {
    "collapsed": false,
    "pycharm": {
     "name": "#%%\n",
     "is_executing": false
    }
   }
  },
  {
   "cell_type": "code",
   "execution_count": 52,
   "outputs": [
    {
     "name": "stdout",
     "text": [
      "{'craftTypes': [10, 90, 15, 99, '90', '10'],\n",
      " 'logoPhoto_URL': None,\n",
      " 'mainPointOfContact': 'Harry',\n",
      " 'members': ['memberID'],\n",
      " 'name': 'Monomer Software'}\n",
      "False\n",
      "{'craftTypes': [{4: ['must be of integer type'],\n",
      "                 5: ['must be of integer type']}]}\n",
      "{'logoPhoto_URL': None,\n",
      " 'mainPointOfContact': 'Harry',\n",
      " 'members': ['memberID'],\n",
      " 'name': 'Monomer Software'}\n"
     ],
     "output_type": "stream"
    }
   ],
   "source": [
    "data = SiteKeyCompany(\n",
    "  name=\"Monomer Software\",\n",
    "  craftTypes=[\n",
    "    craft_type_codes[CraftTypes.SCAFFOLDING],\n",
    "    craft_type_codes[CraftTypes.PERMITTING],\n",
    "    craft_type_codes[CraftTypes.INSULATION],\n",
    "    craft_type_codes[CraftTypes.HOUSEKEEPING],\n",
    "    '90',\n",
    "    '10'\n",
    "  ],\n",
    "  mainPointOfContact=\"Harry\",\n",
    "  logoPhoto_URL=None,\n",
    "  members=['memberID'],\n",
    ")\n",
    "data_dict = attr.asdict(data)\n",
    "pprint(data_dict)\n",
    "is_valid = v.validate(data_dict)\n",
    "pprint(is_valid)\n",
    "pprint(v.errors)\n",
    "valid_data = {key:value for key, value in data_dict.items() if key not in v.errors.keys()}\n",
    "pprint(valid_data)"
   ],
   "metadata": {
    "collapsed": false,
    "pycharm": {
     "name": "#%%\n",
     "is_executing": false
    }
   }
  },
  {
   "cell_type": "code",
   "execution_count": 53,
   "outputs": [
    {
     "name": "stdout",
     "text": [
      "{'craftTypes': ['required field'],\n",
      " 'logoPhoto_URL': ['required field'],\n",
      " 'members': ['required field'],\n",
      " 'moose': ['unknown field']}\n"
     ],
     "output_type": "stream"
    }
   ],
   "source": [
    "v.validate({\n",
    "  'name': \"Monomer\",\n",
    "  'mainPointOfContact': 'Daniel',\n",
    "  'moose': \"coffee\"\n",
    "})\n",
    "pprint(v.errors)"
   ],
   "metadata": {
    "collapsed": false,
    "pycharm": {
     "name": "#%%\n",
     "is_executing": false
    }
   }
  },
  {
   "cell_type": "code",
   "execution_count": 54,
   "outputs": [
    {
     "name": "stdout",
     "text": [
      "{}\n"
     ],
     "output_type": "stream"
    }
   ],
   "source": [
    "v.require_all = False\n",
    "v.validate({\n",
    "  'name': \"Monomer\",\n",
    "  'mainPointOfContact': 'Daniel',\n",
    "})\n",
    "pprint(v.errors)\n"
   ],
   "metadata": {
    "collapsed": false,
    "pycharm": {
     "name": "#%%\n",
     "is_executing": false
    }
   }
  }
 ],
 "metadata": {
  "kernelspec": {
   "display_name": "Python 3",
   "language": "python",
   "name": "python3"
  },
  "language_info": {
   "codemirror_mode": {
    "name": "ipython",
    "version": 2
   },
   "file_extension": ".py",
   "mimetype": "text/x-python",
   "name": "python",
   "nbconvert_exporter": "python",
   "pygments_lexer": "ipython2",
   "version": "2.7.6"
  },
  "pycharm": {
   "stem_cell": {
    "cell_type": "raw",
    "source": [],
    "metadata": {
     "collapsed": false
    }
   }
  }
 },
 "nbformat": 4,
 "nbformat_minor": 0
}
