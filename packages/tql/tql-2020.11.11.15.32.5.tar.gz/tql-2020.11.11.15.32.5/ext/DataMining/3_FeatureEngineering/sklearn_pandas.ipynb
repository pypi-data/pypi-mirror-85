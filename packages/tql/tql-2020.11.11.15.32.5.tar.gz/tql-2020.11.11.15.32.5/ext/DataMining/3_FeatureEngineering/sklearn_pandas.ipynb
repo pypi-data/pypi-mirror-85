{
 "cells": [
  {
   "cell_type": "markdown",
   "metadata": {},
   "source": [
    "# sklearn_pandas"
   ]
  },
  {
   "cell_type": "code",
   "execution_count": 1,
   "metadata": {
    "collapsed": true
   },
   "outputs": [],
   "source": [
    "import numpy as np\n",
    "import pandas as pd\n",
    "import warnings\n",
    "warnings.filterwarnings('ignore')"
   ]
  },
  {
   "cell_type": "code",
   "execution_count": 3,
   "metadata": {
    "collapsed": false
   },
   "outputs": [],
   "source": [
    "# frameworks for ML\n",
    "from sklearn_pandas import DataFrameMapper, cross_val_score\n",
    "from sklearn.pipeline import make_pipeline\n",
    "from sklearn.cross_validation import cross_val_score\n",
    "from sklearn.grid_search import GridSearchCV\n",
    "\n",
    "# transformers for category variables\n",
    "from sklearn.preprocessing import LabelBinarizer\n",
    "from sklearn.preprocessing import MultiLabelBinarizer\n",
    "from sklearn.preprocessing import LabelEncoder\n",
    "from sklearn.preprocessing import OneHotEncoder\n",
    "\n",
    "# transformers for numerical variables\n",
    "from sklearn.preprocessing import MinMaxScaler\n",
    "from sklearn.preprocessing import StandardScaler\n",
    "from sklearn.preprocessing import Normalizer\n",
    "\n",
    "# transformers for combined variables\n",
    "from sklearn.decomposition import PCA\n",
    "from sklearn.preprocessing import PolynomialFeatures\n",
    "\n",
    "# user-defined transformers\n",
    "from sklearn.preprocessing import FunctionTransformer\n",
    "\n",
    "# classification models\n",
    "from sklearn.ensemble import RandomForestClassifier\n",
    "from sklearn.linear_model import LogisticRegression\n",
    "\n",
    "# evaluation\n",
    "from sklearn.metrics import scorer "
   ]
  },
  {
   "cell_type": "code",
   "execution_count": 11,
   "metadata": {
    "collapsed": false
   },
   "outputs": [],
   "source": [
    "data = pd.DataFrame({'pet':      ['cat', 'dog', 'dog', 'fish', 'cat', 'dog', 'cat', 'fish'],\n",
    "                     'children': [4., 6, 3, 3, 2, 3, 5, 4],\n",
    "                     'salary':   [90, 24, 44, 27, 32, 59, 36, 27]})"
   ]
  },
  {
   "cell_type": "code",
   "execution_count": 12,
   "metadata": {
    "collapsed": false
   },
   "outputs": [
    {
     "data": {
      "text/html": [
       "<div>\n",
       "<table border=\"1\" class=\"dataframe\">\n",
       "  <thead>\n",
       "    <tr style=\"text-align: right;\">\n",
       "      <th></th>\n",
       "      <th>children</th>\n",
       "      <th>pet</th>\n",
       "      <th>salary</th>\n",
       "    </tr>\n",
       "  </thead>\n",
       "  <tbody>\n",
       "    <tr>\n",
       "      <th>0</th>\n",
       "      <td>4.0</td>\n",
       "      <td>cat</td>\n",
       "      <td>90</td>\n",
       "    </tr>\n",
       "    <tr>\n",
       "      <th>1</th>\n",
       "      <td>6.0</td>\n",
       "      <td>dog</td>\n",
       "      <td>24</td>\n",
       "    </tr>\n",
       "    <tr>\n",
       "      <th>2</th>\n",
       "      <td>3.0</td>\n",
       "      <td>dog</td>\n",
       "      <td>44</td>\n",
       "    </tr>\n",
       "    <tr>\n",
       "      <th>3</th>\n",
       "      <td>3.0</td>\n",
       "      <td>fish</td>\n",
       "      <td>27</td>\n",
       "    </tr>\n",
       "    <tr>\n",
       "      <th>4</th>\n",
       "      <td>2.0</td>\n",
       "      <td>cat</td>\n",
       "      <td>32</td>\n",
       "    </tr>\n",
       "    <tr>\n",
       "      <th>5</th>\n",
       "      <td>3.0</td>\n",
       "      <td>dog</td>\n",
       "      <td>59</td>\n",
       "    </tr>\n",
       "    <tr>\n",
       "      <th>6</th>\n",
       "      <td>5.0</td>\n",
       "      <td>cat</td>\n",
       "      <td>36</td>\n",
       "    </tr>\n",
       "    <tr>\n",
       "      <th>7</th>\n",
       "      <td>4.0</td>\n",
       "      <td>fish</td>\n",
       "      <td>27</td>\n",
       "    </tr>\n",
       "  </tbody>\n",
       "</table>\n",
       "</div>"
      ],
      "text/plain": [
       "   children   pet  salary\n",
       "0       4.0   cat      90\n",
       "1       6.0   dog      24\n",
       "2       3.0   dog      44\n",
       "3       3.0  fish      27\n",
       "4       2.0   cat      32\n",
       "5       3.0   dog      59\n",
       "6       5.0   cat      36\n",
       "7       4.0  fish      27"
      ]
     },
     "execution_count": 12,
     "metadata": {},
     "output_type": "execute_result"
    }
   ],
   "source": [
    "data"
   ]
  },
  {
   "cell_type": "code",
   "execution_count": 16,
   "metadata": {
    "collapsed": true
   },
   "outputs": [],
   "source": [
    "mapper = DataFrameMapper(\n",
    "    [\n",
    "        ('pet', LabelBinarizer()), # 根据transformer所需选择1-D array，2-D array输入，输出都是 2-D array\n",
    "        ('pet', [LabelBinarizer(), PCA(2)]), # 列变换支持级联：先二值化再pca (二值化不支持多列变换)\n",
    "        (['children'], StandardScaler(), {'alias': 'children_scaled'}), # 映射df[['children']]\n",
    "        (['children', 'salary'], [MinMaxScaler(), PolynomialFeatures(1)]), # 多列变换(PCA, LDA, 特征交叉)\n",
    "        (['children', 'salary'], FunctionTransformer(np.log1p)), # 自定义transformer: log1p(作用等同于log(x+1))\n",
    "       \n",
    "    ], \n",
    "    default=False, # False: 全部丢弃（默认, None: 原封不动地保留, other transformer: 将transformer作用到所有剩余列上\n",
    "    sparse=False, # 系数数据\n",
    "    df_out=True, # 是否输出数据框\n",
    "    input_df=False # 输入是否数据框\n",
    ")\n",
    "# 要满足：\n",
    "# if (df_out and (sparse or default)):\n",
    "#     raise ValueError(\"Can not use df_out with sparse or default\")"
   ]
  },
  {
   "cell_type": "code",
   "execution_count": 17,
   "metadata": {
    "collapsed": false
   },
   "outputs": [
    {
     "data": {
      "text/html": [
       "<div>\n",
       "<table border=\"1\" class=\"dataframe\">\n",
       "  <thead>\n",
       "    <tr style=\"text-align: right;\">\n",
       "      <th></th>\n",
       "      <th>pet_cat</th>\n",
       "      <th>pet_dog</th>\n",
       "      <th>pet_fish</th>\n",
       "      <th>pet_0</th>\n",
       "      <th>pet_1</th>\n",
       "      <th>children_scaled</th>\n",
       "      <th>children_salary_1</th>\n",
       "      <th>children_salary_x0</th>\n",
       "      <th>children_salary_x1</th>\n",
       "      <th>children_salary_0</th>\n",
       "      <th>children_salary_1</th>\n",
       "    </tr>\n",
       "  </thead>\n",
       "  <tbody>\n",
       "    <tr>\n",
       "      <th>0</th>\n",
       "      <td>1.0</td>\n",
       "      <td>0.0</td>\n",
       "      <td>0.0</td>\n",
       "      <td>-7.071068e-01</td>\n",
       "      <td>-0.306186</td>\n",
       "      <td>0.208514</td>\n",
       "      <td>1.0</td>\n",
       "      <td>0.50</td>\n",
       "      <td>1.000000</td>\n",
       "      <td>1.609438</td>\n",
       "      <td>4.510860</td>\n",
       "    </tr>\n",
       "    <tr>\n",
       "      <th>1</th>\n",
       "      <td>0.0</td>\n",
       "      <td>1.0</td>\n",
       "      <td>0.0</td>\n",
       "      <td>7.071068e-01</td>\n",
       "      <td>-0.306186</td>\n",
       "      <td>1.876630</td>\n",
       "      <td>1.0</td>\n",
       "      <td>1.00</td>\n",
       "      <td>0.000000</td>\n",
       "      <td>1.945910</td>\n",
       "      <td>3.218876</td>\n",
       "    </tr>\n",
       "    <tr>\n",
       "      <th>2</th>\n",
       "      <td>0.0</td>\n",
       "      <td>1.0</td>\n",
       "      <td>0.0</td>\n",
       "      <td>7.071068e-01</td>\n",
       "      <td>-0.306186</td>\n",
       "      <td>-0.625543</td>\n",
       "      <td>1.0</td>\n",
       "      <td>0.25</td>\n",
       "      <td>0.303030</td>\n",
       "      <td>1.386294</td>\n",
       "      <td>3.806662</td>\n",
       "    </tr>\n",
       "    <tr>\n",
       "      <th>3</th>\n",
       "      <td>0.0</td>\n",
       "      <td>0.0</td>\n",
       "      <td>1.0</td>\n",
       "      <td>-5.134781e-16</td>\n",
       "      <td>0.918559</td>\n",
       "      <td>-0.625543</td>\n",
       "      <td>1.0</td>\n",
       "      <td>0.25</td>\n",
       "      <td>0.045455</td>\n",
       "      <td>1.386294</td>\n",
       "      <td>3.332205</td>\n",
       "    </tr>\n",
       "    <tr>\n",
       "      <th>4</th>\n",
       "      <td>1.0</td>\n",
       "      <td>0.0</td>\n",
       "      <td>0.0</td>\n",
       "      <td>-7.071068e-01</td>\n",
       "      <td>-0.306186</td>\n",
       "      <td>-1.459601</td>\n",
       "      <td>1.0</td>\n",
       "      <td>0.00</td>\n",
       "      <td>0.121212</td>\n",
       "      <td>1.098612</td>\n",
       "      <td>3.496508</td>\n",
       "    </tr>\n",
       "    <tr>\n",
       "      <th>5</th>\n",
       "      <td>0.0</td>\n",
       "      <td>1.0</td>\n",
       "      <td>0.0</td>\n",
       "      <td>7.071068e-01</td>\n",
       "      <td>-0.306186</td>\n",
       "      <td>-0.625543</td>\n",
       "      <td>1.0</td>\n",
       "      <td>0.25</td>\n",
       "      <td>0.530303</td>\n",
       "      <td>1.386294</td>\n",
       "      <td>4.094345</td>\n",
       "    </tr>\n",
       "    <tr>\n",
       "      <th>6</th>\n",
       "      <td>1.0</td>\n",
       "      <td>0.0</td>\n",
       "      <td>0.0</td>\n",
       "      <td>-7.071068e-01</td>\n",
       "      <td>-0.306186</td>\n",
       "      <td>1.042572</td>\n",
       "      <td>1.0</td>\n",
       "      <td>0.75</td>\n",
       "      <td>0.181818</td>\n",
       "      <td>1.791759</td>\n",
       "      <td>3.610918</td>\n",
       "    </tr>\n",
       "    <tr>\n",
       "      <th>7</th>\n",
       "      <td>0.0</td>\n",
       "      <td>0.0</td>\n",
       "      <td>1.0</td>\n",
       "      <td>-5.134781e-16</td>\n",
       "      <td>0.918559</td>\n",
       "      <td>0.208514</td>\n",
       "      <td>1.0</td>\n",
       "      <td>0.50</td>\n",
       "      <td>0.045455</td>\n",
       "      <td>1.609438</td>\n",
       "      <td>3.332205</td>\n",
       "    </tr>\n",
       "  </tbody>\n",
       "</table>\n",
       "</div>"
      ],
      "text/plain": [
       "   pet_cat  pet_dog  pet_fish         pet_0     pet_1  children_scaled  \\\n",
       "0      1.0      0.0       0.0 -7.071068e-01 -0.306186         0.208514   \n",
       "1      0.0      1.0       0.0  7.071068e-01 -0.306186         1.876630   \n",
       "2      0.0      1.0       0.0  7.071068e-01 -0.306186        -0.625543   \n",
       "3      0.0      0.0       1.0 -5.134781e-16  0.918559        -0.625543   \n",
       "4      1.0      0.0       0.0 -7.071068e-01 -0.306186        -1.459601   \n",
       "5      0.0      1.0       0.0  7.071068e-01 -0.306186        -0.625543   \n",
       "6      1.0      0.0       0.0 -7.071068e-01 -0.306186         1.042572   \n",
       "7      0.0      0.0       1.0 -5.134781e-16  0.918559         0.208514   \n",
       "\n",
       "   children_salary_1  children_salary_x0  children_salary_x1  \\\n",
       "0                1.0                0.50            1.000000   \n",
       "1                1.0                1.00            0.000000   \n",
       "2                1.0                0.25            0.303030   \n",
       "3                1.0                0.25            0.045455   \n",
       "4                1.0                0.00            0.121212   \n",
       "5                1.0                0.25            0.530303   \n",
       "6                1.0                0.75            0.181818   \n",
       "7                1.0                0.50            0.045455   \n",
       "\n",
       "   children_salary_0  children_salary_1  \n",
       "0           1.609438           4.510860  \n",
       "1           1.945910           3.218876  \n",
       "2           1.386294           3.806662  \n",
       "3           1.386294           3.332205  \n",
       "4           1.098612           3.496508  \n",
       "5           1.386294           4.094345  \n",
       "6           1.791759           3.610918  \n",
       "7           1.609438           3.332205  "
      ]
     },
     "execution_count": 17,
     "metadata": {},
     "output_type": "execute_result"
    }
   ],
   "source": [
    "mapper.fit_transform(data)"
   ]
  },
  {
   "cell_type": "code",
   "execution_count": 8,
   "metadata": {
    "collapsed": false
   },
   "outputs": [
    {
     "data": {
      "text/plain": [
       "array([[ 1.        ,  0.        ,  0.        ,  4.        ,  2.27500192],\n",
       "       [ 0.        ,  1.        ,  0.        ,  6.        , -0.87775665],\n",
       "       [ 0.        ,  1.        ,  0.        ,  3.        ,  0.07762474],\n",
       "       [ 0.        ,  0.        ,  1.        ,  3.        , -0.73444944],\n",
       "       [ 1.        ,  0.        ,  0.        ,  2.        , -0.49560409],\n",
       "       [ 0.        ,  1.        ,  0.        ,  3.        ,  0.79416078],\n",
       "       [ 1.        ,  0.        ,  0.        ,  5.        , -0.30452782],\n",
       "       [ 0.        ,  0.        ,  1.        ,  4.        , -0.73444944]])"
      ]
     },
     "execution_count": 8,
     "metadata": {},
     "output_type": "execute_result"
    },
    {
     "data": {
      "text/plain": [
       "['pet_cat', 'pet_dog', 'pet_fish', 'children', 'salary']"
      ]
     },
     "execution_count": 8,
     "metadata": {},
     "output_type": "execute_result"
    }
   ],
   "source": [
    "# default = transformer\n",
    "mapper = DataFrameMapper(\n",
    "    [\n",
    "        ('pet', LabelBinarizer()),\n",
    "        ('children', None)\n",
    "    ], \n",
    "    default=StandardScaler()\n",
    ")\n",
    "mapper.fit_transform(data.copy())\n",
    "mapper.transformed_names_"
   ]
  },
  {
   "cell_type": "code",
   "execution_count": 9,
   "metadata": {
    "collapsed": false
   },
   "outputs": [
    {
     "data": {
      "text/html": [
       "<div>\n",
       "<table border=\"1\" class=\"dataframe\">\n",
       "  <thead>\n",
       "    <tr style=\"text-align: right;\">\n",
       "      <th></th>\n",
       "      <th>dates_0</th>\n",
       "      <th>dates_1</th>\n",
       "      <th>dates_2</th>\n",
       "    </tr>\n",
       "  </thead>\n",
       "  <tbody>\n",
       "    <tr>\n",
       "      <th>0</th>\n",
       "      <td>2015</td>\n",
       "      <td>10</td>\n",
       "      <td>30</td>\n",
       "    </tr>\n",
       "    <tr>\n",
       "      <th>1</th>\n",
       "      <td>2015</td>\n",
       "      <td>10</td>\n",
       "      <td>31</td>\n",
       "    </tr>\n",
       "    <tr>\n",
       "      <th>2</th>\n",
       "      <td>2015</td>\n",
       "      <td>11</td>\n",
       "      <td>1</td>\n",
       "    </tr>\n",
       "    <tr>\n",
       "      <th>3</th>\n",
       "      <td>2015</td>\n",
       "      <td>11</td>\n",
       "      <td>2</td>\n",
       "    </tr>\n",
       "  </tbody>\n",
       "</table>\n",
       "</div>"
      ],
      "text/plain": [
       "   dates_0  dates_1  dates_2\n",
       "0     2015       10       30\n",
       "1     2015       10       31\n",
       "2     2015       11        1\n",
       "3     2015       11        2"
      ]
     },
     "execution_count": 9,
     "metadata": {},
     "output_type": "execute_result"
    }
   ],
   "source": [
    "# input_df=True\n",
    "from sklearn.base import TransformerMixin\n",
    "class DateEncoder(TransformerMixin):\n",
    "    def fit(self, X, y=None):\n",
    "        return self\n",
    "    \n",
    "    def transform(self, X):\n",
    "        dt = X.dt\n",
    "        return pd.concat([dt.year, dt.month, dt.day], axis=1)\n",
    "    \n",
    "dates_df = pd.DataFrame({'dates': pd.date_range('2015-10-30', '2015-11-02')})\n",
    "mapper_dates = DataFrameMapper([\n",
    "    ('dates', DateEncoder())\n",
    "], input_df=True, df_out=True)\n",
    "mapper_dates.fit_transform(dates_df)"
   ]
  },
  {
   "cell_type": "code",
   "execution_count": 10,
   "metadata": {
    "collapsed": false
   },
   "outputs": [
    {
     "data": {
      "text/plain": [
       "array(['a', 'b', 'b', 'b'], dtype=object)"
      ]
     },
     "execution_count": 10,
     "metadata": {},
     "output_type": "execute_result"
    }
   ],
   "source": [
    "# 类别缺失值用频繁项填充\n",
    "from sklearn_pandas import CategoricalImputer\n",
    "data = np.array(['a', 'b', 'b', np.nan], dtype=object)\n",
    "imputer = CategoricalImputer()\n",
    "imputer.fit_transform(data)"
   ]
  }
 ],
 "metadata": {
  "anaconda-cloud": {},
  "kernelspec": {
   "display_name": "Python [conda root]",
   "language": "python",
   "name": "conda-root-py"
  },
  "language_info": {
   "codemirror_mode": {
    "name": "ipython",
    "version": 3
   },
   "file_extension": ".py",
   "mimetype": "text/x-python",
   "name": "python",
   "nbconvert_exporter": "python",
   "pygments_lexer": "ipython3",
   "version": "3.5.2"
  },
  "toc": {
   "colors": {
    "hover_highlight": "#DAA520",
    "running_highlight": "#FF0000",
    "selected_highlight": "#FFD700"
   },
   "moveMenuLeft": true,
   "nav_menu": {
    "height": "11px",
    "width": "252px"
   },
   "navigate_menu": true,
   "number_sections": true,
   "sideBar": true,
   "threshold": 4,
   "toc_cell": false,
   "toc_section_display": "block",
   "toc_window_display": false,
   "widenNotebook": false
  }
 },
 "nbformat": 4,
 "nbformat_minor": 1
}
