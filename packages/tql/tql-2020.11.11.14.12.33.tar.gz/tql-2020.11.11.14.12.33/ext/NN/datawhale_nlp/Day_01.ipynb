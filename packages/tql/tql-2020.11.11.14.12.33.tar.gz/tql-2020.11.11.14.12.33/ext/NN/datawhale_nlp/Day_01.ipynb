{
 "cells": [
  {
   "cell_type": "code",
   "execution_count": null,
   "metadata": {},
   "outputs": [],
   "source": [
    "import tensorflow as tf\n",
    "from tensorflow import keras\n",
    "\n",
    "import numpy as np\n",
    "import pandas as pd"
   ]
  },
  {
   "cell_type": "markdown",
   "metadata": {},
   "source": [
    "# TODO\n",
    "- 按Batch Pad"
   ]
  },
  {
   "cell_type": "code",
   "execution_count": 97,
   "metadata": {},
   "outputs": [
    {
     "data": {
      "text/plain": [
       "1    12500\n",
       "0    12500\n",
       "dtype: int64"
      ]
     },
     "execution_count": 97,
     "metadata": {},
     "output_type": "execute_result"
    }
   ],
   "source": [
    "imdb = keras.datasets.imdb\n",
    "(train_data, train_labels), (test_data, test_labels) = imdb.load_data(num_words=10000)\n",
    "pd.value_counts(train_labels)"
   ]
  },
  {
   "cell_type": "code",
   "execution_count": 98,
   "metadata": {},
   "outputs": [],
   "source": [
    "# A dictionary mapping words to an integer index\n",
    "\n",
    "word_index = imdb.get_word_index()\n",
    "\n",
    "# The first indices are reserved\n",
    "word_index = {k:(v+3) for k,v in word_index.items()}\n",
    "word_index[\"<PAD>\"] = 0\n",
    "word_index[\"<START>\"] = 1\n",
    "word_index[\"<UNK>\"] = 2  # unknown\n",
    "word_index[\"<UNUSED>\"] = 3\n",
    "\n",
    "reverse_word_index = dict([(value, key) for (key, value) in word_index.items()])\n",
    "\n",
    "def decode_review(text):\n",
    "    return ' '.join([reverse_word_index.get(i, '?') for i in text])"
   ]
  },
  {
   "cell_type": "code",
   "execution_count": 99,
   "metadata": {},
   "outputs": [
    {
     "data": {
      "text/plain": [
       "\"<START> this film was just brilliant casting location scenery story direction everyone's really suited the part they played and you could just imagine being there robert <UNK> is an amazing actor and now the same being director <UNK> father came from the same scottish island as myself so i loved the fact there was a real connection with this film the witty remarks throughout the film were great it was just brilliant so much that i bought the film as soon as it was released for <UNK> and would recommend it to everyone to watch and the fly fishing was amazing really cried at the end it was so sad and you know what they say if you cry at a film it must have been good and this definitely was also <UNK> to the two little boy's that played the <UNK> of norman and paul they were just brilliant children are often left out of the <UNK> list i think because the stars that play them all grown up are such a big profile for the whole film but these children are amazing and should be praised for what they have done don't you think the whole story was so lovely because it was true and was someone's life after all that was shared with us all\""
      ]
     },
     "execution_count": 99,
     "metadata": {},
     "output_type": "execute_result"
    }
   ],
   "source": [
    "decode_review(train_data[0])"
   ]
  },
  {
   "cell_type": "code",
   "execution_count": 146,
   "metadata": {},
   "outputs": [],
   "source": [
    "\n",
    "train_data = keras.preprocessing.sequence.pad_sequences(train_data,\n",
    "                                                        value=word_index[\"<PAD>\"],\n",
    "                                                        padding='post',\n",
    "                                                        maxlen=256)\n",
    "\n",
    "test_data = keras.preprocessing.sequence.pad_sequences(test_data,\n",
    "                                                       value=word_index[\"<PAD>\"],\n",
    "                                                       padding='post',\n",
    "                                                       maxlen=256)"
   ]
  },
  {
   "cell_type": "code",
   "execution_count": 151,
   "metadata": {},
   "outputs": [
    {
     "name": "stdout",
     "output_type": "stream",
     "text": [
      "_________________________________________________________________\n",
      "Layer (type)                 Output Shape              Param #   \n",
      "=================================================================\n",
      "embedding_17 (Embedding)     (None, None, 16)          160000    \n",
      "_________________________________________________________________\n",
      "global_average_pooling1d_17  (None, 16)                0         \n",
      "_________________________________________________________________\n",
      "dense_33 (Dense)             (None, 16)                272       \n",
      "_________________________________________________________________\n",
      "dense_34 (Dense)             (None, 1)                 17        \n",
      "=================================================================\n",
      "Total params: 160,289\n",
      "Trainable params: 160,289\n",
      "Non-trainable params: 0\n",
      "_________________________________________________________________\n"
     ]
    }
   ],
   "source": [
    "# input shape is the vocabulary count used for the movie reviews (10,000 words)\n",
    "vocab_size = 10000\n",
    "\n",
    "model = keras.Sequential()\n",
    "model.add(keras.layers.Embedding(vocab_size, 16))\n",
    "model.add(keras.layers.GlobalAveragePooling1D())\n",
    "model.add(keras.layers.Dense(16, activation=tf.nn.relu))\n",
    "model.add(keras.layers.Dense(1, activation=tf.nn.sigmoid))\n",
    "\n",
    "model.summary()"
   ]
  },
  {
   "cell_type": "code",
   "execution_count": 152,
   "metadata": {},
   "outputs": [],
   "source": [
    "keras.layers.GlobalAveragePooling1D?"
   ]
  },
  {
   "cell_type": "code",
   "execution_count": 157,
   "metadata": {},
   "outputs": [],
   "source": [
    "d = history.model.weights[1]"
   ]
  },
  {
   "cell_type": "code",
   "execution_count": null,
   "metadata": {},
   "outputs": [],
   "source": []
  },
  {
   "cell_type": "code",
   "execution_count": null,
   "metadata": {},
   "outputs": [],
   "source": []
  },
  {
   "cell_type": "code",
   "execution_count": 148,
   "metadata": {},
   "outputs": [],
   "source": [
    "model.compile(optimizer=tf.train.AdamOptimizer(),\n",
    "              loss='binary_crossentropy',\n",
    "              metrics=['accuracy'])"
   ]
  },
  {
   "cell_type": "code",
   "execution_count": 150,
   "metadata": {
    "scrolled": false
   },
   "outputs": [
    {
     "name": "stdout",
     "output_type": "stream",
     "text": [
      "Train on 15000 samples, validate on 10000 samples\n",
      "Epoch 1/40\n",
      "15000/15000 [==============================] - 1s 35us/step - loss: 8.0275 - acc: 0.4965 - val_loss: 7.8867 - val_acc: 0.5053\n",
      "Epoch 2/40\n",
      "15000/15000 [==============================] - 1s 35us/step - loss: 8.0275 - acc: 0.4965 - val_loss: 7.8867 - val_acc: 0.5053\n",
      "Epoch 3/40\n",
      "15000/15000 [==============================] - 1s 35us/step - loss: 8.0275 - acc: 0.4965 - val_loss: 7.8867 - val_acc: 0.5053\n",
      "Epoch 4/40\n",
      "15000/15000 [==============================] - 1s 35us/step - loss: 8.0275 - acc: 0.4965 - val_loss: 7.8867 - val_acc: 0.5053\n",
      "Epoch 5/40\n",
      "15000/15000 [==============================] - 1s 35us/step - loss: 8.0275 - acc: 0.4965 - val_loss: 7.8867 - val_acc: 0.5053\n",
      "Epoch 6/40\n",
      "15000/15000 [==============================] - 1s 35us/step - loss: 8.0275 - acc: 0.4965 - val_loss: 7.8867 - val_acc: 0.5053\n",
      "Epoch 7/40\n",
      "15000/15000 [==============================] - 1s 35us/step - loss: 8.0275 - acc: 0.4965 - val_loss: 7.8867 - val_acc: 0.5053\n",
      "Epoch 8/40\n",
      "15000/15000 [==============================] - 1s 35us/step - loss: 8.0275 - acc: 0.4965 - val_loss: 7.8867 - val_acc: 0.5053\n",
      "Epoch 9/40\n",
      "15000/15000 [==============================] - 1s 35us/step - loss: 8.0275 - acc: 0.4965 - val_loss: 7.8867 - val_acc: 0.5053\n",
      "Epoch 10/40\n",
      "15000/15000 [==============================] - 1s 35us/step - loss: 8.0275 - acc: 0.4965 - val_loss: 7.8867 - val_acc: 0.5053\n",
      "Epoch 11/40\n",
      "15000/15000 [==============================] - 1s 36us/step - loss: 8.0275 - acc: 0.4965 - val_loss: 7.8867 - val_acc: 0.5053\n",
      "Epoch 12/40\n",
      "15000/15000 [==============================] - 1s 34us/step - loss: 8.0275 - acc: 0.4965 - val_loss: 7.8867 - val_acc: 0.5053\n",
      "Epoch 13/40\n",
      "15000/15000 [==============================] - 1s 35us/step - loss: 8.0275 - acc: 0.4965 - val_loss: 7.8867 - val_acc: 0.5053\n",
      "Epoch 14/40\n",
      "15000/15000 [==============================] - 1s 36us/step - loss: 8.0275 - acc: 0.4965 - val_loss: 7.8867 - val_acc: 0.5053\n",
      "Epoch 15/40\n",
      "15000/15000 [==============================] - 1s 35us/step - loss: 8.0275 - acc: 0.4965 - val_loss: 7.8867 - val_acc: 0.5053\n",
      "Epoch 16/40\n",
      "15000/15000 [==============================] - 1s 35us/step - loss: 8.0275 - acc: 0.4965 - val_loss: 7.8867 - val_acc: 0.5053\n",
      "Epoch 17/40\n",
      "15000/15000 [==============================] - 1s 35us/step - loss: 8.0275 - acc: 0.4965 - val_loss: 7.8867 - val_acc: 0.5053\n",
      "Epoch 18/40\n",
      "15000/15000 [==============================] - 1s 35us/step - loss: 8.0275 - acc: 0.4965 - val_loss: 7.8867 - val_acc: 0.5053\n",
      "Epoch 19/40\n",
      "15000/15000 [==============================] - 1s 35us/step - loss: 8.0275 - acc: 0.4965 - val_loss: 7.8867 - val_acc: 0.5053\n",
      "Epoch 20/40\n",
      "15000/15000 [==============================] - 1s 35us/step - loss: 8.0275 - acc: 0.4965 - val_loss: 7.8867 - val_acc: 0.5053\n",
      "Epoch 21/40\n",
      "15000/15000 [==============================] - 1s 35us/step - loss: 8.0275 - acc: 0.4965 - val_loss: 7.8867 - val_acc: 0.5053\n",
      "Epoch 22/40\n",
      "15000/15000 [==============================] - 1s 35us/step - loss: 8.0275 - acc: 0.4965 - val_loss: 7.8867 - val_acc: 0.5053\n",
      "Epoch 23/40\n",
      "15000/15000 [==============================] - 1s 35us/step - loss: 8.0275 - acc: 0.4965 - val_loss: 7.8867 - val_acc: 0.5053\n",
      "Epoch 24/40\n",
      "15000/15000 [==============================] - 1s 35us/step - loss: 8.0275 - acc: 0.4965 - val_loss: 7.8867 - val_acc: 0.5053\n",
      "Epoch 25/40\n",
      "15000/15000 [==============================] - 1s 35us/step - loss: 8.0275 - acc: 0.4965 - val_loss: 7.8867 - val_acc: 0.5053\n",
      "Epoch 26/40\n",
      "15000/15000 [==============================] - 1s 35us/step - loss: 8.0275 - acc: 0.4965 - val_loss: 7.8867 - val_acc: 0.5053\n",
      "Epoch 27/40\n",
      "15000/15000 [==============================] - 1s 35us/step - loss: 8.0275 - acc: 0.4965 - val_loss: 7.8867 - val_acc: 0.5053\n",
      "Epoch 28/40\n",
      "15000/15000 [==============================] - 1s 35us/step - loss: 8.0275 - acc: 0.4965 - val_loss: 7.8867 - val_acc: 0.5053\n",
      "Epoch 29/40\n",
      "15000/15000 [==============================] - 1s 34us/step - loss: 8.0275 - acc: 0.4965 - val_loss: 7.8867 - val_acc: 0.5053\n",
      "Epoch 30/40\n",
      "15000/15000 [==============================] - 1s 35us/step - loss: 8.0275 - acc: 0.4965 - val_loss: 7.8867 - val_acc: 0.5053\n",
      "Epoch 31/40\n",
      "15000/15000 [==============================] - 1s 35us/step - loss: 8.0275 - acc: 0.4965 - val_loss: 7.8867 - val_acc: 0.5053\n",
      "Epoch 32/40\n",
      "15000/15000 [==============================] - 1s 35us/step - loss: 8.0275 - acc: 0.4965 - val_loss: 7.8867 - val_acc: 0.5053\n",
      "Epoch 33/40\n",
      "15000/15000 [==============================] - 1s 35us/step - loss: 8.0275 - acc: 0.4965 - val_loss: 7.8867 - val_acc: 0.5053\n",
      "Epoch 34/40\n",
      "15000/15000 [==============================] - 1s 35us/step - loss: 8.0275 - acc: 0.4965 - val_loss: 7.8867 - val_acc: 0.5053\n",
      "Epoch 35/40\n",
      "15000/15000 [==============================] - 1s 35us/step - loss: 8.0275 - acc: 0.4965 - val_loss: 7.8867 - val_acc: 0.5053\n",
      "Epoch 36/40\n",
      "15000/15000 [==============================] - 1s 36us/step - loss: 8.0275 - acc: 0.4965 - val_loss: 7.8867 - val_acc: 0.5053\n",
      "Epoch 37/40\n",
      "15000/15000 [==============================] - 1s 36us/step - loss: 8.0275 - acc: 0.4965 - val_loss: 7.8867 - val_acc: 0.5053\n",
      "Epoch 38/40\n",
      "15000/15000 [==============================] - 1s 35us/step - loss: 8.0275 - acc: 0.4965 - val_loss: 7.8867 - val_acc: 0.5053\n",
      "Epoch 39/40\n",
      "15000/15000 [==============================] - 1s 35us/step - loss: 8.0275 - acc: 0.4965 - val_loss: 7.8867 - val_acc: 0.5053\n",
      "Epoch 40/40\n",
      "15000/15000 [==============================] - 1s 35us/step - loss: 8.0275 - acc: 0.4965 - val_loss: 7.8867 - val_acc: 0.5053\n"
     ]
    }
   ],
   "source": [
    "history = model.fit(partial_x_train,\n",
    "                    partial_y_train,\n",
    "                    epochs=40,\n",
    "                    batch_size=512,\n",
    "                    validation_data=(x_val, y_val))"
   ]
  },
  {
   "cell_type": "code",
   "execution_count": 119,
   "metadata": {},
   "outputs": [
    {
     "data": {
      "text/plain": [
       "dict_keys(['val_acc', 'acc', 'loss', 'val_loss'])"
      ]
     },
     "execution_count": 119,
     "metadata": {},
     "output_type": "execute_result"
    }
   ],
   "source": [
    "history_dict = history.history\n",
    "history_dict.keys()"
   ]
  },
  {
   "cell_type": "code",
   "execution_count": 123,
   "metadata": {},
   "outputs": [
    {
     "data": {
      "image/png": "[encoded data removed]",
      "text/plain": [
       "<Figure size 432x288 with 1 Axes>"
      ]
     },
     "metadata": {
      "needs_background": "light"
     },
     "output_type": "display_data"
    }
   ],
   "source": [
    "import matplotlib.pyplot as plt\n",
    "\n",
    "acc = history.history['acc']\n",
    "val_acc = history.history['val_acc']\n",
    "loss = history.history['loss']\n",
    "val_loss = history.history['val_loss']\n",
    "\n",
    "epochs = range(1, len(acc) + 1)\n",
    "\n",
    "# \"bo\" is for \"blue dot\"\n",
    "plt.plot(epochs, loss, 'bo', label='Training loss')\n",
    "# b is for \"solid blue line\"\n",
    "plt.plot(epochs, val_loss, 'b', label='Validation loss')\n",
    "\n",
    "\n",
    "plt.title('Training and validation loss')\n",
    "plt.xlabel('Epochs')\n",
    "plt.ylabel('Loss')\n",
    "plt.legend()\n",
    "\n",
    "plt.show()"
   ]
  },
  {
   "cell_type": "code",
   "execution_count": 124,
   "metadata": {},
   "outputs": [
    {
     "data": {
      "image/png": "[encoded data removed]",
      "text/plain": [
       "<Figure size 432x288 with 1 Axes>"
      ]
     },
     "metadata": {
      "needs_background": "light"
     },
     "output_type": "display_data"
    }
   ],
   "source": [
    "plt.clf()   # clear figure\n",
    "acc_values = history_dict['acc']\n",
    "val_acc_values = history_dict['val_acc']\n",
    "\n",
    "plt.plot(epochs, acc, 'bo', label='Training acc')\n",
    "plt.plot(epochs, val_acc, 'b', label='Validation acc')\n",
    "plt.title('Training and validation accuracy')\n",
    "plt.xlabel('Epochs')\n",
    "plt.ylabel('Accuracy')\n",
    "plt.legend()\n",
    "\n",
    "plt.show()"
   ]
  },
  {
   "cell_type": "code",
   "execution_count": null,
   "metadata": {},
   "outputs": [],
   "source": []
  },
  {
   "cell_type": "code",
   "execution_count": null,
   "metadata": {},
   "outputs": [],
   "source": []
  }
 ],
 "metadata": {
  "kernelspec": {
   "display_name": "Python 3",
   "language": "python",
   "name": "python3"
  },
  "language_info": {
   "codemirror_mode": {
    "name": "ipython",
    "version": 3
   },
   "file_extension": ".py",
   "mimetype": "text/x-python",
   "name": "python",
   "nbconvert_exporter": "python",
   "pygments_lexer": "ipython3",
   "version": "3.5.2"
  }
 },
 "nbformat": 4,
 "nbformat_minor": 2
}
